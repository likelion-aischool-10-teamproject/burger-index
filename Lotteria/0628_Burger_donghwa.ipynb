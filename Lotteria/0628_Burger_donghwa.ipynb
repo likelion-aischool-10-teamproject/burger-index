{
 "cells": [
  {
   "cell_type": "code",
   "execution_count": null,
   "metadata": {},
   "outputs": [],
   "source": [
    "from urllib.request import urlopen\n",
    "from bs4 import BeautifulSoup\n",
    "from selenium import webdriver\n",
    "\n",
    "import os, warnings # 경고메세지 라이브러리\n",
    "import re   # 정규표현식\n",
    "warnings.filterwarnings(action='ignore') # 경고메세지 무시\n",
    "\n",
    "import time"
   ]
  },
  {
   "cell_type": "code",
   "execution_count": 2,
   "metadata": {},
   "outputs": [],
   "source": [
    "driver = webdriver.Chrome('../chromedriver')"
   ]
  },
  {
   "cell_type": "code",
   "execution_count": 9,
   "metadata": {},
   "outputs": [],
   "source": [
    "url = 'http://www.lotteria.com/Shop/Shop_List.asp#devCallShopList'\n",
    "driver.get(url)"
   ]
  },
  {
   "cell_type": "code",
   "execution_count": null,
   "metadata": {},
   "outputs": [],
   "source": [
    "btn_store = driver.find_element_by_xpath('//*[@id=\"devCallShopList\"]/div[1]/div[2]/table/tbody/tr[3]/td[1]/a')\n",
    "print(btn_store.text)\n",
    "# btn_store.click()"
   ]
  },
  {
   "cell_type": "code",
   "execution_count": null,
   "metadata": {},
   "outputs": [],
   "source": [
    "store = driver.find_element_by_xpath('//*[@id=\"content\"]/div/div[3]/div[2]/table/tbody/tr[1]/td/span')\n",
    "print(store.text)"
   ]
  },
  {
   "cell_type": "code",
   "execution_count": null,
   "metadata": {},
   "outputs": [],
   "source": [
    "driver.back()"
   ]
  },
  {
   "cell_type": "code",
   "execution_count": null,
   "metadata": {},
   "outputs": [],
   "source": [
    "# 한 페이지만\n",
    "\"\"\"\n",
    "아산장재 //*[@id=\"devCallShopList\"]/div[1]/div[2]/table/tbody/tr[2]/td[1]/a\n",
    "수원파장 //*[@id=\"devCallShopList\"]/div[1]/div[2]/table/tbody/tr[3]/td[1]/a\n",
    "...\n",
    "\n",
    "의정부고산 //*[@id=\"devCallShopList\"]/div[1]/div[2]/table/tbody/tr[11]/td[1]/a\n",
    "\"\"\"\n",
    "\n",
    "url = 'http://www.lotteria.com/Shop/Shop_List.asp#devCallShopList'\n",
    "driver.get(url)\n",
    "time.sleep(2)\n",
    "\n",
    "store = []\n",
    "addr = []\n",
    "for i in range(2, 12):\n",
    "    \n",
    "    try :\n",
    "        btn_store = driver.find_element_by_xpath(f'//*[@id=\"devCallShopList\"]/div[1]/div[2]/table/tbody/tr[{i}]/td[1]/a')\n",
    "        store.append(btn_store.text)\n",
    "        btn_store.click()\n",
    "    except :\n",
    "        print(i,\"btn_store\")\n",
    "    \n",
    "    try :\n",
    "        addr_tag = driver.find_element_by_xpath('//*[@id=\"content\"]/div/div[3]/div[2]/table/tbody/tr[1]/td/span')\n",
    "        addr.append(addr_tag.text)\n",
    "    except :\n",
    "        print(i, \"store\")\n",
    "    \n",
    "    driver.back()\n",
    "    time.sleep(1)\n",
    "\n",
    "print(store)\n",
    "print(addr)\n"
   ]
  },
  {
   "cell_type": "code",
   "execution_count": 4,
   "metadata": {},
   "outputs": [],
   "source": [
    "btn_next = driver.find_element_by_xpath('//*[@id=\"devCallShopList\"]/div[2]/span/a[3]')\n",
    "btn_next.click()"
   ]
  },
  {
   "cell_type": "code",
   "execution_count": 24,
   "metadata": {},
   "outputs": [
    {
     "name": "stdout",
     "output_type": "stream",
     "text": [
      "1 페이지 출력 완료\n",
      "2 페이지 출력 완료\n",
      "3 페이지 출력 완료\n",
      "4 페이지 출력 완료\n",
      "페이지 수 : 5\n",
      "5 페이지 출력 완료\n",
      "6 페이지 출력 완료\n",
      "7 페이지 출력 완료\n",
      "8 페이지 출력 완료\n",
      "9 페이지 출력 완료\n",
      "10 페이지 출력 완료\n",
      "페이지 수 : 11\n",
      "11 페이지 출력 완료\n",
      "페이지 수 : 12\n",
      "12 페이지 출력 완료\n",
      "페이지 수 : 13\n",
      "13 페이지 출력 완료\n",
      "페이지 수 : 14\n",
      "14 페이지 출력 완료\n",
      "15 페이지 출력 완료\n",
      "16 페이지 출력 완료\n",
      "17 페이지 출력 완료\n",
      "페이지 수 : 18\n",
      "18 페이지 출력 완료\n",
      "19 페이지 출력 완료\n",
      "페이지 수 : 20\n",
      "20 페이지 출력 완료\n",
      "21 페이지 출력 완료\n",
      "페이지 수 : 22\n",
      "22 페이지 출력 완료\n",
      "페이지 수 : 23\n",
      "23 페이지 출력 완료\n",
      "페이지 수 : 24\n",
      "2 btn_store\n",
      "2 addr_tag\n"
     ]
    },
    {
     "ename": "NoSuchElementException",
     "evalue": "Message: no such element: Unable to locate element: {\"method\":\"xpath\",\"selector\":\"//*[@id=\"btnList\"]/img\"}\n  (Session info: chrome=91.0.4472.114)\n",
     "output_type": "error",
     "traceback": [
      "\u001b[0;31m---------------------------------------------------------------------------\u001b[0m",
      "\u001b[0;31mNoSuchElementException\u001b[0m                    Traceback (most recent call last)",
      "\u001b[0;32m<ipython-input-24-3d47f73dc181>\u001b[0m in \u001b[0;36m<module>\u001b[0;34m\u001b[0m\n\u001b[1;32m     33\u001b[0m             \u001b[0mprint\u001b[0m\u001b[0;34m(\u001b[0m\u001b[0mi\u001b[0m\u001b[0;34m,\u001b[0m \u001b[0;34m\"addr_tag\"\u001b[0m\u001b[0;34m)\u001b[0m\u001b[0;34m\u001b[0m\u001b[0;34m\u001b[0m\u001b[0m\n\u001b[1;32m     34\u001b[0m \u001b[0;34m\u001b[0m\u001b[0m\n\u001b[0;32m---> 35\u001b[0;31m         \u001b[0mbtn_back\u001b[0m \u001b[0;34m=\u001b[0m \u001b[0mdriver\u001b[0m\u001b[0;34m.\u001b[0m\u001b[0mfind_element_by_xpath\u001b[0m\u001b[0;34m(\u001b[0m\u001b[0;34m'//*[@id=\"btnList\"]/img'\u001b[0m\u001b[0;34m)\u001b[0m\u001b[0;34m\u001b[0m\u001b[0;34m\u001b[0m\u001b[0m\n\u001b[0m\u001b[1;32m     36\u001b[0m         \u001b[0mbtn_back\u001b[0m\u001b[0;34m.\u001b[0m\u001b[0mclick\u001b[0m\u001b[0;34m(\u001b[0m\u001b[0;34m)\u001b[0m\u001b[0;34m\u001b[0m\u001b[0;34m\u001b[0m\u001b[0m\n\u001b[1;32m     37\u001b[0m         \u001b[0mtime\u001b[0m\u001b[0;34m.\u001b[0m\u001b[0msleep\u001b[0m\u001b[0;34m(\u001b[0m\u001b[0;36m1\u001b[0m\u001b[0;34m)\u001b[0m\u001b[0;34m\u001b[0m\u001b[0;34m\u001b[0m\u001b[0m\n",
      "\u001b[0;32m/opt/anaconda3/lib/python3.8/site-packages/selenium/webdriver/remote/webdriver.py\u001b[0m in \u001b[0;36mfind_element_by_xpath\u001b[0;34m(self, xpath)\u001b[0m\n\u001b[1;32m    392\u001b[0m             \u001b[0melement\u001b[0m \u001b[0;34m=\u001b[0m \u001b[0mdriver\u001b[0m\u001b[0;34m.\u001b[0m\u001b[0mfind_element_by_xpath\u001b[0m\u001b[0;34m(\u001b[0m\u001b[0;34m'//div/td[1]'\u001b[0m\u001b[0;34m)\u001b[0m\u001b[0;34m\u001b[0m\u001b[0;34m\u001b[0m\u001b[0m\n\u001b[1;32m    393\u001b[0m         \"\"\"\n\u001b[0;32m--> 394\u001b[0;31m         \u001b[0;32mreturn\u001b[0m \u001b[0mself\u001b[0m\u001b[0;34m.\u001b[0m\u001b[0mfind_element\u001b[0m\u001b[0;34m(\u001b[0m\u001b[0mby\u001b[0m\u001b[0;34m=\u001b[0m\u001b[0mBy\u001b[0m\u001b[0;34m.\u001b[0m\u001b[0mXPATH\u001b[0m\u001b[0;34m,\u001b[0m \u001b[0mvalue\u001b[0m\u001b[0;34m=\u001b[0m\u001b[0mxpath\u001b[0m\u001b[0;34m)\u001b[0m\u001b[0;34m\u001b[0m\u001b[0;34m\u001b[0m\u001b[0m\n\u001b[0m\u001b[1;32m    395\u001b[0m \u001b[0;34m\u001b[0m\u001b[0m\n\u001b[1;32m    396\u001b[0m     \u001b[0;32mdef\u001b[0m \u001b[0mfind_elements_by_xpath\u001b[0m\u001b[0;34m(\u001b[0m\u001b[0mself\u001b[0m\u001b[0;34m,\u001b[0m \u001b[0mxpath\u001b[0m\u001b[0;34m)\u001b[0m\u001b[0;34m:\u001b[0m\u001b[0;34m\u001b[0m\u001b[0;34m\u001b[0m\u001b[0m\n",
      "\u001b[0;32m/opt/anaconda3/lib/python3.8/site-packages/selenium/webdriver/remote/webdriver.py\u001b[0m in \u001b[0;36mfind_element\u001b[0;34m(self, by, value)\u001b[0m\n\u001b[1;32m    974\u001b[0m                 \u001b[0mby\u001b[0m \u001b[0;34m=\u001b[0m \u001b[0mBy\u001b[0m\u001b[0;34m.\u001b[0m\u001b[0mCSS_SELECTOR\u001b[0m\u001b[0;34m\u001b[0m\u001b[0;34m\u001b[0m\u001b[0m\n\u001b[1;32m    975\u001b[0m                 \u001b[0mvalue\u001b[0m \u001b[0;34m=\u001b[0m \u001b[0;34m'[name=\"%s\"]'\u001b[0m \u001b[0;34m%\u001b[0m \u001b[0mvalue\u001b[0m\u001b[0;34m\u001b[0m\u001b[0;34m\u001b[0m\u001b[0m\n\u001b[0;32m--> 976\u001b[0;31m         return self.execute(Command.FIND_ELEMENT, {\n\u001b[0m\u001b[1;32m    977\u001b[0m             \u001b[0;34m'using'\u001b[0m\u001b[0;34m:\u001b[0m \u001b[0mby\u001b[0m\u001b[0;34m,\u001b[0m\u001b[0;34m\u001b[0m\u001b[0;34m\u001b[0m\u001b[0m\n\u001b[1;32m    978\u001b[0m             'value': value})['value']\n",
      "\u001b[0;32m/opt/anaconda3/lib/python3.8/site-packages/selenium/webdriver/remote/webdriver.py\u001b[0m in \u001b[0;36mexecute\u001b[0;34m(self, driver_command, params)\u001b[0m\n\u001b[1;32m    319\u001b[0m         \u001b[0mresponse\u001b[0m \u001b[0;34m=\u001b[0m \u001b[0mself\u001b[0m\u001b[0;34m.\u001b[0m\u001b[0mcommand_executor\u001b[0m\u001b[0;34m.\u001b[0m\u001b[0mexecute\u001b[0m\u001b[0;34m(\u001b[0m\u001b[0mdriver_command\u001b[0m\u001b[0;34m,\u001b[0m \u001b[0mparams\u001b[0m\u001b[0;34m)\u001b[0m\u001b[0;34m\u001b[0m\u001b[0;34m\u001b[0m\u001b[0m\n\u001b[1;32m    320\u001b[0m         \u001b[0;32mif\u001b[0m \u001b[0mresponse\u001b[0m\u001b[0;34m:\u001b[0m\u001b[0;34m\u001b[0m\u001b[0;34m\u001b[0m\u001b[0m\n\u001b[0;32m--> 321\u001b[0;31m             \u001b[0mself\u001b[0m\u001b[0;34m.\u001b[0m\u001b[0merror_handler\u001b[0m\u001b[0;34m.\u001b[0m\u001b[0mcheck_response\u001b[0m\u001b[0;34m(\u001b[0m\u001b[0mresponse\u001b[0m\u001b[0;34m)\u001b[0m\u001b[0;34m\u001b[0m\u001b[0;34m\u001b[0m\u001b[0m\n\u001b[0m\u001b[1;32m    322\u001b[0m             response['value'] = self._unwrap_value(\n\u001b[1;32m    323\u001b[0m                 response.get('value', None))\n",
      "\u001b[0;32m/opt/anaconda3/lib/python3.8/site-packages/selenium/webdriver/remote/errorhandler.py\u001b[0m in \u001b[0;36mcheck_response\u001b[0;34m(self, response)\u001b[0m\n\u001b[1;32m    240\u001b[0m                 \u001b[0malert_text\u001b[0m \u001b[0;34m=\u001b[0m \u001b[0mvalue\u001b[0m\u001b[0;34m[\u001b[0m\u001b[0;34m'alert'\u001b[0m\u001b[0;34m]\u001b[0m\u001b[0;34m.\u001b[0m\u001b[0mget\u001b[0m\u001b[0;34m(\u001b[0m\u001b[0;34m'text'\u001b[0m\u001b[0;34m)\u001b[0m\u001b[0;34m\u001b[0m\u001b[0;34m\u001b[0m\u001b[0m\n\u001b[1;32m    241\u001b[0m             \u001b[0;32mraise\u001b[0m \u001b[0mexception_class\u001b[0m\u001b[0;34m(\u001b[0m\u001b[0mmessage\u001b[0m\u001b[0;34m,\u001b[0m \u001b[0mscreen\u001b[0m\u001b[0;34m,\u001b[0m \u001b[0mstacktrace\u001b[0m\u001b[0;34m,\u001b[0m \u001b[0malert_text\u001b[0m\u001b[0;34m)\u001b[0m\u001b[0;34m\u001b[0m\u001b[0;34m\u001b[0m\u001b[0m\n\u001b[0;32m--> 242\u001b[0;31m         \u001b[0;32mraise\u001b[0m \u001b[0mexception_class\u001b[0m\u001b[0;34m(\u001b[0m\u001b[0mmessage\u001b[0m\u001b[0;34m,\u001b[0m \u001b[0mscreen\u001b[0m\u001b[0;34m,\u001b[0m \u001b[0mstacktrace\u001b[0m\u001b[0;34m)\u001b[0m\u001b[0;34m\u001b[0m\u001b[0;34m\u001b[0m\u001b[0m\n\u001b[0m\u001b[1;32m    243\u001b[0m \u001b[0;34m\u001b[0m\u001b[0m\n\u001b[1;32m    244\u001b[0m     \u001b[0;32mdef\u001b[0m \u001b[0m_value_or_default\u001b[0m\u001b[0;34m(\u001b[0m\u001b[0mself\u001b[0m\u001b[0;34m,\u001b[0m \u001b[0mobj\u001b[0m\u001b[0;34m,\u001b[0m \u001b[0mkey\u001b[0m\u001b[0;34m,\u001b[0m \u001b[0mdefault\u001b[0m\u001b[0;34m)\u001b[0m\u001b[0;34m:\u001b[0m\u001b[0;34m\u001b[0m\u001b[0;34m\u001b[0m\u001b[0m\n",
      "\u001b[0;31mNoSuchElementException\u001b[0m: Message: no such element: Unable to locate element: {\"method\":\"xpath\",\"selector\":\"//*[@id=\"btnList\"]/img\"}\n  (Session info: chrome=91.0.4472.114)\n"
     ]
    }
   ],
   "source": [
    "\"\"\"\n",
    "2 버튼 //*[@id=\"devCallShopList\"]/div[2]/span/a[3]\n",
    "3 버튼 //*[@id=\"devCallShopList\"]/div[2]/span/a[4]\n",
    "...\n",
    "10 버튼 //*[@id=\"devCallShopList\"]/div[2]/span/a[11]\n",
    "▸ 버튼 //*[@id=\"devCallShopList\"]/div[2]/span/a[12]/img\n",
    "\"\"\"\n",
    "\n",
    "url = 'http://www.lotteria.com/Shop/Shop_List.asp#devCallShopList'\n",
    "driver.get(url)\n",
    "time.sleep(2)\n",
    "\n",
    "store = []\n",
    "addr = []\n",
    "npage = 1\n",
    "# for j in range(3,12):\n",
    "while npage!= 130 :\n",
    "    \n",
    "    for i in range(2, 3):\n",
    "        time.sleep(1)\n",
    "        try :\n",
    "            btn_store = driver.find_element_by_xpath(f'//*[@id=\"devCallShopList\"]/div[1]/div[2]/table/tbody/tr[{i}]/td[1]/a')\n",
    "            store.append(btn_store.text)\n",
    "            btn_store.click()\n",
    "            time.sleep(1)\n",
    "        except :\n",
    "            print(i,\"btn_store\")\n",
    "    \n",
    "        try :     \n",
    "            addr_tag = driver.find_element_by_xpath('//*[@id=\"content\"]/div/div[3]/div[2]/table/tbody/tr[1]/td/span')\n",
    "            addr.append(addr_tag.text)\n",
    "        except :\n",
    "            print(i, \"addr_tag\")\n",
    "        \n",
    "        btn_back = driver.find_element_by_xpath('//*[@id=\"btnList\"]/img')\n",
    "        btn_back.click()\n",
    "        time.sleep(2)\n",
    "    \n",
    "    print(\"%d 페이지 출력 완료\"%npage)\n",
    "    npage += 1\n",
    "    try :\n",
    "        if npage%10==1 :\n",
    "            btn_next = driver.find_element_by_xpath('//*[@id=\"devCallShopList\"]/div[2]/span/a[12]/img')\n",
    "        elif npage%10==0 :\n",
    "            btn_next = driver.find_element_by_xpath('//*[@id=\"devCallShopList\"]/div[2]/span/a[11]')\n",
    "        else :\n",
    "            btn_next = driver.find_element_by_xpath(f'//*[@id=\"devCallShopList\"]/div[2]/span/a[{npage%10+1}]')\n",
    "        btn_next.click()\n",
    "        time.sleep(2)\n",
    "    except :\n",
    "        print(\"페이지 수 :\", npage)\n",
    "#         break\n",
    "\n",
    "\n",
    "print(store)\n",
    "print(addr)\n"
   ]
  },
  {
   "cell_type": "code",
   "execution_count": 15,
   "metadata": {},
   "outputs": [
    {
     "data": {
      "text/plain": [
       "22"
      ]
     },
     "execution_count": 15,
     "metadata": {},
     "output_type": "execute_result"
    }
   ],
   "source": [
    "### 무언가를 클릭한 다음에는 꼭 time.sleep()을 넣어주자!"
   ]
  },
  {
   "cell_type": "code",
   "execution_count": 25,
   "metadata": {},
   "outputs": [],
   "source": [
    "LOTTERIA_URL = 'http://www.lotteria.com/Shop/Shop_Ajax.asp'\n",
    "LOTTERIA_VALUES = {\n",
    "    'Page': 1, 'PageSize': 2000, 'BlockSize': 2000,\n",
    "    'SearchArea1': '', 'SearchArea2': '', 'SearchType': \"TEXT\",\n",
    "    'SearchText': '', 'SearchIs24H': '', 'SearchIsWifi': '',\n",
    "    'SearchIsDT': '', 'SearchIsHomeService': '', 'SearchIsGroupOrder': '',\n",
    "    'SearchIsEvent': ''}\n",
    "LOTTERIA_HEADERS = {\n",
    "    'User-Agent': 'Mozilla/5.0 (Macintosh; Intel Mac OS X 10.10; rv:12.0) Gecko/20100101',\n",
    "    'Host': 'www.lotteria.com',\n",
    "    'Accept': 'text/html, */*; q=0.01',\n",
    "    'Accept-Language': 'en-us,en;q=0.5',\n",
    "    'Content-Type': 'application/x-www-form-urlencoded; charset=UTF-8',\n",
    "    'X-Requested-With': 'XMLHttpRequest',\n",
    "    'Referer': 'http://www.lotteria.com/Shop/Shop_List.asp?Page=1&PageSize=2000&BlockSize=2000&Se'\n",
    "               'archArea1=&SearchArea2=&SearchType=TEXT&SearchText=&SearchIs24H=&SearchIsWifi=&Se'\n",
    "               'archIsDT=&SearchIsHomeService=&SearchIsGroupOrder=&SearchIsEvent=',\n",
    "}"
   ]
  },
  {
   "cell_type": "code",
   "execution_count": 28,
   "metadata": {},
   "outputs": [],
   "source": [
    "import urllib\n",
    "import bs4\n",
    "\n",
    "postdata = urllib.parse.urlencode(LOTTERIA_VALUES).encode('utf-8')\n",
    "req = urllib.request.Request(LOTTERIA_URL, postdata, LOTTERIA_HEADERS)\n",
    "response = urllib.request.urlopen(req)\n",
    "ltr_data = response.read().decode('utf-8')\n",
    "soup = bs4.BeautifulSoup(ltr_data)"
   ]
  },
  {
   "cell_type": "code",
   "execution_count": 37,
   "metadata": {},
   "outputs": [
    {
     "ename": "IndexError",
     "evalue": "list index out of range",
     "output_type": "error",
     "traceback": [
      "\u001b[0;31m---------------------------------------------------------------------------\u001b[0m",
      "\u001b[0;31mIndexError\u001b[0m                                Traceback (most recent call last)",
      "\u001b[0;32m<ipython-input-37-f370717f4913>\u001b[0m in \u001b[0;36m<module>\u001b[0;34m\u001b[0m\n\u001b[1;32m      1\u001b[0m \u001b[0mfound\u001b[0m \u001b[0;34m=\u001b[0m \u001b[0;34m[\u001b[0m\u001b[0;34m]\u001b[0m\u001b[0;34m\u001b[0m\u001b[0;34m\u001b[0m\u001b[0m\n\u001b[1;32m      2\u001b[0m \u001b[0;32mfor\u001b[0m \u001b[0mtag\u001b[0m \u001b[0;32min\u001b[0m \u001b[0msoup\u001b[0m\u001b[0;34m.\u001b[0m\u001b[0mfindAll\u001b[0m\u001b[0;34m(\u001b[0m\u001b[0;34m'tr'\u001b[0m\u001b[0;34m,\u001b[0m \u001b[0;34m{\u001b[0m\u001b[0;34m'class'\u001b[0m\u001b[0;34m:\u001b[0m \u001b[0;34m'shopSearch'\u001b[0m\u001b[0;34m}\u001b[0m\u001b[0;34m)\u001b[0m\u001b[0;34m:\u001b[0m\u001b[0;34m\u001b[0m\u001b[0;34m\u001b[0m\u001b[0m\n\u001b[0;32m----> 3\u001b[0;31m     subtag = [tag.findAll('td', {'style': 'padding-right:10px;'}\n\u001b[0m\u001b[1;32m      4\u001b[0m                           )[i].contents[0].contents[0]\n\u001b[1;32m      5\u001b[0m               for i in (0, 1)]\n",
      "\u001b[0;32m<ipython-input-37-f370717f4913>\u001b[0m in \u001b[0;36m<listcomp>\u001b[0;34m(.0)\u001b[0m\n\u001b[1;32m      1\u001b[0m \u001b[0mfound\u001b[0m \u001b[0;34m=\u001b[0m \u001b[0;34m[\u001b[0m\u001b[0;34m]\u001b[0m\u001b[0;34m\u001b[0m\u001b[0;34m\u001b[0m\u001b[0m\n\u001b[1;32m      2\u001b[0m \u001b[0;32mfor\u001b[0m \u001b[0mtag\u001b[0m \u001b[0;32min\u001b[0m \u001b[0msoup\u001b[0m\u001b[0;34m.\u001b[0m\u001b[0mfindAll\u001b[0m\u001b[0;34m(\u001b[0m\u001b[0;34m'tr'\u001b[0m\u001b[0;34m,\u001b[0m \u001b[0;34m{\u001b[0m\u001b[0;34m'class'\u001b[0m\u001b[0;34m:\u001b[0m \u001b[0;34m'shopSearch'\u001b[0m\u001b[0;34m}\u001b[0m\u001b[0;34m)\u001b[0m\u001b[0;34m:\u001b[0m\u001b[0;34m\u001b[0m\u001b[0;34m\u001b[0m\u001b[0m\n\u001b[0;32m----> 3\u001b[0;31m     subtag = [tag.findAll('td', {'style': 'padding-right:10px;'}\n\u001b[0m\u001b[1;32m      4\u001b[0m                           )[i].contents[0].contents[0]\n\u001b[1;32m      5\u001b[0m               for i in (0, 1)]\n",
      "\u001b[0;31mIndexError\u001b[0m: list index out of range"
     ]
    }
   ],
   "source": [
    "found = []\n",
    "for tag in soup.findAll('tr', {'class': 'shopSearch'}):\n",
    "    subtag = [tag.findAll('td', {'style': 'padding-right:10px;'}\n",
    "                          )[i].contents[0].contents[0]\n",
    "              for i in (0, 1)]\n",
    "    found.append([subtag[0]] + subtag[1].replace('광주 광역', '광주광역').split()[:2])\n",
    "ltr_tbl = pd.DataFrame(found, columns=('storename', 'd1', 'd2'))\n",
    "ltr_tbl.head()"
   ]
  },
  {
   "cell_type": "code",
   "execution_count": null,
   "metadata": {},
   "outputs": [],
   "source": []
  }
 ],
 "metadata": {
  "kernelspec": {
   "display_name": "Python 3",
   "language": "python",
   "name": "python3"
  },
  "language_info": {
   "codemirror_mode": {
    "name": "ipython",
    "version": 3
   },
   "file_extension": ".py",
   "mimetype": "text/x-python",
   "name": "python",
   "nbconvert_exporter": "python",
   "pygments_lexer": "ipython3",
   "version": "3.8.5"
  }
 },
 "nbformat": 4,
 "nbformat_minor": 4
}
