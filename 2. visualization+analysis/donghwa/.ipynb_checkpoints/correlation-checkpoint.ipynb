{
 "cells": [
  {
   "cell_type": "code",
   "execution_count": 1,
   "metadata": {},
   "outputs": [
    {
     "data": {
      "text/html": [
       "        <script type=\"text/javascript\">\n",
       "        window.PlotlyConfig = {MathJaxConfig: 'local'};\n",
       "        if (window.MathJax) {MathJax.Hub.Config({SVG: {font: \"STIX-Web\"}});}\n",
       "        if (typeof require !== 'undefined') {\n",
       "        require.undef(\"plotly\");\n",
       "        requirejs.config({\n",
       "            paths: {\n",
       "                'plotly': ['https://cdn.plot.ly/plotly-2.2.0.min']\n",
       "            }\n",
       "        });\n",
       "        require(['plotly'], function(Plotly) {\n",
       "            window._Plotly = Plotly;\n",
       "        });\n",
       "        }\n",
       "        </script>\n",
       "        "
      ]
     },
     "metadata": {},
     "output_type": "display_data"
    },
    {
     "data": {
      "text/html": [
       "        <script type=\"text/javascript\">\n",
       "        window.PlotlyConfig = {MathJaxConfig: 'local'};\n",
       "        if (window.MathJax) {MathJax.Hub.Config({SVG: {font: \"STIX-Web\"}});}\n",
       "        if (typeof require !== 'undefined') {\n",
       "        require.undef(\"plotly\");\n",
       "        requirejs.config({\n",
       "            paths: {\n",
       "                'plotly': ['https://cdn.plot.ly/plotly-2.2.0.min']\n",
       "            }\n",
       "        });\n",
       "        require(['plotly'], function(Plotly) {\n",
       "            window._Plotly = Plotly;\n",
       "        });\n",
       "        }\n",
       "        </script>\n",
       "        "
      ]
     },
     "metadata": {},
     "output_type": "display_data"
    }
   ],
   "source": [
    "import os\n",
    "import numpy as np\n",
    "import matplotlib.pyplot as plt\n",
    "import pandas as pd\n",
    "\n",
    "import folium\n",
    "from folium import plugins\n",
    "import json\n",
    "\n",
    "import plotly\n",
    "import cufflinks as cf\n",
    "import plotly.express as px\n",
    "\n",
    "# 오프라인 모드에서도 인터렉티브한 그래픽을 가능하도록 함\n",
    "from plotly.offline import download_plotlyjs,init_notebook_mode, plot, iplot\n",
    "init_notebook_mode(connected=True)\n",
    "cf.go_offline()\n",
    "\n",
    "# 다중 그래프 그리기\n",
    "from plotly.subplots import make_subplots\n",
    "import plotly.graph_objects as go\n",
    "\n",
    "# 한글 패치\n",
    "from matplotlib import rc\n",
    "rc('font', family='AppleGothic')\n",
    "\n",
    "# 통계 분석\n",
    "import scipy.stats"
   ]
  },
  {
   "cell_type": "code",
   "execution_count": 2,
   "metadata": {},
   "outputs": [],
   "source": [
    "input_path = './input/'"
   ]
  },
  {
   "cell_type": "code",
   "execution_count": 3,
   "metadata": {},
   "outputs": [
    {
     "data": {
      "text/plain": [
       "((2306, 6), (240, 9), (17, 13))"
      ]
     },
     "execution_count": 3,
     "metadata": {},
     "output_type": "execute_result"
    }
   ],
   "source": [
    "# 데이터 로드\n",
    "burger_df = pd.read_csv(input_path+'burger_df.csv')\n",
    "nstore_df = pd.read_csv(input_path+'nstore_df.csv')\n",
    "nstore_stat_df = pd.read_csv(input_path+'nstore_stat_df.csv')\n",
    "\n",
    "burger_df.shape, nstore_df.shape, nstore_stat_df.shape"
   ]
  },
  {
   "cell_type": "code",
   "execution_count": 4,
   "metadata": {},
   "outputs": [
    {
     "data": {
      "text/html": [
       "<div>\n",
       "<style scoped>\n",
       "    .dataframe tbody tr th:only-of-type {\n",
       "        vertical-align: middle;\n",
       "    }\n",
       "\n",
       "    .dataframe tbody tr th {\n",
       "        vertical-align: top;\n",
       "    }\n",
       "\n",
       "    .dataframe thead th {\n",
       "        text-align: right;\n",
       "    }\n",
       "</style>\n",
       "<table border=\"1\" class=\"dataframe\">\n",
       "  <thead>\n",
       "    <tr style=\"text-align: right;\">\n",
       "      <th></th>\n",
       "      <th>지점명</th>\n",
       "      <th>주소</th>\n",
       "      <th>브랜드</th>\n",
       "      <th>주소1</th>\n",
       "      <th>주소2</th>\n",
       "      <th>주소3</th>\n",
       "    </tr>\n",
       "  </thead>\n",
       "  <tbody>\n",
       "    <tr>\n",
       "      <th>0</th>\n",
       "      <td>선릉역점</td>\n",
       "      <td>서울특별시 강남구 선릉로 429</td>\n",
       "      <td>버거킹</td>\n",
       "      <td>서울특별시</td>\n",
       "      <td>강남구</td>\n",
       "      <td>선릉로 429</td>\n",
       "    </tr>\n",
       "    <tr>\n",
       "      <th>1</th>\n",
       "      <td>대치역점</td>\n",
       "      <td>서울특별시 강남구 남부순환로 2936</td>\n",
       "      <td>버거킹</td>\n",
       "      <td>서울특별시</td>\n",
       "      <td>강남구</td>\n",
       "      <td>남부순환로 2936</td>\n",
       "    </tr>\n",
       "    <tr>\n",
       "      <th>2</th>\n",
       "      <td>차병원사거리점</td>\n",
       "      <td>서울특별시 강남구 봉은사로 179</td>\n",
       "      <td>버거킹</td>\n",
       "      <td>서울특별시</td>\n",
       "      <td>강남구</td>\n",
       "      <td>봉은사로 179</td>\n",
       "    </tr>\n",
       "    <tr>\n",
       "      <th>3</th>\n",
       "      <td>강남도곡점</td>\n",
       "      <td>서울특별시 강남구 논현로 172 (도곡동 410-10) 1층</td>\n",
       "      <td>버거킹</td>\n",
       "      <td>서울특별시</td>\n",
       "      <td>강남구</td>\n",
       "      <td>논현로 172 (도곡동 410-10) 1층</td>\n",
       "    </tr>\n",
       "    <tr>\n",
       "      <th>4</th>\n",
       "      <td>청담점</td>\n",
       "      <td>서울특별시 강남구 선릉로 812</td>\n",
       "      <td>버거킹</td>\n",
       "      <td>서울특별시</td>\n",
       "      <td>강남구</td>\n",
       "      <td>선릉로 812</td>\n",
       "    </tr>\n",
       "  </tbody>\n",
       "</table>\n",
       "</div>"
      ],
      "text/plain": [
       "       지점명                                 주소  브랜드    주소1  주소2  \\\n",
       "0     선릉역점                  서울특별시 강남구 선릉로 429  버거킹  서울특별시  강남구   \n",
       "1     대치역점               서울특별시 강남구 남부순환로 2936  버거킹  서울특별시  강남구   \n",
       "2  차병원사거리점                 서울특별시 강남구 봉은사로 179  버거킹  서울특별시  강남구   \n",
       "3    강남도곡점  서울특별시 강남구 논현로 172 (도곡동 410-10) 1층  버거킹  서울특별시  강남구   \n",
       "4      청담점                  서울특별시 강남구 선릉로 812  버거킹  서울특별시  강남구   \n",
       "\n",
       "                       주소3  \n",
       "0                  선릉로 429  \n",
       "1               남부순환로 2936  \n",
       "2                 봉은사로 179  \n",
       "3  논현로 172 (도곡동 410-10) 1층  \n",
       "4                  선릉로 812  "
      ]
     },
     "execution_count": 4,
     "metadata": {},
     "output_type": "execute_result"
    }
   ],
   "source": [
    "burger_df.head()"
   ]
  },
  {
   "cell_type": "code",
   "execution_count": 5,
   "metadata": {},
   "outputs": [
    {
     "data": {
      "text/html": [
       "<div>\n",
       "<style scoped>\n",
       "    .dataframe tbody tr th:only-of-type {\n",
       "        vertical-align: middle;\n",
       "    }\n",
       "\n",
       "    .dataframe tbody tr th {\n",
       "        vertical-align: top;\n",
       "    }\n",
       "\n",
       "    .dataframe thead th {\n",
       "        text-align: right;\n",
       "    }\n",
       "</style>\n",
       "<table border=\"1\" class=\"dataframe\">\n",
       "  <thead>\n",
       "    <tr style=\"text-align: right;\">\n",
       "      <th></th>\n",
       "      <th>버거킹</th>\n",
       "      <th>KFC</th>\n",
       "      <th>맥도날드</th>\n",
       "      <th>롯데리아</th>\n",
       "      <th>BKM</th>\n",
       "      <th>버거지수</th>\n",
       "      <th>주소</th>\n",
       "      <th>주소1</th>\n",
       "      <th>주소2</th>\n",
       "    </tr>\n",
       "  </thead>\n",
       "  <tbody>\n",
       "    <tr>\n",
       "      <th>0</th>\n",
       "      <td>1</td>\n",
       "      <td>0</td>\n",
       "      <td>1</td>\n",
       "      <td>6</td>\n",
       "      <td>2</td>\n",
       "      <td>0.333333</td>\n",
       "      <td>강원도 강릉시</td>\n",
       "      <td>강원도</td>\n",
       "      <td>강릉시</td>\n",
       "    </tr>\n",
       "    <tr>\n",
       "      <th>1</th>\n",
       "      <td>1</td>\n",
       "      <td>0</td>\n",
       "      <td>1</td>\n",
       "      <td>3</td>\n",
       "      <td>2</td>\n",
       "      <td>0.666667</td>\n",
       "      <td>강원도 속초시</td>\n",
       "      <td>강원도</td>\n",
       "      <td>속초시</td>\n",
       "    </tr>\n",
       "    <tr>\n",
       "      <th>2</th>\n",
       "      <td>3</td>\n",
       "      <td>1</td>\n",
       "      <td>2</td>\n",
       "      <td>15</td>\n",
       "      <td>6</td>\n",
       "      <td>0.400000</td>\n",
       "      <td>강원도 원주시</td>\n",
       "      <td>강원도</td>\n",
       "      <td>원주시</td>\n",
       "    </tr>\n",
       "    <tr>\n",
       "      <th>3</th>\n",
       "      <td>2</td>\n",
       "      <td>2</td>\n",
       "      <td>2</td>\n",
       "      <td>7</td>\n",
       "      <td>6</td>\n",
       "      <td>0.857143</td>\n",
       "      <td>강원도 춘천시</td>\n",
       "      <td>강원도</td>\n",
       "      <td>춘천시</td>\n",
       "    </tr>\n",
       "    <tr>\n",
       "      <th>4</th>\n",
       "      <td>2</td>\n",
       "      <td>0</td>\n",
       "      <td>0</td>\n",
       "      <td>2</td>\n",
       "      <td>2</td>\n",
       "      <td>1.000000</td>\n",
       "      <td>강원도 홍천군</td>\n",
       "      <td>강원도</td>\n",
       "      <td>홍천군</td>\n",
       "    </tr>\n",
       "  </tbody>\n",
       "</table>\n",
       "</div>"
      ],
      "text/plain": [
       "   버거킹  KFC  맥도날드  롯데리아  BKM      버거지수       주소  주소1  주소2\n",
       "0    1    0     1     6    2  0.333333  강원도 강릉시  강원도  강릉시\n",
       "1    1    0     1     3    2  0.666667  강원도 속초시  강원도  속초시\n",
       "2    3    1     2    15    6  0.400000  강원도 원주시  강원도  원주시\n",
       "3    2    2     2     7    6  0.857143  강원도 춘천시  강원도  춘천시\n",
       "4    2    0     0     2    2  1.000000  강원도 홍천군  강원도  홍천군"
      ]
     },
     "execution_count": 5,
     "metadata": {},
     "output_type": "execute_result"
    }
   ],
   "source": [
    "nstore_df.head()"
   ]
  },
  {
   "cell_type": "code",
   "execution_count": 6,
   "metadata": {},
   "outputs": [
    {
     "data": {
      "text/html": [
       "<div>\n",
       "<style scoped>\n",
       "    .dataframe tbody tr th:only-of-type {\n",
       "        vertical-align: middle;\n",
       "    }\n",
       "\n",
       "    .dataframe tbody tr th {\n",
       "        vertical-align: top;\n",
       "    }\n",
       "\n",
       "    .dataframe thead th {\n",
       "        text-align: right;\n",
       "    }\n",
       "</style>\n",
       "<table border=\"1\" class=\"dataframe\">\n",
       "  <thead>\n",
       "    <tr style=\"text-align: right;\">\n",
       "      <th></th>\n",
       "      <th>버거킹</th>\n",
       "      <th>KFC</th>\n",
       "      <th>맥도날드</th>\n",
       "      <th>롯데리아</th>\n",
       "      <th>BKM</th>\n",
       "      <th>버거지수</th>\n",
       "      <th>시도별</th>\n",
       "      <th>1인당 지역내총생산</th>\n",
       "      <th>1인당 지역총소득</th>\n",
       "      <th>1인당 개인소득</th>\n",
       "      <th>1인당 민간소비</th>\n",
       "      <th>인구</th>\n",
       "      <th>인구밀도</th>\n",
       "    </tr>\n",
       "  </thead>\n",
       "  <tbody>\n",
       "    <tr>\n",
       "      <th>0</th>\n",
       "      <td>9</td>\n",
       "      <td>3</td>\n",
       "      <td>7</td>\n",
       "      <td>54</td>\n",
       "      <td>19</td>\n",
       "      <td>0.351852</td>\n",
       "      <td>강원도</td>\n",
       "      <td>32061</td>\n",
       "      <td>29392</td>\n",
       "      <td>18997</td>\n",
       "      <td>16811</td>\n",
       "      <td>1521</td>\n",
       "      <td>90</td>\n",
       "    </tr>\n",
       "    <tr>\n",
       "      <th>1</th>\n",
       "      <td>100</td>\n",
       "      <td>50</td>\n",
       "      <td>96</td>\n",
       "      <td>317</td>\n",
       "      <td>246</td>\n",
       "      <td>0.776025</td>\n",
       "      <td>경기도</td>\n",
       "      <td>36133</td>\n",
       "      <td>38466</td>\n",
       "      <td>20482</td>\n",
       "      <td>17399</td>\n",
       "      <td>12786</td>\n",
       "      <td>1255</td>\n",
       "    </tr>\n",
       "    <tr>\n",
       "      <th>2</th>\n",
       "      <td>24</td>\n",
       "      <td>4</td>\n",
       "      <td>29</td>\n",
       "      <td>87</td>\n",
       "      <td>57</td>\n",
       "      <td>0.655172</td>\n",
       "      <td>경상남도</td>\n",
       "      <td>33690</td>\n",
       "      <td>32140</td>\n",
       "      <td>18939</td>\n",
       "      <td>16426</td>\n",
       "      <td>3339</td>\n",
       "      <td>317</td>\n",
       "    </tr>\n",
       "    <tr>\n",
       "      <th>3</th>\n",
       "      <td>25</td>\n",
       "      <td>4</td>\n",
       "      <td>15</td>\n",
       "      <td>68</td>\n",
       "      <td>44</td>\n",
       "      <td>0.647059</td>\n",
       "      <td>경상북도</td>\n",
       "      <td>40272</td>\n",
       "      <td>34873</td>\n",
       "      <td>18611</td>\n",
       "      <td>16217</td>\n",
       "      <td>2675</td>\n",
       "      <td>141</td>\n",
       "    </tr>\n",
       "    <tr>\n",
       "      <th>4</th>\n",
       "      <td>15</td>\n",
       "      <td>3</td>\n",
       "      <td>10</td>\n",
       "      <td>42</td>\n",
       "      <td>28</td>\n",
       "      <td>0.666667</td>\n",
       "      <td>광주광역시</td>\n",
       "      <td>27548</td>\n",
       "      <td>30964</td>\n",
       "      <td>20532</td>\n",
       "      <td>18231</td>\n",
       "      <td>1495</td>\n",
       "      <td>2984</td>\n",
       "    </tr>\n",
       "  </tbody>\n",
       "</table>\n",
       "</div>"
      ],
      "text/plain": [
       "   버거킹  KFC  맥도날드  롯데리아  BKM      버거지수    시도별  1인당 지역내총생산  1인당 지역총소득  \\\n",
       "0    9    3     7    54   19  0.351852    강원도       32061      29392   \n",
       "1  100   50    96   317  246  0.776025    경기도       36133      38466   \n",
       "2   24    4    29    87   57  0.655172   경상남도       33690      32140   \n",
       "3   25    4    15    68   44  0.647059   경상북도       40272      34873   \n",
       "4   15    3    10    42   28  0.666667  광주광역시       27548      30964   \n",
       "\n",
       "   1인당 개인소득  1인당 민간소비     인구  인구밀도  \n",
       "0     18997     16811   1521    90  \n",
       "1     20482     17399  12786  1255  \n",
       "2     18939     16426   3339   317  \n",
       "3     18611     16217   2675   141  \n",
       "4     20532     18231   1495  2984  "
      ]
     },
     "execution_count": 6,
     "metadata": {},
     "output_type": "execute_result"
    }
   ],
   "source": [
    "nstore_stat_df.head()"
   ]
  },
  {
   "cell_type": "markdown",
   "metadata": {},
   "source": [
    "## 버거지수와 경제지표와의 상관관계"
   ]
  },
  {
   "cell_type": "code",
   "execution_count": 7,
   "metadata": {},
   "outputs": [
    {
     "name": "stderr",
     "output_type": "stream",
     "text": [
      "findfont: Font family ['AppleGothic'] not found. Falling back to DejaVu Sans.\n",
      "findfont: Font family ['AppleGothic'] not found. Falling back to DejaVu Sans.\n",
      "C:\\Users\\stat\\anaconda3\\lib\\site-packages\\matplotlib\\backends\\backend_agg.py:238: RuntimeWarning:\n",
      "\n",
      "Glyph 51064 missing from current font.\n",
      "\n",
      "C:\\Users\\stat\\anaconda3\\lib\\site-packages\\matplotlib\\backends\\backend_agg.py:238: RuntimeWarning:\n",
      "\n",
      "Glyph 45817 missing from current font.\n",
      "\n",
      "C:\\Users\\stat\\anaconda3\\lib\\site-packages\\matplotlib\\backends\\backend_agg.py:238: RuntimeWarning:\n",
      "\n",
      "Glyph 51648 missing from current font.\n",
      "\n",
      "C:\\Users\\stat\\anaconda3\\lib\\site-packages\\matplotlib\\backends\\backend_agg.py:238: RuntimeWarning:\n",
      "\n",
      "Glyph 50669 missing from current font.\n",
      "\n",
      "C:\\Users\\stat\\anaconda3\\lib\\site-packages\\matplotlib\\backends\\backend_agg.py:238: RuntimeWarning:\n",
      "\n",
      "Glyph 45236 missing from current font.\n",
      "\n",
      "C:\\Users\\stat\\anaconda3\\lib\\site-packages\\matplotlib\\backends\\backend_agg.py:238: RuntimeWarning:\n",
      "\n",
      "Glyph 52509 missing from current font.\n",
      "\n",
      "C:\\Users\\stat\\anaconda3\\lib\\site-packages\\matplotlib\\backends\\backend_agg.py:238: RuntimeWarning:\n",
      "\n",
      "Glyph 49373 missing from current font.\n",
      "\n",
      "C:\\Users\\stat\\anaconda3\\lib\\site-packages\\matplotlib\\backends\\backend_agg.py:238: RuntimeWarning:\n",
      "\n",
      "Glyph 49328 missing from current font.\n",
      "\n",
      "C:\\Users\\stat\\anaconda3\\lib\\site-packages\\matplotlib\\backends\\backend_agg.py:238: RuntimeWarning:\n",
      "\n",
      "Glyph 49548 missing from current font.\n",
      "\n",
      "C:\\Users\\stat\\anaconda3\\lib\\site-packages\\matplotlib\\backends\\backend_agg.py:238: RuntimeWarning:\n",
      "\n",
      "Glyph 46301 missing from current font.\n",
      "\n",
      "C:\\Users\\stat\\anaconda3\\lib\\site-packages\\matplotlib\\backends\\backend_agg.py:238: RuntimeWarning:\n",
      "\n",
      "Glyph 44060 missing from current font.\n",
      "\n",
      "C:\\Users\\stat\\anaconda3\\lib\\site-packages\\matplotlib\\backends\\backend_agg.py:238: RuntimeWarning:\n",
      "\n",
      "Glyph 48124 missing from current font.\n",
      "\n",
      "C:\\Users\\stat\\anaconda3\\lib\\site-packages\\matplotlib\\backends\\backend_agg.py:238: RuntimeWarning:\n",
      "\n",
      "Glyph 44036 missing from current font.\n",
      "\n",
      "C:\\Users\\stat\\anaconda3\\lib\\site-packages\\matplotlib\\backends\\backend_agg.py:238: RuntimeWarning:\n",
      "\n",
      "Glyph 48708 missing from current font.\n",
      "\n",
      "findfont: Font family ['AppleGothic'] not found. Falling back to DejaVu Sans.\n",
      "C:\\Users\\stat\\anaconda3\\lib\\site-packages\\matplotlib\\backends\\backend_agg.py:238: RuntimeWarning:\n",
      "\n",
      "Glyph 48260 missing from current font.\n",
      "\n",
      "C:\\Users\\stat\\anaconda3\\lib\\site-packages\\matplotlib\\backends\\backend_agg.py:238: RuntimeWarning:\n",
      "\n",
      "Glyph 44144 missing from current font.\n",
      "\n",
      "C:\\Users\\stat\\anaconda3\\lib\\site-packages\\matplotlib\\backends\\backend_agg.py:238: RuntimeWarning:\n",
      "\n",
      "Glyph 49688 missing from current font.\n",
      "\n",
      "C:\\Users\\stat\\anaconda3\\lib\\site-packages\\matplotlib\\backends\\backend_agg.py:238: RuntimeWarning:\n",
      "\n",
      "Glyph 44221 missing from current font.\n",
      "\n",
      "C:\\Users\\stat\\anaconda3\\lib\\site-packages\\matplotlib\\backends\\backend_agg.py:238: RuntimeWarning:\n",
      "\n",
      "Glyph 51228 missing from current font.\n",
      "\n",
      "C:\\Users\\stat\\anaconda3\\lib\\site-packages\\matplotlib\\backends\\backend_agg.py:238: RuntimeWarning:\n",
      "\n",
      "Glyph 54364 missing from current font.\n",
      "\n",
      "C:\\Users\\stat\\anaconda3\\lib\\site-packages\\matplotlib\\backends\\backend_agg.py:238: RuntimeWarning:\n",
      "\n",
      "Glyph 51216 missing from current font.\n",
      "\n",
      "C:\\Users\\stat\\anaconda3\\lib\\site-packages\\matplotlib\\backends\\backend_agg.py:238: RuntimeWarning:\n",
      "\n",
      "Glyph 46020 missing from current font.\n",
      "\n",
      "C:\\Users\\stat\\anaconda3\\lib\\site-packages\\matplotlib\\backends\\backend_agg.py:201: RuntimeWarning:\n",
      "\n",
      "Glyph 51064 missing from current font.\n",
      "\n",
      "C:\\Users\\stat\\anaconda3\\lib\\site-packages\\matplotlib\\backends\\backend_agg.py:201: RuntimeWarning:\n",
      "\n",
      "Glyph 45817 missing from current font.\n",
      "\n",
      "C:\\Users\\stat\\anaconda3\\lib\\site-packages\\matplotlib\\backends\\backend_agg.py:201: RuntimeWarning:\n",
      "\n",
      "Glyph 51648 missing from current font.\n",
      "\n",
      "C:\\Users\\stat\\anaconda3\\lib\\site-packages\\matplotlib\\backends\\backend_agg.py:201: RuntimeWarning:\n",
      "\n",
      "Glyph 50669 missing from current font.\n",
      "\n",
      "C:\\Users\\stat\\anaconda3\\lib\\site-packages\\matplotlib\\backends\\backend_agg.py:201: RuntimeWarning:\n",
      "\n",
      "Glyph 45236 missing from current font.\n",
      "\n",
      "C:\\Users\\stat\\anaconda3\\lib\\site-packages\\matplotlib\\backends\\backend_agg.py:201: RuntimeWarning:\n",
      "\n",
      "Glyph 52509 missing from current font.\n",
      "\n",
      "C:\\Users\\stat\\anaconda3\\lib\\site-packages\\matplotlib\\backends\\backend_agg.py:201: RuntimeWarning:\n",
      "\n",
      "Glyph 49373 missing from current font.\n",
      "\n",
      "C:\\Users\\stat\\anaconda3\\lib\\site-packages\\matplotlib\\backends\\backend_agg.py:201: RuntimeWarning:\n",
      "\n",
      "Glyph 49328 missing from current font.\n",
      "\n",
      "C:\\Users\\stat\\anaconda3\\lib\\site-packages\\matplotlib\\backends\\backend_agg.py:201: RuntimeWarning:\n",
      "\n",
      "Glyph 49548 missing from current font.\n",
      "\n",
      "C:\\Users\\stat\\anaconda3\\lib\\site-packages\\matplotlib\\backends\\backend_agg.py:201: RuntimeWarning:\n",
      "\n",
      "Glyph 46301 missing from current font.\n",
      "\n",
      "C:\\Users\\stat\\anaconda3\\lib\\site-packages\\matplotlib\\backends\\backend_agg.py:201: RuntimeWarning:\n",
      "\n",
      "Glyph 44060 missing from current font.\n",
      "\n",
      "C:\\Users\\stat\\anaconda3\\lib\\site-packages\\matplotlib\\backends\\backend_agg.py:201: RuntimeWarning:\n",
      "\n",
      "Glyph 48124 missing from current font.\n",
      "\n",
      "C:\\Users\\stat\\anaconda3\\lib\\site-packages\\matplotlib\\backends\\backend_agg.py:201: RuntimeWarning:\n",
      "\n",
      "Glyph 44036 missing from current font.\n",
      "\n",
      "C:\\Users\\stat\\anaconda3\\lib\\site-packages\\matplotlib\\backends\\backend_agg.py:201: RuntimeWarning:\n",
      "\n",
      "Glyph 48708 missing from current font.\n",
      "\n",
      "C:\\Users\\stat\\anaconda3\\lib\\site-packages\\matplotlib\\backends\\backend_agg.py:201: RuntimeWarning:\n",
      "\n",
      "Glyph 48260 missing from current font.\n",
      "\n",
      "C:\\Users\\stat\\anaconda3\\lib\\site-packages\\matplotlib\\backends\\backend_agg.py:201: RuntimeWarning:\n",
      "\n",
      "Glyph 44144 missing from current font.\n",
      "\n",
      "C:\\Users\\stat\\anaconda3\\lib\\site-packages\\matplotlib\\backends\\backend_agg.py:201: RuntimeWarning:\n",
      "\n",
      "Glyph 49688 missing from current font.\n",
      "\n",
      "C:\\Users\\stat\\anaconda3\\lib\\site-packages\\matplotlib\\backends\\backend_agg.py:201: RuntimeWarning:\n",
      "\n",
      "Glyph 44221 missing from current font.\n",
      "\n",
      "C:\\Users\\stat\\anaconda3\\lib\\site-packages\\matplotlib\\backends\\backend_agg.py:201: RuntimeWarning:\n",
      "\n",
      "Glyph 51228 missing from current font.\n",
      "\n",
      "C:\\Users\\stat\\anaconda3\\lib\\site-packages\\matplotlib\\backends\\backend_agg.py:201: RuntimeWarning:\n",
      "\n",
      "Glyph 54364 missing from current font.\n",
      "\n",
      "C:\\Users\\stat\\anaconda3\\lib\\site-packages\\matplotlib\\backends\\backend_agg.py:201: RuntimeWarning:\n",
      "\n",
      "Glyph 51216 missing from current font.\n",
      "\n",
      "C:\\Users\\stat\\anaconda3\\lib\\site-packages\\matplotlib\\backends\\backend_agg.py:201: RuntimeWarning:\n",
      "\n",
      "Glyph 46020 missing from current font.\n",
      "\n"
     ]
    },
    {
     "data": {
      "image/png": "[encoded data removed]",
      "text/plain": [
       "<Figure size 864x720 with 4 Axes>"
      ]
     },
     "metadata": {
      "needs_background": "light"
     },
     "output_type": "display_data"
    }
   ],
   "source": [
    "x = nstore_stat_df[\"버거지수\"]\n",
    "col_label = ['1인당 지역내총생산', '1인당 지역총소득','1인당 개인소득', '1인당 민간소비']\n",
    "\n",
    "fig, axes = plt.subplots(2,2, figsize=(12,10), sharex=True)\n",
    "\n",
    "ncol = 0\n",
    "for i in range(2):\n",
    "    for j in range(2):\n",
    "        ax = axes[i][j]\n",
    "        y_label = col_label[ncol]\n",
    "        y = np.array(nstore_stat_df[y_label].tolist())\n",
    "        \n",
    "        z = np.polyfit(x,y,1)\n",
    "        f = np.poly1d(z)\n",
    "        \n",
    "        R = np.corrcoef(x, y)[0][1]\n",
    "        \n",
    "        ax.plot(x, y,'o', label=r'$R^{2}$'+'={:.3f}'.format(R))\n",
    "        ax.plot(x, f(x), label='y={:.1f}x+{:.0f}'.format(z[0],z[1]))\n",
    "        ax.set_ylabel(y_label, fontsize=13)\n",
    "        ax.grid(True)\n",
    "        ax.legend(loc=4)\n",
    "\n",
    "        ncol += 1\n",
    "\n",
    "plt.suptitle(\"버거지수-경제지표 산점도\", fontsize=18)\n",
    "plt.tight_layout()"
   ]
  },
  {
   "cell_type": "markdown",
   "metadata": {},
   "source": [
    "[comments] \n",
    "- 경제 지표별로 회귀선 차이가 꽤 난다. 경제지표가 무엇을 의미하는지를 알아야지 해석이 가능할 것 같다. 최대한 많은 시각화 자료를 만들고 해석은 조원들과 나누면서 결정하자"
   ]
  },
  {
   "cell_type": "code",
   "execution_count": 8,
   "metadata": {},
   "outputs": [
    {
     "name": "stderr",
     "output_type": "stream",
     "text": [
      "findfont: Font family ['AppleGothic'] not found. Falling back to DejaVu Sans.\n",
      "C:\\Users\\stat\\anaconda3\\lib\\site-packages\\matplotlib\\backends\\backend_agg.py:238: RuntimeWarning:\n",
      "\n",
      "Glyph 48260 missing from current font.\n",
      "\n",
      "C:\\Users\\stat\\anaconda3\\lib\\site-packages\\matplotlib\\backends\\backend_agg.py:238: RuntimeWarning:\n",
      "\n",
      "Glyph 44144 missing from current font.\n",
      "\n",
      "C:\\Users\\stat\\anaconda3\\lib\\site-packages\\matplotlib\\backends\\backend_agg.py:238: RuntimeWarning:\n",
      "\n",
      "Glyph 51648 missing from current font.\n",
      "\n",
      "C:\\Users\\stat\\anaconda3\\lib\\site-packages\\matplotlib\\backends\\backend_agg.py:238: RuntimeWarning:\n",
      "\n",
      "Glyph 49688 missing from current font.\n",
      "\n",
      "C:\\Users\\stat\\anaconda3\\lib\\site-packages\\matplotlib\\backends\\backend_agg.py:238: RuntimeWarning:\n",
      "\n",
      "Glyph 51064 missing from current font.\n",
      "\n",
      "C:\\Users\\stat\\anaconda3\\lib\\site-packages\\matplotlib\\backends\\backend_agg.py:238: RuntimeWarning:\n",
      "\n",
      "Glyph 44396 missing from current font.\n",
      "\n",
      "C:\\Users\\stat\\anaconda3\\lib\\site-packages\\matplotlib\\backends\\backend_agg.py:238: RuntimeWarning:\n",
      "\n",
      "Glyph 48128 missing from current font.\n",
      "\n"
     ]
    },
    {
     "name": "stdout",
     "output_type": "stream",
     "text": [
      "True\n",
      "False\n"
     ]
    },
    {
     "name": "stderr",
     "output_type": "stream",
     "text": [
      "C:\\Users\\stat\\anaconda3\\lib\\site-packages\\matplotlib\\backends\\backend_agg.py:238: RuntimeWarning:\n",
      "\n",
      "Glyph 46020 missing from current font.\n",
      "\n",
      "C:\\Users\\stat\\anaconda3\\lib\\site-packages\\matplotlib\\backends\\backend_agg.py:201: RuntimeWarning:\n",
      "\n",
      "Glyph 48260 missing from current font.\n",
      "\n",
      "C:\\Users\\stat\\anaconda3\\lib\\site-packages\\matplotlib\\backends\\backend_agg.py:201: RuntimeWarning:\n",
      "\n",
      "Glyph 44144 missing from current font.\n",
      "\n",
      "C:\\Users\\stat\\anaconda3\\lib\\site-packages\\matplotlib\\backends\\backend_agg.py:201: RuntimeWarning:\n",
      "\n",
      "Glyph 51648 missing from current font.\n",
      "\n",
      "C:\\Users\\stat\\anaconda3\\lib\\site-packages\\matplotlib\\backends\\backend_agg.py:201: RuntimeWarning:\n",
      "\n",
      "Glyph 49688 missing from current font.\n",
      "\n",
      "C:\\Users\\stat\\anaconda3\\lib\\site-packages\\matplotlib\\backends\\backend_agg.py:201: RuntimeWarning:\n",
      "\n",
      "Glyph 51064 missing from current font.\n",
      "\n",
      "C:\\Users\\stat\\anaconda3\\lib\\site-packages\\matplotlib\\backends\\backend_agg.py:201: RuntimeWarning:\n",
      "\n",
      "Glyph 44396 missing from current font.\n",
      "\n",
      "C:\\Users\\stat\\anaconda3\\lib\\site-packages\\matplotlib\\backends\\backend_agg.py:201: RuntimeWarning:\n",
      "\n",
      "Glyph 48128 missing from current font.\n",
      "\n",
      "C:\\Users\\stat\\anaconda3\\lib\\site-packages\\matplotlib\\backends\\backend_agg.py:201: RuntimeWarning:\n",
      "\n",
      "Glyph 46020 missing from current font.\n",
      "\n"
     ]
    },
    {
     "data": {
      "image/png": "[encoded data removed]",
      "text/plain": [
       "<Figure size 864x432 with 2 Axes>"
      ]
     },
     "metadata": {
      "needs_background": "light"
     },
     "output_type": "display_data"
    }
   ],
   "source": [
    "x = nstore_stat_df[\"버거지수\"]\n",
    "col_label = [\"인구\", \"인구밀도\"]\n",
    "\n",
    "fig, axes = plt.subplots(1,2, figsize=(12,6))\n",
    "\n",
    "for i in range(2):\n",
    "    ax = axes[i]\n",
    "    y_label = col_label[i]\n",
    "    y = nstore_stat_df[y_label]\n",
    "    \n",
    "    z = np.polyfit(x,y,1)\n",
    "    f = np.poly1d(z)\n",
    "    \n",
    "    R = np.corrcoef(x,y)[0,1]\n",
    "    r = scipy.stats.pearsonr(x,y)[0]\n",
    "    print(R==r)\n",
    "    \n",
    "    ax.plot(x, y,'o', label=r'$R^{2}$'+'={:.3f}'.format(R**2))\n",
    "    ax.plot(x, f(x), label='y={:.1f}x+{:.0f}'.format(z[0],z[1]))\n",
    "    ax.set_title(\"버거지수-\"+y_label, fontsize=15)\n",
    "    ax.grid(True)\n",
    "    ax.legend(loc=2)\n",
    "    \n",
    "plt.tight_layout()"
   ]
  },
  {
   "cell_type": "code",
   "execution_count": 9,
   "metadata": {},
   "outputs": [
    {
     "data": {
      "application/vnd.plotly.v1+json": {
       "config": {
        "plotlyServerURL": "https://plot.ly"
       },
       "data": [
        {
         "hovertemplate": "<b>%{hovertext}</b><br><br>버거지수=%{x}<br>인구=%{y}<extra></extra>",
         "hovertext": [
          "강원도",
          "경기도",
          "경상남도",
          "경상북도",
          "광주광역시",
          "대구광역시",
          "대전광역시",
          "부산광역시",
          "서울특별시",
          "세종특별자치시",
          "울산광역시",
          "인천광역시",
          "전라남도",
          "전라북도",
          "제주특별자치도",
          "충청남도",
          "충청북도"
         ],
         "legendgroup": "",
         "marker": {
          "color": "#636efa",
          "symbol": "circle"
         },
         "mode": "markers",
         "name": "",
         "orientation": "v",
         "showlegend": false,
         "type": "scatter",
         "x": [
          0.35185185185185186,
          0.7760252365930599,
          0.6551724137931034,
          0.6470588235294118,
          0.6666666666666666,
          0.8333333333333334,
          0.6274509803921569,
          0.8536585365853658,
          1.5469613259668509,
          0.1,
          0.6774193548387096,
          0.7027027027027027,
          0.3333333333333333,
          0.490566037735849,
          0.7142857142857143,
          0.3636363636363637,
          0.3508771929824561
         ],
         "xaxis": "x",
         "y": [
          1521,
          12786,
          3339,
          2675,
          1495,
          2458,
          1528,
          3424,
          9766,
          266,
          1159,
          2924,
          1795,
          1829,
          635,
          2153,
          1609
         ],
         "yaxis": "y"
        },
        {
         "hovertemplate": "<b>OLS trendline</b><br>인구 = 6481.23 * 버거지수 + -1054.64<br>R<sup>2</sup>=0.389834<br><br>버거지수=%{x}<br>인구=%{y} <b>(trend)</b><extra></extra>",
         "legendgroup": "",
         "marker": {
          "color": "#636efa",
          "symbol": "circle"
         },
         "mode": "lines",
         "name": "",
         "showlegend": false,
         "type": "scatter",
         "x": [
          0.1,
          0.3333333333333333,
          0.3508771929824561,
          0.35185185185185186,
          0.3636363636363637,
          0.490566037735849,
          0.6274509803921569,
          0.6470588235294118,
          0.6551724137931034,
          0.6666666666666666,
          0.6774193548387096,
          0.7027027027027027,
          0.7142857142857143,
          0.7760252365930599,
          0.8333333333333334,
          0.8536585365853658,
          1.5469613259668509
         ],
         "xaxis": "x",
         "y": [
          -406.5142031596896,
          1105.7728844996905,
          1219.4786805643057,
          1225.7956692345624,
          1302.1738049749356,
          2124.834264324071,
          3012.0171126417667,
          3139.1000611845725,
          3191.6861088574565,
          3266.1830097273764,
          3335.8736589282703,
          3499.740861103343,
          3574.8130276170464,
          3974.9610949755765,
          4346.38807234122,
          4478.120397050225,
          8971.5754951353
         ],
         "yaxis": "y"
        }
       ],
       "layout": {
        "legend": {
         "tracegroupgap": 0
        },
        "margin": {
         "t": 60
        },
        "template": {
         "data": {
          "bar": [
           {
            "error_x": {
             "color": "#2a3f5f"
            },
            "error_y": {
             "color": "#2a3f5f"
            },
            "marker": {
             "line": {
              "color": "#E5ECF6",
              "width": 0.5
             },
             "pattern": {
              "fillmode": "overlay",
              "size": 10,
              "solidity": 0.2
             }
            },
            "type": "bar"
           }
          ],
          "barpolar": [
           {
            "marker": {
             "line": {
              "color": "#E5ECF6",
              "width": 0.5
             },
             "pattern": {
              "fillmode": "overlay",
              "size": 10,
              "solidity": 0.2
             }
            },
            "type": "barpolar"
           }
          ],
          "carpet": [
           {
            "aaxis": {
             "endlinecolor": "#2a3f5f",
             "gridcolor": "white",
             "linecolor": "white",
             "minorgridcolor": "white",
             "startlinecolor": "#2a3f5f"
            },
            "baxis": {
             "endlinecolor": "#2a3f5f",
             "gridcolor": "white",
             "linecolor": "white",
             "minorgridcolor": "white",
             "startlinecolor": "#2a3f5f"
            },
            "type": "carpet"
           }
          ],
          "choropleth": [
           {
            "colorbar": {
             "outlinewidth": 0,
             "ticks": ""
            },
            "type": "choropleth"
           }
          ],
          "contour": [
           {
            "colorbar": {
             "outlinewidth": 0,
             "ticks": ""
            },
            "colorscale": [
             [
              0,
              "#0d0887"
             ],
             [
              0.1111111111111111,
              "#46039f"
             ],
             [
              0.2222222222222222,
              "#7201a8"
             ],
             [
              0.3333333333333333,
              "#9c179e"
             ],
             [
              0.4444444444444444,
              "#bd3786"
             ],
             [
              0.5555555555555556,
              "#d8576b"
             ],
             [
              0.6666666666666666,
              "#ed7953"
             ],
             [
              0.7777777777777778,
              "#fb9f3a"
             ],
             [
              0.8888888888888888,
              "#fdca26"
             ],
             [
              1,
              "#f0f921"
             ]
            ],
            "type": "contour"
           }
          ],
          "contourcarpet": [
           {
            "colorbar": {
             "outlinewidth": 0,
             "ticks": ""
            },
            "type": "contourcarpet"
           }
          ],
          "heatmap": [
           {
            "colorbar": {
             "outlinewidth": 0,
             "ticks": ""
            },
            "colorscale": [
             [
              0,
              "#0d0887"
             ],
             [
              0.1111111111111111,
              "#46039f"
             ],
             [
              0.2222222222222222,
              "#7201a8"
             ],
             [
              0.3333333333333333,
              "#9c179e"
             ],
             [
              0.4444444444444444,
              "#bd3786"
             ],
             [
              0.5555555555555556,
              "#d8576b"
             ],
             [
              0.6666666666666666,
              "#ed7953"
             ],
             [
              0.7777777777777778,
              "#fb9f3a"
             ],
             [
              0.8888888888888888,
              "#fdca26"
             ],
             [
              1,
              "#f0f921"
             ]
            ],
            "type": "heatmap"
           }
          ],
          "heatmapgl": [
           {
            "colorbar": {
             "outlinewidth": 0,
             "ticks": ""
            },
            "colorscale": [
             [
              0,
              "#0d0887"
             ],
             [
              0.1111111111111111,
              "#46039f"
             ],
             [
              0.2222222222222222,
              "#7201a8"
             ],
             [
              0.3333333333333333,
              "#9c179e"
             ],
             [
              0.4444444444444444,
              "#bd3786"
             ],
             [
              0.5555555555555556,
              "#d8576b"
             ],
             [
              0.6666666666666666,
              "#ed7953"
             ],
             [
              0.7777777777777778,
              "#fb9f3a"
             ],
             [
              0.8888888888888888,
              "#fdca26"
             ],
             [
              1,
              "#f0f921"
             ]
            ],
            "type": "heatmapgl"
           }
          ],
          "histogram": [
           {
            "marker": {
             "pattern": {
              "fillmode": "overlay",
              "size": 10,
              "solidity": 0.2
             }
            },
            "type": "histogram"
           }
          ],
          "histogram2d": [
           {
            "colorbar": {
             "outlinewidth": 0,
             "ticks": ""
            },
            "colorscale": [
             [
              0,
              "#0d0887"
             ],
             [
              0.1111111111111111,
              "#46039f"
             ],
             [
              0.2222222222222222,
              "#7201a8"
             ],
             [
              0.3333333333333333,
              "#9c179e"
             ],
             [
              0.4444444444444444,
              "#bd3786"
             ],
             [
              0.5555555555555556,
              "#d8576b"
             ],
             [
              0.6666666666666666,
              "#ed7953"
             ],
             [
              0.7777777777777778,
              "#fb9f3a"
             ],
             [
              0.8888888888888888,
              "#fdca26"
             ],
             [
              1,
              "#f0f921"
             ]
            ],
            "type": "histogram2d"
           }
          ],
          "histogram2dcontour": [
           {
            "colorbar": {
             "outlinewidth": 0,
             "ticks": ""
            },
            "colorscale": [
             [
              0,
              "#0d0887"
             ],
             [
              0.1111111111111111,
              "#46039f"
             ],
             [
              0.2222222222222222,
              "#7201a8"
             ],
             [
              0.3333333333333333,
              "#9c179e"
             ],
             [
              0.4444444444444444,
              "#bd3786"
             ],
             [
              0.5555555555555556,
              "#d8576b"
             ],
             [
              0.6666666666666666,
              "#ed7953"
             ],
             [
              0.7777777777777778,
              "#fb9f3a"
             ],
             [
              0.8888888888888888,
              "#fdca26"
             ],
             [
              1,
              "#f0f921"
             ]
            ],
            "type": "histogram2dcontour"
           }
          ],
          "mesh3d": [
           {
            "colorbar": {
             "outlinewidth": 0,
             "ticks": ""
            },
            "type": "mesh3d"
           }
          ],
          "parcoords": [
           {
            "line": {
             "colorbar": {
              "outlinewidth": 0,
              "ticks": ""
             }
            },
            "type": "parcoords"
           }
          ],
          "pie": [
           {
            "automargin": true,
            "type": "pie"
           }
          ],
          "scatter": [
           {
            "marker": {
             "colorbar": {
              "outlinewidth": 0,
              "ticks": ""
             }
            },
            "type": "scatter"
           }
          ],
          "scatter3d": [
           {
            "line": {
             "colorbar": {
              "outlinewidth": 0,
              "ticks": ""
             }
            },
            "marker": {
             "colorbar": {
              "outlinewidth": 0,
              "ticks": ""
             }
            },
            "type": "scatter3d"
           }
          ],
          "scattercarpet": [
           {
            "marker": {
             "colorbar": {
              "outlinewidth": 0,
              "ticks": ""
             }
            },
            "type": "scattercarpet"
           }
          ],
          "scattergeo": [
           {
            "marker": {
             "colorbar": {
              "outlinewidth": 0,
              "ticks": ""
             }
            },
            "type": "scattergeo"
           }
          ],
          "scattergl": [
           {
            "marker": {
             "colorbar": {
              "outlinewidth": 0,
              "ticks": ""
             }
            },
            "type": "scattergl"
           }
          ],
          "scattermapbox": [
           {
            "marker": {
             "colorbar": {
              "outlinewidth": 0,
              "ticks": ""
             }
            },
            "type": "scattermapbox"
           }
          ],
          "scatterpolar": [
           {
            "marker": {
             "colorbar": {
              "outlinewidth": 0,
              "ticks": ""
             }
            },
            "type": "scatterpolar"
           }
          ],
          "scatterpolargl": [
           {
            "marker": {
             "colorbar": {
              "outlinewidth": 0,
              "ticks": ""
             }
            },
            "type": "scatterpolargl"
           }
          ],
          "scatterternary": [
           {
            "marker": {
             "colorbar": {
              "outlinewidth": 0,
              "ticks": ""
             }
            },
            "type": "scatterternary"
           }
          ],
          "surface": [
           {
            "colorbar": {
             "outlinewidth": 0,
             "ticks": ""
            },
            "colorscale": [
             [
              0,
              "#0d0887"
             ],
             [
              0.1111111111111111,
              "#46039f"
             ],
             [
              0.2222222222222222,
              "#7201a8"
             ],
             [
              0.3333333333333333,
              "#9c179e"
             ],
             [
              0.4444444444444444,
              "#bd3786"
             ],
             [
              0.5555555555555556,
              "#d8576b"
             ],
             [
              0.6666666666666666,
              "#ed7953"
             ],
             [
              0.7777777777777778,
              "#fb9f3a"
             ],
             [
              0.8888888888888888,
              "#fdca26"
             ],
             [
              1,
              "#f0f921"
             ]
            ],
            "type": "surface"
           }
          ],
          "table": [
           {
            "cells": {
             "fill": {
              "color": "#EBF0F8"
             },
             "line": {
              "color": "white"
             }
            },
            "header": {
             "fill": {
              "color": "#C8D4E3"
             },
             "line": {
              "color": "white"
             }
            },
            "type": "table"
           }
          ]
         },
         "layout": {
          "annotationdefaults": {
           "arrowcolor": "#2a3f5f",
           "arrowhead": 0,
           "arrowwidth": 1
          },
          "autotypenumbers": "strict",
          "coloraxis": {
           "colorbar": {
            "outlinewidth": 0,
            "ticks": ""
           }
          },
          "colorscale": {
           "diverging": [
            [
             0,
             "#8e0152"
            ],
            [
             0.1,
             "#c51b7d"
            ],
            [
             0.2,
             "#de77ae"
            ],
            [
             0.3,
             "#f1b6da"
            ],
            [
             0.4,
             "#fde0ef"
            ],
            [
             0.5,
             "#f7f7f7"
            ],
            [
             0.6,
             "#e6f5d0"
            ],
            [
             0.7,
             "#b8e186"
            ],
            [
             0.8,
             "#7fbc41"
            ],
            [
             0.9,
             "#4d9221"
            ],
            [
             1,
             "#276419"
            ]
           ],
           "sequential": [
            [
             0,
             "#0d0887"
            ],
            [
             0.1111111111111111,
             "#46039f"
            ],
            [
             0.2222222222222222,
             "#7201a8"
            ],
            [
             0.3333333333333333,
             "#9c179e"
            ],
            [
             0.4444444444444444,
             "#bd3786"
            ],
            [
             0.5555555555555556,
             "#d8576b"
            ],
            [
             0.6666666666666666,
             "#ed7953"
            ],
            [
             0.7777777777777778,
             "#fb9f3a"
            ],
            [
             0.8888888888888888,
             "#fdca26"
            ],
            [
             1,
             "#f0f921"
            ]
           ],
           "sequentialminus": [
            [
             0,
             "#0d0887"
            ],
            [
             0.1111111111111111,
             "#46039f"
            ],
            [
             0.2222222222222222,
             "#7201a8"
            ],
            [
             0.3333333333333333,
             "#9c179e"
            ],
            [
             0.4444444444444444,
             "#bd3786"
            ],
            [
             0.5555555555555556,
             "#d8576b"
            ],
            [
             0.6666666666666666,
             "#ed7953"
            ],
            [
             0.7777777777777778,
             "#fb9f3a"
            ],
            [
             0.8888888888888888,
             "#fdca26"
            ],
            [
             1,
             "#f0f921"
            ]
           ]
          },
          "colorway": [
           "#636efa",
           "#EF553B",
           "#00cc96",
           "#ab63fa",
           "#FFA15A",
           "#19d3f3",
           "#FF6692",
           "#B6E880",
           "#FF97FF",
           "#FECB52"
          ],
          "font": {
           "color": "#2a3f5f"
          },
          "geo": {
           "bgcolor": "white",
           "lakecolor": "white",
           "landcolor": "#E5ECF6",
           "showlakes": true,
           "showland": true,
           "subunitcolor": "white"
          },
          "hoverlabel": {
           "align": "left"
          },
          "hovermode": "closest",
          "mapbox": {
           "style": "light"
          },
          "paper_bgcolor": "white",
          "plot_bgcolor": "#E5ECF6",
          "polar": {
           "angularaxis": {
            "gridcolor": "white",
            "linecolor": "white",
            "ticks": ""
           },
           "bgcolor": "#E5ECF6",
           "radialaxis": {
            "gridcolor": "white",
            "linecolor": "white",
            "ticks": ""
           }
          },
          "scene": {
           "xaxis": {
            "backgroundcolor": "#E5ECF6",
            "gridcolor": "white",
            "gridwidth": 2,
            "linecolor": "white",
            "showbackground": true,
            "ticks": "",
            "zerolinecolor": "white"
           },
           "yaxis": {
            "backgroundcolor": "#E5ECF6",
            "gridcolor": "white",
            "gridwidth": 2,
            "linecolor": "white",
            "showbackground": true,
            "ticks": "",
            "zerolinecolor": "white"
           },
           "zaxis": {
            "backgroundcolor": "#E5ECF6",
            "gridcolor": "white",
            "gridwidth": 2,
            "linecolor": "white",
            "showbackground": true,
            "ticks": "",
            "zerolinecolor": "white"
           }
          },
          "shapedefaults": {
           "line": {
            "color": "#2a3f5f"
           }
          },
          "ternary": {
           "aaxis": {
            "gridcolor": "white",
            "linecolor": "white",
            "ticks": ""
           },
           "baxis": {
            "gridcolor": "white",
            "linecolor": "white",
            "ticks": ""
           },
           "bgcolor": "#E5ECF6",
           "caxis": {
            "gridcolor": "white",
            "linecolor": "white",
            "ticks": ""
           }
          },
          "title": {
           "x": 0.05
          },
          "xaxis": {
           "automargin": true,
           "gridcolor": "white",
           "linecolor": "white",
           "ticks": "",
           "title": {
            "standoff": 15
           },
           "zerolinecolor": "white",
           "zerolinewidth": 2
          },
          "yaxis": {
           "automargin": true,
           "gridcolor": "white",
           "linecolor": "white",
           "ticks": "",
           "title": {
            "standoff": 15
           },
           "zerolinecolor": "white",
           "zerolinewidth": 2
          }
         }
        },
        "xaxis": {
         "anchor": "y",
         "domain": [
          0,
          1
         ],
         "title": {
          "text": "버거지수"
         }
        },
        "yaxis": {
         "anchor": "x",
         "domain": [
          0,
          1
         ],
         "title": {
          "text": "인구"
         }
        }
       }
      },
      "text/html": [
       "<div>                            <div id=\"7c700230-6d7e-4376-bfdf-7a291e32a1c1\" class=\"plotly-graph-div\" style=\"height:525px; width:100%;\"></div>            <script type=\"text/javascript\">                require([\"plotly\"], function(Plotly) {                    window.PLOTLYENV=window.PLOTLYENV || {};                                    if (document.getElementById(\"7c700230-6d7e-4376-bfdf-7a291e32a1c1\")) {                    Plotly.newPlot(                        \"7c700230-6d7e-4376-bfdf-7a291e32a1c1\",                        [{\"hovertemplate\":\"<b>%{hovertext}</b><br><br>\\ubc84\\uac70\\uc9c0\\uc218=%{x}<br>\\uc778\\uad6c=%{y}<extra></extra>\",\"hovertext\":[\"\\uac15\\uc6d0\\ub3c4\",\"\\uacbd\\uae30\\ub3c4\",\"\\uacbd\\uc0c1\\ub0a8\\ub3c4\",\"\\uacbd\\uc0c1\\ubd81\\ub3c4\",\"\\uad11\\uc8fc\\uad11\\uc5ed\\uc2dc\",\"\\ub300\\uad6c\\uad11\\uc5ed\\uc2dc\",\"\\ub300\\uc804\\uad11\\uc5ed\\uc2dc\",\"\\ubd80\\uc0b0\\uad11\\uc5ed\\uc2dc\",\"\\uc11c\\uc6b8\\ud2b9\\ubcc4\\uc2dc\",\"\\uc138\\uc885\\ud2b9\\ubcc4\\uc790\\uce58\\uc2dc\",\"\\uc6b8\\uc0b0\\uad11\\uc5ed\\uc2dc\",\"\\uc778\\ucc9c\\uad11\\uc5ed\\uc2dc\",\"\\uc804\\ub77c\\ub0a8\\ub3c4\",\"\\uc804\\ub77c\\ubd81\\ub3c4\",\"\\uc81c\\uc8fc\\ud2b9\\ubcc4\\uc790\\uce58\\ub3c4\",\"\\ucda9\\uccad\\ub0a8\\ub3c4\",\"\\ucda9\\uccad\\ubd81\\ub3c4\"],\"legendgroup\":\"\",\"marker\":{\"color\":\"#636efa\",\"symbol\":\"circle\"},\"mode\":\"markers\",\"name\":\"\",\"orientation\":\"v\",\"showlegend\":false,\"type\":\"scatter\",\"x\":[0.35185185185185186,0.7760252365930599,0.6551724137931034,0.6470588235294118,0.6666666666666666,0.8333333333333334,0.6274509803921569,0.8536585365853658,1.5469613259668509,0.1,0.6774193548387096,0.7027027027027027,0.3333333333333333,0.490566037735849,0.7142857142857143,0.3636363636363637,0.3508771929824561],\"xaxis\":\"x\",\"y\":[1521,12786,3339,2675,1495,2458,1528,3424,9766,266,1159,2924,1795,1829,635,2153,1609],\"yaxis\":\"y\"},{\"hovertemplate\":\"<b>OLS trendline</b><br>\\uc778\\uad6c = 6481.23 * \\ubc84\\uac70\\uc9c0\\uc218 + -1054.64<br>R<sup>2</sup>=0.389834<br><br>\\ubc84\\uac70\\uc9c0\\uc218=%{x}<br>\\uc778\\uad6c=%{y} <b>(trend)</b><extra></extra>\",\"legendgroup\":\"\",\"marker\":{\"color\":\"#636efa\",\"symbol\":\"circle\"},\"mode\":\"lines\",\"name\":\"\",\"showlegend\":false,\"type\":\"scatter\",\"x\":[0.1,0.3333333333333333,0.3508771929824561,0.35185185185185186,0.3636363636363637,0.490566037735849,0.6274509803921569,0.6470588235294118,0.6551724137931034,0.6666666666666666,0.6774193548387096,0.7027027027027027,0.7142857142857143,0.7760252365930599,0.8333333333333334,0.8536585365853658,1.5469613259668509],\"xaxis\":\"x\",\"y\":[-406.5142031596896,1105.7728844996905,1219.4786805643057,1225.7956692345624,1302.1738049749356,2124.834264324071,3012.0171126417667,3139.1000611845725,3191.6861088574565,3266.1830097273764,3335.8736589282703,3499.740861103343,3574.8130276170464,3974.9610949755765,4346.38807234122,4478.120397050225,8971.5754951353],\"yaxis\":\"y\"}],                        {\"legend\":{\"tracegroupgap\":0},\"margin\":{\"t\":60},\"template\":{\"data\":{\"bar\":[{\"error_x\":{\"color\":\"#2a3f5f\"},\"error_y\":{\"color\":\"#2a3f5f\"},\"marker\":{\"line\":{\"color\":\"#E5ECF6\",\"width\":0.5},\"pattern\":{\"fillmode\":\"overlay\",\"size\":10,\"solidity\":0.2}},\"type\":\"bar\"}],\"barpolar\":[{\"marker\":{\"line\":{\"color\":\"#E5ECF6\",\"width\":0.5},\"pattern\":{\"fillmode\":\"overlay\",\"size\":10,\"solidity\":0.2}},\"type\":\"barpolar\"}],\"carpet\":[{\"aaxis\":{\"endlinecolor\":\"#2a3f5f\",\"gridcolor\":\"white\",\"linecolor\":\"white\",\"minorgridcolor\":\"white\",\"startlinecolor\":\"#2a3f5f\"},\"baxis\":{\"endlinecolor\":\"#2a3f5f\",\"gridcolor\":\"white\",\"linecolor\":\"white\",\"minorgridcolor\":\"white\",\"startlinecolor\":\"#2a3f5f\"},\"type\":\"carpet\"}],\"choropleth\":[{\"colorbar\":{\"outlinewidth\":0,\"ticks\":\"\"},\"type\":\"choropleth\"}],\"contour\":[{\"colorbar\":{\"outlinewidth\":0,\"ticks\":\"\"},\"colorscale\":[[0.0,\"#0d0887\"],[0.1111111111111111,\"#46039f\"],[0.2222222222222222,\"#7201a8\"],[0.3333333333333333,\"#9c179e\"],[0.4444444444444444,\"#bd3786\"],[0.5555555555555556,\"#d8576b\"],[0.6666666666666666,\"#ed7953\"],[0.7777777777777778,\"#fb9f3a\"],[0.8888888888888888,\"#fdca26\"],[1.0,\"#f0f921\"]],\"type\":\"contour\"}],\"contourcarpet\":[{\"colorbar\":{\"outlinewidth\":0,\"ticks\":\"\"},\"type\":\"contourcarpet\"}],\"heatmap\":[{\"colorbar\":{\"outlinewidth\":0,\"ticks\":\"\"},\"colorscale\":[[0.0,\"#0d0887\"],[0.1111111111111111,\"#46039f\"],[0.2222222222222222,\"#7201a8\"],[0.3333333333333333,\"#9c179e\"],[0.4444444444444444,\"#bd3786\"],[0.5555555555555556,\"#d8576b\"],[0.6666666666666666,\"#ed7953\"],[0.7777777777777778,\"#fb9f3a\"],[0.8888888888888888,\"#fdca26\"],[1.0,\"#f0f921\"]],\"type\":\"heatmap\"}],\"heatmapgl\":[{\"colorbar\":{\"outlinewidth\":0,\"ticks\":\"\"},\"colorscale\":[[0.0,\"#0d0887\"],[0.1111111111111111,\"#46039f\"],[0.2222222222222222,\"#7201a8\"],[0.3333333333333333,\"#9c179e\"],[0.4444444444444444,\"#bd3786\"],[0.5555555555555556,\"#d8576b\"],[0.6666666666666666,\"#ed7953\"],[0.7777777777777778,\"#fb9f3a\"],[0.8888888888888888,\"#fdca26\"],[1.0,\"#f0f921\"]],\"type\":\"heatmapgl\"}],\"histogram\":[{\"marker\":{\"pattern\":{\"fillmode\":\"overlay\",\"size\":10,\"solidity\":0.2}},\"type\":\"histogram\"}],\"histogram2d\":[{\"colorbar\":{\"outlinewidth\":0,\"ticks\":\"\"},\"colorscale\":[[0.0,\"#0d0887\"],[0.1111111111111111,\"#46039f\"],[0.2222222222222222,\"#7201a8\"],[0.3333333333333333,\"#9c179e\"],[0.4444444444444444,\"#bd3786\"],[0.5555555555555556,\"#d8576b\"],[0.6666666666666666,\"#ed7953\"],[0.7777777777777778,\"#fb9f3a\"],[0.8888888888888888,\"#fdca26\"],[1.0,\"#f0f921\"]],\"type\":\"histogram2d\"}],\"histogram2dcontour\":[{\"colorbar\":{\"outlinewidth\":0,\"ticks\":\"\"},\"colorscale\":[[0.0,\"#0d0887\"],[0.1111111111111111,\"#46039f\"],[0.2222222222222222,\"#7201a8\"],[0.3333333333333333,\"#9c179e\"],[0.4444444444444444,\"#bd3786\"],[0.5555555555555556,\"#d8576b\"],[0.6666666666666666,\"#ed7953\"],[0.7777777777777778,\"#fb9f3a\"],[0.8888888888888888,\"#fdca26\"],[1.0,\"#f0f921\"]],\"type\":\"histogram2dcontour\"}],\"mesh3d\":[{\"colorbar\":{\"outlinewidth\":0,\"ticks\":\"\"},\"type\":\"mesh3d\"}],\"parcoords\":[{\"line\":{\"colorbar\":{\"outlinewidth\":0,\"ticks\":\"\"}},\"type\":\"parcoords\"}],\"pie\":[{\"automargin\":true,\"type\":\"pie\"}],\"scatter\":[{\"marker\":{\"colorbar\":{\"outlinewidth\":0,\"ticks\":\"\"}},\"type\":\"scatter\"}],\"scatter3d\":[{\"line\":{\"colorbar\":{\"outlinewidth\":0,\"ticks\":\"\"}},\"marker\":{\"colorbar\":{\"outlinewidth\":0,\"ticks\":\"\"}},\"type\":\"scatter3d\"}],\"scattercarpet\":[{\"marker\":{\"colorbar\":{\"outlinewidth\":0,\"ticks\":\"\"}},\"type\":\"scattercarpet\"}],\"scattergeo\":[{\"marker\":{\"colorbar\":{\"outlinewidth\":0,\"ticks\":\"\"}},\"type\":\"scattergeo\"}],\"scattergl\":[{\"marker\":{\"colorbar\":{\"outlinewidth\":0,\"ticks\":\"\"}},\"type\":\"scattergl\"}],\"scattermapbox\":[{\"marker\":{\"colorbar\":{\"outlinewidth\":0,\"ticks\":\"\"}},\"type\":\"scattermapbox\"}],\"scatterpolar\":[{\"marker\":{\"colorbar\":{\"outlinewidth\":0,\"ticks\":\"\"}},\"type\":\"scatterpolar\"}],\"scatterpolargl\":[{\"marker\":{\"colorbar\":{\"outlinewidth\":0,\"ticks\":\"\"}},\"type\":\"scatterpolargl\"}],\"scatterternary\":[{\"marker\":{\"colorbar\":{\"outlinewidth\":0,\"ticks\":\"\"}},\"type\":\"scatterternary\"}],\"surface\":[{\"colorbar\":{\"outlinewidth\":0,\"ticks\":\"\"},\"colorscale\":[[0.0,\"#0d0887\"],[0.1111111111111111,\"#46039f\"],[0.2222222222222222,\"#7201a8\"],[0.3333333333333333,\"#9c179e\"],[0.4444444444444444,\"#bd3786\"],[0.5555555555555556,\"#d8576b\"],[0.6666666666666666,\"#ed7953\"],[0.7777777777777778,\"#fb9f3a\"],[0.8888888888888888,\"#fdca26\"],[1.0,\"#f0f921\"]],\"type\":\"surface\"}],\"table\":[{\"cells\":{\"fill\":{\"color\":\"#EBF0F8\"},\"line\":{\"color\":\"white\"}},\"header\":{\"fill\":{\"color\":\"#C8D4E3\"},\"line\":{\"color\":\"white\"}},\"type\":\"table\"}]},\"layout\":{\"annotationdefaults\":{\"arrowcolor\":\"#2a3f5f\",\"arrowhead\":0,\"arrowwidth\":1},\"autotypenumbers\":\"strict\",\"coloraxis\":{\"colorbar\":{\"outlinewidth\":0,\"ticks\":\"\"}},\"colorscale\":{\"diverging\":[[0,\"#8e0152\"],[0.1,\"#c51b7d\"],[0.2,\"#de77ae\"],[0.3,\"#f1b6da\"],[0.4,\"#fde0ef\"],[0.5,\"#f7f7f7\"],[0.6,\"#e6f5d0\"],[0.7,\"#b8e186\"],[0.8,\"#7fbc41\"],[0.9,\"#4d9221\"],[1,\"#276419\"]],\"sequential\":[[0.0,\"#0d0887\"],[0.1111111111111111,\"#46039f\"],[0.2222222222222222,\"#7201a8\"],[0.3333333333333333,\"#9c179e\"],[0.4444444444444444,\"#bd3786\"],[0.5555555555555556,\"#d8576b\"],[0.6666666666666666,\"#ed7953\"],[0.7777777777777778,\"#fb9f3a\"],[0.8888888888888888,\"#fdca26\"],[1.0,\"#f0f921\"]],\"sequentialminus\":[[0.0,\"#0d0887\"],[0.1111111111111111,\"#46039f\"],[0.2222222222222222,\"#7201a8\"],[0.3333333333333333,\"#9c179e\"],[0.4444444444444444,\"#bd3786\"],[0.5555555555555556,\"#d8576b\"],[0.6666666666666666,\"#ed7953\"],[0.7777777777777778,\"#fb9f3a\"],[0.8888888888888888,\"#fdca26\"],[1.0,\"#f0f921\"]]},\"colorway\":[\"#636efa\",\"#EF553B\",\"#00cc96\",\"#ab63fa\",\"#FFA15A\",\"#19d3f3\",\"#FF6692\",\"#B6E880\",\"#FF97FF\",\"#FECB52\"],\"font\":{\"color\":\"#2a3f5f\"},\"geo\":{\"bgcolor\":\"white\",\"lakecolor\":\"white\",\"landcolor\":\"#E5ECF6\",\"showlakes\":true,\"showland\":true,\"subunitcolor\":\"white\"},\"hoverlabel\":{\"align\":\"left\"},\"hovermode\":\"closest\",\"mapbox\":{\"style\":\"light\"},\"paper_bgcolor\":\"white\",\"plot_bgcolor\":\"#E5ECF6\",\"polar\":{\"angularaxis\":{\"gridcolor\":\"white\",\"linecolor\":\"white\",\"ticks\":\"\"},\"bgcolor\":\"#E5ECF6\",\"radialaxis\":{\"gridcolor\":\"white\",\"linecolor\":\"white\",\"ticks\":\"\"}},\"scene\":{\"xaxis\":{\"backgroundcolor\":\"#E5ECF6\",\"gridcolor\":\"white\",\"gridwidth\":2,\"linecolor\":\"white\",\"showbackground\":true,\"ticks\":\"\",\"zerolinecolor\":\"white\"},\"yaxis\":{\"backgroundcolor\":\"#E5ECF6\",\"gridcolor\":\"white\",\"gridwidth\":2,\"linecolor\":\"white\",\"showbackground\":true,\"ticks\":\"\",\"zerolinecolor\":\"white\"},\"zaxis\":{\"backgroundcolor\":\"#E5ECF6\",\"gridcolor\":\"white\",\"gridwidth\":2,\"linecolor\":\"white\",\"showbackground\":true,\"ticks\":\"\",\"zerolinecolor\":\"white\"}},\"shapedefaults\":{\"line\":{\"color\":\"#2a3f5f\"}},\"ternary\":{\"aaxis\":{\"gridcolor\":\"white\",\"linecolor\":\"white\",\"ticks\":\"\"},\"baxis\":{\"gridcolor\":\"white\",\"linecolor\":\"white\",\"ticks\":\"\"},\"bgcolor\":\"#E5ECF6\",\"caxis\":{\"gridcolor\":\"white\",\"linecolor\":\"white\",\"ticks\":\"\"}},\"title\":{\"x\":0.05},\"xaxis\":{\"automargin\":true,\"gridcolor\":\"white\",\"linecolor\":\"white\",\"ticks\":\"\",\"title\":{\"standoff\":15},\"zerolinecolor\":\"white\",\"zerolinewidth\":2},\"yaxis\":{\"automargin\":true,\"gridcolor\":\"white\",\"linecolor\":\"white\",\"ticks\":\"\",\"title\":{\"standoff\":15},\"zerolinecolor\":\"white\",\"zerolinewidth\":2}}},\"xaxis\":{\"anchor\":\"y\",\"domain\":[0.0,1.0],\"title\":{\"text\":\"\\ubc84\\uac70\\uc9c0\\uc218\"}},\"yaxis\":{\"anchor\":\"x\",\"domain\":[0.0,1.0],\"title\":{\"text\":\"\\uc778\\uad6c\"}}},                        {\"responsive\": true}                    ).then(function(){\n",
       "                            \n",
       "var gd = document.getElementById('7c700230-6d7e-4376-bfdf-7a291e32a1c1');\n",
       "var x = new MutationObserver(function (mutations, observer) {{\n",
       "        var display = window.getComputedStyle(gd).display;\n",
       "        if (!display || display === 'none') {{\n",
       "            console.log([gd, 'removed!']);\n",
       "            Plotly.purge(gd);\n",
       "            observer.disconnect();\n",
       "        }}\n",
       "}});\n",
       "\n",
       "// Listen for the removal of the full notebook cells\n",
       "var notebookContainer = gd.closest('#notebook-container');\n",
       "if (notebookContainer) {{\n",
       "    x.observe(notebookContainer, {childList: true});\n",
       "}}\n",
       "\n",
       "// Listen for the clearing of the current output cell\n",
       "var outputEl = gd.closest('.output');\n",
       "if (outputEl) {{\n",
       "    x.observe(outputEl, {childList: true});\n",
       "}}\n",
       "\n",
       "                        })                };                });            </script>        </div>"
      ]
     },
     "metadata": {},
     "output_type": "display_data"
    }
   ],
   "source": [
    "px.scatter(nstore_stat_df, x='버거지수', y='인구', trendline='ols', hover_name='시도별')\n",
    "# '인구','인구밀도','1인당 지역내총생산', '1인당 지역총소득','1인당 개인소득', '1인당 민간소비'\n"
   ]
  },
  {
   "cell_type": "code",
   "execution_count": 10,
   "metadata": {},
   "outputs": [
    {
     "data": {
      "text/html": [
       "<div>\n",
       "<style scoped>\n",
       "    .dataframe tbody tr th:only-of-type {\n",
       "        vertical-align: middle;\n",
       "    }\n",
       "\n",
       "    .dataframe tbody tr th {\n",
       "        vertical-align: top;\n",
       "    }\n",
       "\n",
       "    .dataframe thead th {\n",
       "        text-align: right;\n",
       "    }\n",
       "</style>\n",
       "<table border=\"1\" class=\"dataframe\">\n",
       "  <thead>\n",
       "    <tr style=\"text-align: right;\">\n",
       "      <th></th>\n",
       "      <th>버거킹</th>\n",
       "      <th>KFC</th>\n",
       "      <th>맥도날드</th>\n",
       "      <th>롯데리아</th>\n",
       "    </tr>\n",
       "  </thead>\n",
       "  <tbody>\n",
       "    <tr>\n",
       "      <th>강원도 강릉시</th>\n",
       "      <td>1</td>\n",
       "      <td>0</td>\n",
       "      <td>1</td>\n",
       "      <td>6</td>\n",
       "    </tr>\n",
       "    <tr>\n",
       "      <th>강원도 속초시</th>\n",
       "      <td>1</td>\n",
       "      <td>0</td>\n",
       "      <td>1</td>\n",
       "      <td>3</td>\n",
       "    </tr>\n",
       "    <tr>\n",
       "      <th>강원도 원주시</th>\n",
       "      <td>3</td>\n",
       "      <td>1</td>\n",
       "      <td>2</td>\n",
       "      <td>15</td>\n",
       "    </tr>\n",
       "    <tr>\n",
       "      <th>강원도 춘천시</th>\n",
       "      <td>2</td>\n",
       "      <td>2</td>\n",
       "      <td>2</td>\n",
       "      <td>7</td>\n",
       "    </tr>\n",
       "    <tr>\n",
       "      <th>강원도 홍천군</th>\n",
       "      <td>2</td>\n",
       "      <td>0</td>\n",
       "      <td>0</td>\n",
       "      <td>2</td>\n",
       "    </tr>\n",
       "    <tr>\n",
       "      <th>...</th>\n",
       "      <td>...</td>\n",
       "      <td>...</td>\n",
       "      <td>...</td>\n",
       "      <td>...</td>\n",
       "    </tr>\n",
       "    <tr>\n",
       "      <th>충청북도 보은군</th>\n",
       "      <td>0</td>\n",
       "      <td>0</td>\n",
       "      <td>0</td>\n",
       "      <td>1</td>\n",
       "    </tr>\n",
       "    <tr>\n",
       "      <th>충청북도 영동군</th>\n",
       "      <td>0</td>\n",
       "      <td>0</td>\n",
       "      <td>0</td>\n",
       "      <td>1</td>\n",
       "    </tr>\n",
       "    <tr>\n",
       "      <th>충청북도 옥천군</th>\n",
       "      <td>0</td>\n",
       "      <td>0</td>\n",
       "      <td>0</td>\n",
       "      <td>2</td>\n",
       "    </tr>\n",
       "    <tr>\n",
       "      <th>충청북도 증평군</th>\n",
       "      <td>0</td>\n",
       "      <td>0</td>\n",
       "      <td>0</td>\n",
       "      <td>1</td>\n",
       "    </tr>\n",
       "    <tr>\n",
       "      <th>충청북도 청원군</th>\n",
       "      <td>0</td>\n",
       "      <td>0</td>\n",
       "      <td>0</td>\n",
       "      <td>4</td>\n",
       "    </tr>\n",
       "  </tbody>\n",
       "</table>\n",
       "<p>240 rows × 4 columns</p>\n",
       "</div>"
      ],
      "text/plain": [
       "          버거킹  KFC  맥도날드  롯데리아\n",
       "강원도 강릉시     1    0     1     6\n",
       "강원도 속초시     1    0     1     3\n",
       "강원도 원주시     3    1     2    15\n",
       "강원도 춘천시     2    2     2     7\n",
       "강원도 홍천군     2    0     0     2\n",
       "...       ...  ...   ...   ...\n",
       "충청북도 보은군    0    0     0     1\n",
       "충청북도 영동군    0    0     0     1\n",
       "충청북도 옥천군    0    0     0     2\n",
       "충청북도 증평군    0    0     0     1\n",
       "충청북도 청원군    0    0     0     4\n",
       "\n",
       "[240 rows x 4 columns]"
      ]
     },
     "execution_count": 10,
     "metadata": {},
     "output_type": "execute_result"
    }
   ],
   "source": [
    "nstore_df.index = nstore_df['주소'].values\n",
    "brand_df = nstore_df[['버거킹', 'KFC', '맥도날드', '롯데리아']]\n",
    "brand_df"
   ]
  },
  {
   "cell_type": "code",
   "execution_count": 11,
   "metadata": {},
   "outputs": [
    {
     "name": "stderr",
     "output_type": "stream",
     "text": [
      "C:\\Users\\stat\\anaconda3\\lib\\site-packages\\matplotlib\\backends\\backend_agg.py:238: RuntimeWarning:\n",
      "\n",
      "Glyph 48260 missing from current font.\n",
      "\n",
      "C:\\Users\\stat\\anaconda3\\lib\\site-packages\\matplotlib\\backends\\backend_agg.py:238: RuntimeWarning:\n",
      "\n",
      "Glyph 44144 missing from current font.\n",
      "\n",
      "C:\\Users\\stat\\anaconda3\\lib\\site-packages\\matplotlib\\backends\\backend_agg.py:238: RuntimeWarning:\n",
      "\n",
      "Glyph 53433 missing from current font.\n",
      "\n",
      "C:\\Users\\stat\\anaconda3\\lib\\site-packages\\matplotlib\\backends\\backend_agg.py:238: RuntimeWarning:\n",
      "\n",
      "Glyph 47589 missing from current font.\n",
      "\n",
      "C:\\Users\\stat\\anaconda3\\lib\\site-packages\\matplotlib\\backends\\backend_agg.py:238: RuntimeWarning:\n",
      "\n",
      "Glyph 46020 missing from current font.\n",
      "\n",
      "C:\\Users\\stat\\anaconda3\\lib\\site-packages\\matplotlib\\backends\\backend_agg.py:238: RuntimeWarning:\n",
      "\n",
      "Glyph 45216 missing from current font.\n",
      "\n",
      "C:\\Users\\stat\\anaconda3\\lib\\site-packages\\matplotlib\\backends\\backend_agg.py:238: RuntimeWarning:\n",
      "\n",
      "Glyph 46300 missing from current font.\n",
      "\n",
      "C:\\Users\\stat\\anaconda3\\lib\\site-packages\\matplotlib\\backends\\backend_agg.py:238: RuntimeWarning:\n",
      "\n",
      "Glyph 47215 missing from current font.\n",
      "\n",
      "C:\\Users\\stat\\anaconda3\\lib\\site-packages\\matplotlib\\backends\\backend_agg.py:238: RuntimeWarning:\n",
      "\n",
      "Glyph 45936 missing from current font.\n",
      "\n",
      "C:\\Users\\stat\\anaconda3\\lib\\site-packages\\matplotlib\\backends\\backend_agg.py:238: RuntimeWarning:\n",
      "\n",
      "Glyph 47532 missing from current font.\n",
      "\n",
      "C:\\Users\\stat\\anaconda3\\lib\\site-packages\\matplotlib\\backends\\backend_agg.py:238: RuntimeWarning:\n",
      "\n",
      "Glyph 50500 missing from current font.\n",
      "\n",
      "C:\\Users\\stat\\anaconda3\\lib\\site-packages\\matplotlib\\backends\\backend_agg.py:201: RuntimeWarning:\n",
      "\n",
      "Glyph 48260 missing from current font.\n",
      "\n",
      "C:\\Users\\stat\\anaconda3\\lib\\site-packages\\matplotlib\\backends\\backend_agg.py:201: RuntimeWarning:\n",
      "\n",
      "Glyph 44144 missing from current font.\n",
      "\n",
      "C:\\Users\\stat\\anaconda3\\lib\\site-packages\\matplotlib\\backends\\backend_agg.py:201: RuntimeWarning:\n",
      "\n",
      "Glyph 53433 missing from current font.\n",
      "\n",
      "C:\\Users\\stat\\anaconda3\\lib\\site-packages\\matplotlib\\backends\\backend_agg.py:201: RuntimeWarning:\n",
      "\n",
      "Glyph 47589 missing from current font.\n",
      "\n",
      "C:\\Users\\stat\\anaconda3\\lib\\site-packages\\matplotlib\\backends\\backend_agg.py:201: RuntimeWarning:\n",
      "\n",
      "Glyph 46020 missing from current font.\n",
      "\n",
      "C:\\Users\\stat\\anaconda3\\lib\\site-packages\\matplotlib\\backends\\backend_agg.py:201: RuntimeWarning:\n",
      "\n",
      "Glyph 45216 missing from current font.\n",
      "\n",
      "C:\\Users\\stat\\anaconda3\\lib\\site-packages\\matplotlib\\backends\\backend_agg.py:201: RuntimeWarning:\n",
      "\n",
      "Glyph 46300 missing from current font.\n",
      "\n",
      "C:\\Users\\stat\\anaconda3\\lib\\site-packages\\matplotlib\\backends\\backend_agg.py:201: RuntimeWarning:\n",
      "\n",
      "Glyph 47215 missing from current font.\n",
      "\n",
      "C:\\Users\\stat\\anaconda3\\lib\\site-packages\\matplotlib\\backends\\backend_agg.py:201: RuntimeWarning:\n",
      "\n",
      "Glyph 45936 missing from current font.\n",
      "\n",
      "C:\\Users\\stat\\anaconda3\\lib\\site-packages\\matplotlib\\backends\\backend_agg.py:201: RuntimeWarning:\n",
      "\n",
      "Glyph 47532 missing from current font.\n",
      "\n",
      "C:\\Users\\stat\\anaconda3\\lib\\site-packages\\matplotlib\\backends\\backend_agg.py:201: RuntimeWarning:\n",
      "\n",
      "Glyph 50500 missing from current font.\n",
      "\n"
     ]
    },
    {
     "data": {
      "image/png": "[encoded data removed]",
      "text/plain": [
       "<Figure size 576x360 with 1 Axes>"
      ]
     },
     "metadata": {
      "needs_background": "light"
     },
     "output_type": "display_data"
    }
   ],
   "source": [
    "fig = plt.figure(figsize=(8,5))\n",
    "plt.bar(brand_df.sum().index, brand_df.sum())\n",
    "plt.grid(True, linestyle=':')"
   ]
  },
  {
   "cell_type": "code",
   "execution_count": 12,
   "metadata": {},
   "outputs": [
    {
     "data": {
      "text/html": [
       "<div>\n",
       "<style scoped>\n",
       "    .dataframe tbody tr th:only-of-type {\n",
       "        vertical-align: middle;\n",
       "    }\n",
       "\n",
       "    .dataframe tbody tr th {\n",
       "        vertical-align: top;\n",
       "    }\n",
       "\n",
       "    .dataframe thead th {\n",
       "        text-align: right;\n",
       "    }\n",
       "</style>\n",
       "<table border=\"1\" class=\"dataframe\">\n",
       "  <thead>\n",
       "    <tr style=\"text-align: right;\">\n",
       "      <th></th>\n",
       "      <th>버거킹</th>\n",
       "      <th>KFC</th>\n",
       "      <th>맥도날드</th>\n",
       "      <th>롯데리아</th>\n",
       "    </tr>\n",
       "  </thead>\n",
       "  <tbody>\n",
       "    <tr>\n",
       "      <th>버거킹</th>\n",
       "      <td>1.000000</td>\n",
       "      <td>0.740527</td>\n",
       "      <td>0.831703</td>\n",
       "      <td>0.786932</td>\n",
       "    </tr>\n",
       "    <tr>\n",
       "      <th>KFC</th>\n",
       "      <td>0.740527</td>\n",
       "      <td>1.000000</td>\n",
       "      <td>0.743651</td>\n",
       "      <td>0.566187</td>\n",
       "    </tr>\n",
       "    <tr>\n",
       "      <th>맥도날드</th>\n",
       "      <td>0.831703</td>\n",
       "      <td>0.743651</td>\n",
       "      <td>1.000000</td>\n",
       "      <td>0.749720</td>\n",
       "    </tr>\n",
       "    <tr>\n",
       "      <th>롯데리아</th>\n",
       "      <td>0.786932</td>\n",
       "      <td>0.566187</td>\n",
       "      <td>0.749720</td>\n",
       "      <td>1.000000</td>\n",
       "    </tr>\n",
       "  </tbody>\n",
       "</table>\n",
       "</div>"
      ],
      "text/plain": [
       "           버거킹       KFC      맥도날드      롯데리아\n",
       "버거킹   1.000000  0.740527  0.831703  0.786932\n",
       "KFC   0.740527  1.000000  0.743651  0.566187\n",
       "맥도날드  0.831703  0.743651  1.000000  0.749720\n",
       "롯데리아  0.786932  0.566187  0.749720  1.000000"
      ]
     },
     "execution_count": 12,
     "metadata": {},
     "output_type": "execute_result"
    }
   ],
   "source": [
    "# 수치로 확인\n",
    "brand_df.corr()"
   ]
  },
  {
   "cell_type": "code",
   "execution_count": 13,
   "metadata": {},
   "outputs": [
    {
     "data": {
      "text/plain": [
       "(4, 240)"
      ]
     },
     "execution_count": 13,
     "metadata": {},
     "output_type": "execute_result"
    }
   ],
   "source": [
    "BMK = brand_df.to_numpy().T\n",
    "BMK.shape # index - 0:버거킹, 1:KFC, 2:맥도날드, 3:롯데리아"
   ]
  },
  {
   "cell_type": "code",
   "execution_count": 14,
   "metadata": {},
   "outputs": [
    {
     "name": "stderr",
     "output_type": "stream",
     "text": [
      "C:\\Users\\stat\\anaconda3\\lib\\site-packages\\matplotlib\\backends\\backend_agg.py:238: RuntimeWarning:\n",
      "\n",
      "Glyph 48260 missing from current font.\n",
      "\n",
      "C:\\Users\\stat\\anaconda3\\lib\\site-packages\\matplotlib\\backends\\backend_agg.py:238: RuntimeWarning:\n",
      "\n",
      "Glyph 44144 missing from current font.\n",
      "\n",
      "C:\\Users\\stat\\anaconda3\\lib\\site-packages\\matplotlib\\backends\\backend_agg.py:238: RuntimeWarning:\n",
      "\n",
      "Glyph 53433 missing from current font.\n",
      "\n",
      "findfont: Font family ['AppleGothic'] not found. Falling back to DejaVu Sans.\n",
      "C:\\Users\\stat\\anaconda3\\lib\\site-packages\\matplotlib\\backends\\backend_agg.py:238: RuntimeWarning:\n",
      "\n",
      "Glyph 47589 missing from current font.\n",
      "\n",
      "C:\\Users\\stat\\anaconda3\\lib\\site-packages\\matplotlib\\backends\\backend_agg.py:238: RuntimeWarning:\n",
      "\n",
      "Glyph 46020 missing from current font.\n",
      "\n",
      "C:\\Users\\stat\\anaconda3\\lib\\site-packages\\matplotlib\\backends\\backend_agg.py:238: RuntimeWarning:\n",
      "\n",
      "Glyph 45216 missing from current font.\n",
      "\n",
      "C:\\Users\\stat\\anaconda3\\lib\\site-packages\\matplotlib\\backends\\backend_agg.py:238: RuntimeWarning:\n",
      "\n",
      "Glyph 46300 missing from current font.\n",
      "\n",
      "C:\\Users\\stat\\anaconda3\\lib\\site-packages\\matplotlib\\backends\\backend_agg.py:238: RuntimeWarning:\n",
      "\n",
      "Glyph 47215 missing from current font.\n",
      "\n",
      "C:\\Users\\stat\\anaconda3\\lib\\site-packages\\matplotlib\\backends\\backend_agg.py:238: RuntimeWarning:\n",
      "\n",
      "Glyph 45936 missing from current font.\n",
      "\n",
      "C:\\Users\\stat\\anaconda3\\lib\\site-packages\\matplotlib\\backends\\backend_agg.py:238: RuntimeWarning:\n",
      "\n",
      "Glyph 47532 missing from current font.\n",
      "\n",
      "C:\\Users\\stat\\anaconda3\\lib\\site-packages\\matplotlib\\backends\\backend_agg.py:238: RuntimeWarning:\n",
      "\n",
      "Glyph 50500 missing from current font.\n",
      "\n",
      "C:\\Users\\stat\\anaconda3\\lib\\site-packages\\matplotlib\\backends\\backend_agg.py:201: RuntimeWarning:\n",
      "\n",
      "Glyph 48260 missing from current font.\n",
      "\n",
      "C:\\Users\\stat\\anaconda3\\lib\\site-packages\\matplotlib\\backends\\backend_agg.py:201: RuntimeWarning:\n",
      "\n",
      "Glyph 44144 missing from current font.\n",
      "\n",
      "C:\\Users\\stat\\anaconda3\\lib\\site-packages\\matplotlib\\backends\\backend_agg.py:201: RuntimeWarning:\n",
      "\n",
      "Glyph 53433 missing from current font.\n",
      "\n",
      "C:\\Users\\stat\\anaconda3\\lib\\site-packages\\matplotlib\\backends\\backend_agg.py:201: RuntimeWarning:\n",
      "\n",
      "Glyph 47589 missing from current font.\n",
      "\n",
      "C:\\Users\\stat\\anaconda3\\lib\\site-packages\\matplotlib\\backends\\backend_agg.py:201: RuntimeWarning:\n",
      "\n",
      "Glyph 46020 missing from current font.\n",
      "\n",
      "C:\\Users\\stat\\anaconda3\\lib\\site-packages\\matplotlib\\backends\\backend_agg.py:201: RuntimeWarning:\n",
      "\n",
      "Glyph 45216 missing from current font.\n",
      "\n",
      "C:\\Users\\stat\\anaconda3\\lib\\site-packages\\matplotlib\\backends\\backend_agg.py:201: RuntimeWarning:\n",
      "\n",
      "Glyph 46300 missing from current font.\n",
      "\n",
      "C:\\Users\\stat\\anaconda3\\lib\\site-packages\\matplotlib\\backends\\backend_agg.py:201: RuntimeWarning:\n",
      "\n",
      "Glyph 47215 missing from current font.\n",
      "\n",
      "C:\\Users\\stat\\anaconda3\\lib\\site-packages\\matplotlib\\backends\\backend_agg.py:201: RuntimeWarning:\n",
      "\n",
      "Glyph 45936 missing from current font.\n",
      "\n",
      "C:\\Users\\stat\\anaconda3\\lib\\site-packages\\matplotlib\\backends\\backend_agg.py:201: RuntimeWarning:\n",
      "\n",
      "Glyph 47532 missing from current font.\n",
      "\n",
      "C:\\Users\\stat\\anaconda3\\lib\\site-packages\\matplotlib\\backends\\backend_agg.py:201: RuntimeWarning:\n",
      "\n",
      "Glyph 50500 missing from current font.\n",
      "\n"
     ]
    },
    {
     "data": {
      "image/png": "[encoded data removed]",
      "text/plain": [
       "<Figure size 864x864 with 6 Axes>"
      ]
     },
     "metadata": {
      "needs_background": "light"
     },
     "output_type": "display_data"
    }
   ],
   "source": [
    "#매장별 상관관계 분석하기\n",
    "import scipy.stats\n",
    "import numpy as np\n",
    "\n",
    "fig = plt.figure(figsize=(12,12))\n",
    "\n",
    "def plot_nstores3(b1, b2, label1, label2):\n",
    "    plt.scatter(brand_df[b1] + np.random.random(len(brand_df)),\n",
    "                brand_df[b2] + np.random.random(len(brand_df)),\n",
    "                edgecolor='none', alpha=0.75, s=6, c='black')\n",
    "    plt.xlim(-1, 15 if (b1 != '롯데리아') & (b1 != '맘스터치') else 35)\n",
    "    plt.ylim(-1, 15 if (b2 != '롯데리아') & (b2 != '맘스터치') else 35)\n",
    "    plt.xlabel(label1)\n",
    "    plt.ylabel(label2)\n",
    "\n",
    "    r = scipy.stats.pearsonr(brand_df[b1], brand_df[b2])\n",
    "\n",
    "    if r[0]>=0.75:\n",
    "        color='red'\n",
    "    elif r[0]<0.5:\n",
    "        color='blue'\n",
    "    else:\n",
    "        color='black'\n",
    "\n",
    "    plt.annotate('r={:.3f}'.format(r[0]), (9 if (b1 != '롯데리아') & (b1 != '맘스터치') else 20,\n",
    "                                          12.5 if (b2 != '롯데리아') &(b2 != '맘스터치') else 20),\n",
    "                 fontsize=14, color=color)\n",
    "bgbrands = [\n",
    "            ('버거킹', '버거킹'), ('KFC', 'KFC'),('맥도날드', '맥도날드'),('롯데리아','롯데리아')\n",
    "]\n",
    "\n",
    "for a in range(len(bgbrands) - 1):\n",
    "    for b in range(1, len(bgbrands)):\n",
    "        if a >= b:\n",
    "            continue\n",
    "        ax = fig.add_subplot(len(bgbrands)-1, len(bgbrands)-1, a * 3 + b)\n",
    "        acol, alabel = bgbrands[a]\n",
    "        bcol, blabel = bgbrands[b]\n",
    "        plot_nstores3(bcol, acol, blabel, alabel)\n",
    "\n",
    "plt.tight_layout()\n"
   ]
  },
  {
   "cell_type": "code",
   "execution_count": null,
   "metadata": {},
   "outputs": [],
   "source": []
  }
 ],
 "metadata": {
  "kernelspec": {
   "display_name": "Python 3",
   "language": "python",
   "name": "python3"
  },
  "language_info": {
   "codemirror_mode": {
    "name": "ipython",
    "version": 3
   },
   "file_extension": ".py",
   "mimetype": "text/x-python",
   "name": "python",
   "nbconvert_exporter": "python",
   "pygments_lexer": "ipython3",
   "version": "3.8.5"
  }
 },
 "nbformat": 4,
 "nbformat_minor": 4
}
