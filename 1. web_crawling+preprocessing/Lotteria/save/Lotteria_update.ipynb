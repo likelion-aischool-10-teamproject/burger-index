{
 "cells": [
  {
   "cell_type": "markdown",
   "metadata": {},
   "source": [
    "# 롯데리아 업데이트\n",
    "주소2(시군구 이름)이 잘못된 데이터 처리"
   ]
  },
  {
   "cell_type": "code",
   "execution_count": 1,
   "metadata": {},
   "outputs": [],
   "source": [
    "import pandas as pd\n",
    "import os\n",
    "import numpy as np"
   ]
  },
  {
   "cell_type": "code",
   "execution_count": 2,
   "metadata": {},
   "outputs": [
    {
     "data": {
      "text/html": [
       "<div>\n",
       "<style scoped>\n",
       "    .dataframe tbody tr th:only-of-type {\n",
       "        vertical-align: middle;\n",
       "    }\n",
       "\n",
       "    .dataframe tbody tr th {\n",
       "        vertical-align: top;\n",
       "    }\n",
       "\n",
       "    .dataframe thead th {\n",
       "        text-align: right;\n",
       "    }\n",
       "</style>\n",
       "<table border=\"1\" class=\"dataframe\">\n",
       "  <thead>\n",
       "    <tr style=\"text-align: right;\">\n",
       "      <th></th>\n",
       "      <th>지점명</th>\n",
       "      <th>주소</th>\n",
       "      <th>주소1</th>\n",
       "      <th>주소2</th>\n",
       "      <th>주소3</th>\n",
       "    </tr>\n",
       "  </thead>\n",
       "  <tbody>\n",
       "    <tr>\n",
       "      <th>0</th>\n",
       "      <td>가평휴게소(상)</td>\n",
       "      <td>경기 가평군 설악면 미사리로 544</td>\n",
       "      <td>경기도</td>\n",
       "      <td>가평군</td>\n",
       "      <td>설악면 미사리로 544</td>\n",
       "    </tr>\n",
       "    <tr>\n",
       "      <th>1</th>\n",
       "      <td>수원파장</td>\n",
       "      <td>경기 수원시 장안구 파장로 91</td>\n",
       "      <td>경기도</td>\n",
       "      <td>수원시</td>\n",
       "      <td>장안구 파장로 91</td>\n",
       "    </tr>\n",
       "    <tr>\n",
       "      <th>2</th>\n",
       "      <td>대구성당D/T</td>\n",
       "      <td>대구 달서구 구마로 209</td>\n",
       "      <td>대구광역시</td>\n",
       "      <td>달서구</td>\n",
       "      <td>구마로 209</td>\n",
       "    </tr>\n",
       "    <tr>\n",
       "      <th>3</th>\n",
       "      <td>아산장재</td>\n",
       "      <td>서울 용산구 한강대로71길 47</td>\n",
       "      <td>서울특별시</td>\n",
       "      <td>용산구</td>\n",
       "      <td>한강대로71길 47</td>\n",
       "    </tr>\n",
       "    <tr>\n",
       "      <th>4</th>\n",
       "      <td>김포마산</td>\n",
       "      <td>경기 김포시 김포한강8로148번길 5</td>\n",
       "      <td>경기도</td>\n",
       "      <td>김포시</td>\n",
       "      <td>김포한강8로148번길 5</td>\n",
       "    </tr>\n",
       "    <tr>\n",
       "      <th>...</th>\n",
       "      <td>...</td>\n",
       "      <td>...</td>\n",
       "      <td>...</td>\n",
       "      <td>...</td>\n",
       "      <td>...</td>\n",
       "    </tr>\n",
       "    <tr>\n",
       "      <th>1299</th>\n",
       "      <td>여의도선착장</td>\n",
       "      <td>서울 영등포구 여의동로 290</td>\n",
       "      <td>서울특별시</td>\n",
       "      <td>영등포구</td>\n",
       "      <td>여의동로 290</td>\n",
       "    </tr>\n",
       "    <tr>\n",
       "      <th>1300</th>\n",
       "      <td>청주하나로</td>\n",
       "      <td>충북 청주시 상당구 무농정로 32 청주하나로클럽內</td>\n",
       "      <td>충청북도</td>\n",
       "      <td>청주시</td>\n",
       "      <td>상당구 무농정로 32 청주하나로클럽內</td>\n",
       "    </tr>\n",
       "    <tr>\n",
       "      <th>1301</th>\n",
       "      <td>전주효자서부</td>\n",
       "      <td>전북 전주시 완산구 호암로 65</td>\n",
       "      <td>전라북도</td>\n",
       "      <td>전주시</td>\n",
       "      <td>완산구 호암로 65</td>\n",
       "    </tr>\n",
       "    <tr>\n",
       "      <th>1302</th>\n",
       "      <td>시흥정왕역</td>\n",
       "      <td>경기 시흥시 마유로418번 길10</td>\n",
       "      <td>경기도</td>\n",
       "      <td>시흥시</td>\n",
       "      <td>마유로418번 길10</td>\n",
       "    </tr>\n",
       "    <tr>\n",
       "      <th>1303</th>\n",
       "      <td>아산탕정</td>\n",
       "      <td>충남 아산신 탕정면 탕정면로 37</td>\n",
       "      <td>충청남도</td>\n",
       "      <td>아산신</td>\n",
       "      <td>탕정면 탕정면로 37</td>\n",
       "    </tr>\n",
       "  </tbody>\n",
       "</table>\n",
       "<p>1304 rows × 5 columns</p>\n",
       "</div>"
      ],
      "text/plain": [
       "           지점명                            주소    주소1   주소2  \\\n",
       "0     가평휴게소(상)          경기 가평군 설악면 미사리로 544     경기도   가평군   \n",
       "1         수원파장            경기 수원시 장안구 파장로 91     경기도   수원시   \n",
       "2      대구성당D/T               대구 달서구 구마로 209   대구광역시   달서구   \n",
       "3         아산장재            서울 용산구 한강대로71길 47   서울특별시   용산구   \n",
       "4         김포마산         경기 김포시 김포한강8로148번길 5     경기도   김포시   \n",
       "...        ...                           ...    ...   ...   \n",
       "1299    여의도선착장             서울 영등포구 여의동로 290   서울특별시  영등포구   \n",
       "1300     청주하나로  충북 청주시 상당구 무농정로 32 청주하나로클럽內    충청북도   청주시   \n",
       "1301    전주효자서부            전북 전주시 완산구 호암로 65    전라북도   전주시   \n",
       "1302     시흥정왕역           경기 시흥시 마유로418번 길10     경기도   시흥시   \n",
       "1303      아산탕정           충남 아산신 탕정면 탕정면로 37    충청남도   아산신   \n",
       "\n",
       "                       주소3  \n",
       "0             설악면 미사리로 544  \n",
       "1               장안구 파장로 91  \n",
       "2                  구마로 209  \n",
       "3               한강대로71길 47  \n",
       "4            김포한강8로148번길 5  \n",
       "...                    ...  \n",
       "1299              여의동로 290  \n",
       "1300  상당구 무농정로 32 청주하나로클럽內  \n",
       "1301            완산구 호암로 65  \n",
       "1302           마유로418번 길10  \n",
       "1303           탕정면 탕정면로 37  \n",
       "\n",
       "[1304 rows x 5 columns]"
      ]
     },
     "execution_count": 2,
     "metadata": {},
     "output_type": "execute_result"
    }
   ],
   "source": [
    "dat = pd.read_csv(\"lotteria_all_store.csv\")\n",
    "dat"
   ]
  },
  {
   "cell_type": "code",
   "execution_count": 3,
   "metadata": {},
   "outputs": [
    {
     "data": {
      "text/plain": [
       "array(['가평군', '수원시', '달서구', '용산구', '김포시', '여수시', '김해시', '용인시', '진주시',\n",
       "       '의정부시', '안산시', '영암군', '양천구', '연수구', '원주시', '문경시', '광명시', '서구',\n",
       "       '하남시', '청주시', '무안군', '남양주시', '논산시', '동구', nan, '마포구', '고양시', '천안시',\n",
       "       '남구', '사하구', '북구', '안양시', '포항시', '강동구', '시흥시', '화성시', '구미시', '충주시',\n",
       "       '부평구', '제주시', '전주시', '양양군', '이천시', '광주시', '평택시', '강서구', '은평구',\n",
       "       '서천군', '홍천군', '거제시', '산청군', '서대문구', '군포시', '달성군', '중구', '창원시',\n",
       "       '진도군', '평창군', '수성구', '성남시', '남동구', '의령군', '익산시', '부천시', '광산구',\n",
       "       '동래구', '제천시', '노원구', '당진시', '진안군', '경산시', '안성시', '서초구', '서귀포시',\n",
       "       '파주시', '서산시', '성동구', '순천시', '밀양시', '안동시', '금정구', '해운대구', '강남구',\n",
       "       '곡성군', '의성군', '부산진구', '영주시', '음성군', '금천구', '춘천시', '구리시', '관악구',\n",
       "       '동대문구', '보성군', '속초시', '울릉군', '인제군', '수영구', '울주군', '장수군', '경주시',\n",
       "       '송파구', '영등포구', '양주시', '유성구', '옹진군', '아산시', '중랑구', '오산시', '양산시',\n",
       "       '정읍시', '의왕시', '동작구', '고성군', '함평군', '김천시', '홍성군', '무주군', '보령시',\n",
       "       '구례군', '강북구', '청원군', '당진군', '강릉시', '여주군', '과천시', '기장군', '나주시금천면',\n",
       "       '봉화군', '하동군', '금남면', '연기면', '양평군', '성북구', '구로구', '고령군', '고흥군고흥읍',\n",
       "       '연제구', '사상구', '장성군장성읍', '순창군', '논산시연무읍', '창녕군남지읍', '임실군임실읍', '완주군',\n",
       "       '광진구', '담양군', '부안군', '성주군', '함안군', '화천군', '부여군', '장흥군', '영천시',\n",
       "       '군산시', '대덕구', '도봉구', '계양구', '강진군', '여주시', '동두천시', '진구', '목포시',\n",
       "       '종로구', '정선군', '남원시', '동해시', '괴산군', '철원군', '포천시', '영광군', '청양군',\n",
       "       '광양시', '완도군', '단양군', '함양군', '통영시', '을주군', '영덕군', '칠곡군', '청도군',\n",
       "       '예천군', '합천군', '창녕군', '사천시', '울진군', '남해군', '거창군', '상주시', '화순군',\n",
       "       '광역시', '고창군', '해남군', '나주시', '김제시', '조치원읍', '옥천군', '공주시', '진천군',\n",
       "       '태안군', '계룡시', '금산군', '영동군', '증평군', '예산군', '보은군', '태백시', '영월군',\n",
       "       '횡성군', '양구군', '삼척시', '강화군', '연천군', '남양주시화도읍', '영도구', '구로', '종로2가',\n",
       "       '아산신'], dtype=object)"
      ]
     },
     "execution_count": 3,
     "metadata": {},
     "output_type": "execute_result"
    }
   ],
   "source": [
    "# 중복 제거\n",
    "addr = dat[\"주소2\"].unique()\n",
    "addr"
   ]
  },
  {
   "cell_type": "markdown",
   "metadata": {},
   "source": [
    "## 1. nan 값 처리\n",
    "- 세종특별자치시 주소가 거리명으로 되어 있음 \n",
    "- 세종특별자치시는 1읍 9면 10행정동 18법정동으로 구성\n",
    "- 지점명에 포함되어 있는 동 이름을 주소2로 붙여줌 (세종보람디엠시티는 직접 지정)"
   ]
  },
  {
   "cell_type": "code",
   "execution_count": 18,
   "metadata": {},
   "outputs": [
    {
     "data": {
      "text/html": [
       "<div>\n",
       "<style scoped>\n",
       "    .dataframe tbody tr th:only-of-type {\n",
       "        vertical-align: middle;\n",
       "    }\n",
       "\n",
       "    .dataframe tbody tr th {\n",
       "        vertical-align: top;\n",
       "    }\n",
       "\n",
       "    .dataframe thead th {\n",
       "        text-align: right;\n",
       "    }\n",
       "</style>\n",
       "<table border=\"1\" class=\"dataframe\">\n",
       "  <thead>\n",
       "    <tr style=\"text-align: right;\">\n",
       "      <th></th>\n",
       "      <th>지점명</th>\n",
       "      <th>주소</th>\n",
       "      <th>주소1</th>\n",
       "      <th>주소2</th>\n",
       "      <th>주소3</th>\n",
       "    </tr>\n",
       "  </thead>\n",
       "  <tbody>\n",
       "    <tr>\n",
       "      <th>29</th>\n",
       "      <td>세종반곡</td>\n",
       "      <td>세종  한누리대로 1824</td>\n",
       "      <td>세종특별자치시</td>\n",
       "      <td>NaN</td>\n",
       "      <td>한누리대로 1824</td>\n",
       "    </tr>\n",
       "    <tr>\n",
       "      <th>83</th>\n",
       "      <td>세종보람디엠시티</td>\n",
       "      <td>세종  한누리대로 2165</td>\n",
       "      <td>세종특별자치시</td>\n",
       "      <td>NaN</td>\n",
       "      <td>한누리대로 2165</td>\n",
       "    </tr>\n",
       "    <tr>\n",
       "      <th>84</th>\n",
       "      <td>세종고운</td>\n",
       "      <td>세종  마음안1로 137</td>\n",
       "      <td>세종특별자치시</td>\n",
       "      <td>NaN</td>\n",
       "      <td>마음안1로 137</td>\n",
       "    </tr>\n",
       "    <tr>\n",
       "      <th>87</th>\n",
       "      <td>세종소담</td>\n",
       "      <td>세종  한누리대로 2009</td>\n",
       "      <td>세종특별자치시</td>\n",
       "      <td>NaN</td>\n",
       "      <td>한누리대로 2009</td>\n",
       "    </tr>\n",
       "    <tr>\n",
       "      <th>282</th>\n",
       "      <td>세종종촌</td>\n",
       "      <td>세종  도움1로 108</td>\n",
       "      <td>세종특별자치시</td>\n",
       "      <td>NaN</td>\n",
       "      <td>도움1로 108</td>\n",
       "    </tr>\n",
       "    <tr>\n",
       "      <th>309</th>\n",
       "      <td>세종부강</td>\n",
       "      <td>세종  부강면 부강로 42</td>\n",
       "      <td>세종특별자치시</td>\n",
       "      <td>NaN</td>\n",
       "      <td>부강면 부강로 42</td>\n",
       "    </tr>\n",
       "  </tbody>\n",
       "</table>\n",
       "</div>"
      ],
      "text/plain": [
       "          지점명               주소      주소1  주소2         주소3\n",
       "29       세종반곡  세종  한누리대로 1824   세종특별자치시  NaN  한누리대로 1824\n",
       "83   세종보람디엠시티  세종  한누리대로 2165   세종특별자치시  NaN  한누리대로 2165\n",
       "84       세종고운   세종  마음안1로 137   세종특별자치시  NaN   마음안1로 137\n",
       "87       세종소담  세종  한누리대로 2009   세종특별자치시  NaN  한누리대로 2009\n",
       "282      세종종촌    세종  도움1로 108   세종특별자치시  NaN    도움1로 108\n",
       "309      세종부강  세종  부강면 부강로 42   세종특별자치시  NaN  부강면 부강로 42"
      ]
     },
     "execution_count": 18,
     "metadata": {},
     "output_type": "execute_result"
    }
   ],
   "source": [
    "dat_nan = dat[dat[\"주소2\"].isnull()]\n",
    "dat_nan"
   ]
  },
  {
   "cell_type": "code",
   "execution_count": 19,
   "metadata": {},
   "outputs": [
    {
     "data": {
      "text/plain": [
       "29     반곡동\n",
       "83     보람동\n",
       "84     고운동\n",
       "87     소담동\n",
       "282    종촌동\n",
       "309    부강동\n",
       "Name: 지점명, dtype: object"
      ]
     },
     "execution_count": 19,
     "metadata": {},
     "output_type": "execute_result"
    }
   ],
   "source": [
    "nan_addr2 = dat_nan[\"지점명\"].str.slice(start=-2) + \"동\"\n",
    "nan_addr2[83] = \"보람동\" # 세종보람디엠시티 직접 지정\n",
    "nan_addr2"
   ]
  },
  {
   "cell_type": "code",
   "execution_count": 20,
   "metadata": {},
   "outputs": [
    {
     "data": {
      "text/plain": [
       "0"
      ]
     },
     "execution_count": 20,
     "metadata": {},
     "output_type": "execute_result"
    }
   ],
   "source": [
    "dat[\"주소2\"][dat[\"주소2\"].isnull()] = nan_addr2\n",
    "dat[\"주소2\"].isnull().sum() # 결측치 확인"
   ]
  },
  {
   "cell_type": "markdown",
   "metadata": {},
   "source": [
    "## 2. 주소2 데이터 값이 이상한 경우\n",
    "1. 군+읍/면가 합쳐서 나온 경우 (예) 나주시금천면\n",
    "    - 분리시켜주기\n",
    "2. 시,군,구,읍,면 등과 같은 행정구역 단위로 끝나지 않는 경우 (예) 구리, 종로2가\n",
    "    - 값을 직접 지정해주기"
   ]
  },
  {
   "cell_type": "code",
   "execution_count": 22,
   "metadata": {},
   "outputs": [
    {
     "data": {
      "text/plain": [
       "['나주시금천면',\n",
       " '고흥군고흥읍',\n",
       " '장성군장성읍',\n",
       " '논산시연무읍',\n",
       " '창녕군남지읍',\n",
       " '임실군임실읍',\n",
       " '남양주시화도읍',\n",
       " '구로',\n",
       " '종로2가',\n",
       " '아산신']"
      ]
     },
     "execution_count": 22,
     "metadata": {},
     "output_type": "execute_result"
    }
   ],
   "source": [
    "# 주소2의 이름이 시,군,구,동으로 끝나지 않을 경우 exc에 저장\n",
    "\n",
    "exc = []\n",
    "for one in dat[\"주소2\"].unique():\n",
    "    try :\n",
    "        if len(one)>5:\n",
    "            exc.append(one)\n",
    "        elif one[-1] not in ['시','구','군','동','면',\"읍\"] :\n",
    "            exc.append(one)\n",
    "    except :\n",
    "        print(one)\n",
    "\n",
    "exc"
   ]
  },
  {
   "cell_type": "code",
   "execution_count": 23,
   "metadata": {},
   "outputs": [
    {
     "data": {
      "text/html": [
       "<div>\n",
       "<style scoped>\n",
       "    .dataframe tbody tr th:only-of-type {\n",
       "        vertical-align: middle;\n",
       "    }\n",
       "\n",
       "    .dataframe tbody tr th {\n",
       "        vertical-align: top;\n",
       "    }\n",
       "\n",
       "    .dataframe thead th {\n",
       "        text-align: right;\n",
       "    }\n",
       "</style>\n",
       "<table border=\"1\" class=\"dataframe\">\n",
       "  <thead>\n",
       "    <tr style=\"text-align: right;\">\n",
       "      <th></th>\n",
       "      <th>지점명</th>\n",
       "      <th>주소</th>\n",
       "      <th>주소1</th>\n",
       "      <th>주소2</th>\n",
       "      <th>주소3</th>\n",
       "    </tr>\n",
       "  </thead>\n",
       "  <tbody>\n",
       "    <tr>\n",
       "      <th>358</th>\n",
       "      <td>나주혁신</td>\n",
       "      <td>전남 나주시금천면 빛가람로 189-1</td>\n",
       "      <td>전라남도</td>\n",
       "      <td>나주시금천면</td>\n",
       "      <td>빛가람로 189-1</td>\n",
       "    </tr>\n",
       "    <tr>\n",
       "      <th>385</th>\n",
       "      <td>전남고흥</td>\n",
       "      <td>전남 고흥군고흥읍 여산당촌길 8</td>\n",
       "      <td>전라남도</td>\n",
       "      <td>고흥군고흥읍</td>\n",
       "      <td>여산당촌길 8</td>\n",
       "    </tr>\n",
       "    <tr>\n",
       "      <th>396</th>\n",
       "      <td>전남장성</td>\n",
       "      <td>전남 장성군장성읍 영천로 166</td>\n",
       "      <td>전라남도</td>\n",
       "      <td>장성군장성읍</td>\n",
       "      <td>영천로 166</td>\n",
       "    </tr>\n",
       "    <tr>\n",
       "      <th>409</th>\n",
       "      <td>논산연무</td>\n",
       "      <td>충남 논산시연무읍 안심로 152</td>\n",
       "      <td>충청남도</td>\n",
       "      <td>논산시연무읍</td>\n",
       "      <td>안심로 152</td>\n",
       "    </tr>\n",
       "    <tr>\n",
       "      <th>428</th>\n",
       "      <td>경남남지</td>\n",
       "      <td>경남 창녕군남지읍 문화길 35-4</td>\n",
       "      <td>경상남도</td>\n",
       "      <td>창녕군남지읍</td>\n",
       "      <td>문화길 35-4</td>\n",
       "    </tr>\n",
       "    <tr>\n",
       "      <th>436</th>\n",
       "      <td>임실</td>\n",
       "      <td>전북 임실군임실읍 운수로 19</td>\n",
       "      <td>전라북도</td>\n",
       "      <td>임실군임실읍</td>\n",
       "      <td>운수로 19</td>\n",
       "    </tr>\n",
       "    <tr>\n",
       "      <th>1144</th>\n",
       "      <td>마석</td>\n",
       "      <td>경기 남양주시화도읍 마석로 14</td>\n",
       "      <td>경기도</td>\n",
       "      <td>남양주시화도읍</td>\n",
       "      <td>마석로 14</td>\n",
       "    </tr>\n",
       "    <tr>\n",
       "      <th>1221</th>\n",
       "      <td>개봉역</td>\n",
       "      <td>서울 구로 경인로 40길 47 1F</td>\n",
       "      <td>서울특별시</td>\n",
       "      <td>구로</td>\n",
       "      <td>경인로 40길 47 1F</td>\n",
       "    </tr>\n",
       "    <tr>\n",
       "      <th>1282</th>\n",
       "      <td>종각역</td>\n",
       "      <td>서울 종로2가 종로 68</td>\n",
       "      <td>서울특별시</td>\n",
       "      <td>종로2가</td>\n",
       "      <td>종로 68</td>\n",
       "    </tr>\n",
       "    <tr>\n",
       "      <th>1303</th>\n",
       "      <td>아산탕정</td>\n",
       "      <td>충남 아산신 탕정면 탕정면로 37</td>\n",
       "      <td>충청남도</td>\n",
       "      <td>아산신</td>\n",
       "      <td>탕정면 탕정면로 37</td>\n",
       "    </tr>\n",
       "  </tbody>\n",
       "</table>\n",
       "</div>"
      ],
      "text/plain": [
       "       지점명                     주소    주소1      주소2            주소3\n",
       "358   나주혁신  전남 나주시금천면 빛가람로 189-1    전라남도   나주시금천면     빛가람로 189-1\n",
       "385   전남고흥     전남 고흥군고흥읍 여산당촌길 8    전라남도   고흥군고흥읍        여산당촌길 8\n",
       "396   전남장성     전남 장성군장성읍 영천로 166    전라남도   장성군장성읍        영천로 166\n",
       "409   논산연무     충남 논산시연무읍 안심로 152    충청남도   논산시연무읍        안심로 152\n",
       "428   경남남지    경남 창녕군남지읍 문화길 35-4    경상남도   창녕군남지읍       문화길 35-4\n",
       "436     임실      전북 임실군임실읍 운수로 19    전라북도   임실군임실읍         운수로 19\n",
       "1144    마석     경기 남양주시화도읍 마석로 14     경기도  남양주시화도읍         마석로 14\n",
       "1221   개봉역   서울 구로 경인로 40길 47 1F   서울특별시       구로  경인로 40길 47 1F\n",
       "1282   종각역         서울 종로2가 종로 68   서울특별시     종로2가          종로 68\n",
       "1303  아산탕정    충남 아산신 탕정면 탕정면로 37    충청남도      아산신    탕정면 탕정면로 37"
      ]
     },
     "execution_count": 23,
     "metadata": {},
     "output_type": "execute_result"
    }
   ],
   "source": [
    "df_exc = pd.DataFrame()\n",
    "\n",
    "for one in exc:\n",
    "    df_exc = pd.concat([df_exc, dat[dat[\"주소2\"]==one]])\n",
    "\n",
    "df_exc"
   ]
  },
  {
   "cell_type": "code",
   "execution_count": 25,
   "metadata": {},
   "outputs": [
    {
     "name": "stdout",
     "output_type": "stream",
     "text": [
      "Int64Index([358, 385, 396, 409, 428, 436, 1144, 1221, 1282, 1303], dtype='int64')\n",
      "['나주시', '고흥군', '장성군', '논산시', '창녕군', '임실군', '남양주시', '구로구', '종로구', '아산시']\n"
     ]
    }
   ],
   "source": [
    "new_addr2 = []\n",
    "for idx, one in enumerate(df_exc[\"주소2\"]):\n",
    "    if len(one)>5:\n",
    "        new_addr2.append(one[:-3])\n",
    "    elif one == \"구로\":\n",
    "        new_addr2.append(\"구로구\")\n",
    "    elif one == \"종로2가\":\n",
    "        new_addr2.append(\"종로구\")\n",
    "    elif one == \"아산신\":\n",
    "        new_addr2.append(\"아산시\")\n",
    "    else :\n",
    "        new_addr2.append(one)\n",
    "\n",
    "new_idx = df_exc.index\n",
    "print(new_idx)\n",
    "print(new_addr2)"
   ]
  },
  {
   "cell_type": "code",
   "execution_count": 26,
   "metadata": {},
   "outputs": [
    {
     "data": {
      "text/html": [
       "<div>\n",
       "<style scoped>\n",
       "    .dataframe tbody tr th:only-of-type {\n",
       "        vertical-align: middle;\n",
       "    }\n",
       "\n",
       "    .dataframe tbody tr th {\n",
       "        vertical-align: top;\n",
       "    }\n",
       "\n",
       "    .dataframe thead th {\n",
       "        text-align: right;\n",
       "    }\n",
       "</style>\n",
       "<table border=\"1\" class=\"dataframe\">\n",
       "  <thead>\n",
       "    <tr style=\"text-align: right;\">\n",
       "      <th></th>\n",
       "      <th>지점명</th>\n",
       "      <th>주소</th>\n",
       "      <th>주소1</th>\n",
       "      <th>주소2</th>\n",
       "      <th>주소3</th>\n",
       "    </tr>\n",
       "  </thead>\n",
       "  <tbody>\n",
       "    <tr>\n",
       "      <th>358</th>\n",
       "      <td>나주혁신</td>\n",
       "      <td>전남 나주시금천면 빛가람로 189-1</td>\n",
       "      <td>전라남도</td>\n",
       "      <td>나주시</td>\n",
       "      <td>빛가람로 189-1</td>\n",
       "    </tr>\n",
       "    <tr>\n",
       "      <th>385</th>\n",
       "      <td>전남고흥</td>\n",
       "      <td>전남 고흥군고흥읍 여산당촌길 8</td>\n",
       "      <td>전라남도</td>\n",
       "      <td>고흥군</td>\n",
       "      <td>여산당촌길 8</td>\n",
       "    </tr>\n",
       "    <tr>\n",
       "      <th>396</th>\n",
       "      <td>전남장성</td>\n",
       "      <td>전남 장성군장성읍 영천로 166</td>\n",
       "      <td>전라남도</td>\n",
       "      <td>장성군</td>\n",
       "      <td>영천로 166</td>\n",
       "    </tr>\n",
       "    <tr>\n",
       "      <th>409</th>\n",
       "      <td>논산연무</td>\n",
       "      <td>충남 논산시연무읍 안심로 152</td>\n",
       "      <td>충청남도</td>\n",
       "      <td>논산시</td>\n",
       "      <td>안심로 152</td>\n",
       "    </tr>\n",
       "    <tr>\n",
       "      <th>428</th>\n",
       "      <td>경남남지</td>\n",
       "      <td>경남 창녕군남지읍 문화길 35-4</td>\n",
       "      <td>경상남도</td>\n",
       "      <td>창녕군</td>\n",
       "      <td>문화길 35-4</td>\n",
       "    </tr>\n",
       "    <tr>\n",
       "      <th>436</th>\n",
       "      <td>임실</td>\n",
       "      <td>전북 임실군임실읍 운수로 19</td>\n",
       "      <td>전라북도</td>\n",
       "      <td>임실군</td>\n",
       "      <td>운수로 19</td>\n",
       "    </tr>\n",
       "    <tr>\n",
       "      <th>1144</th>\n",
       "      <td>마석</td>\n",
       "      <td>경기 남양주시화도읍 마석로 14</td>\n",
       "      <td>경기도</td>\n",
       "      <td>남양주시</td>\n",
       "      <td>마석로 14</td>\n",
       "    </tr>\n",
       "    <tr>\n",
       "      <th>1221</th>\n",
       "      <td>개봉역</td>\n",
       "      <td>서울 구로 경인로 40길 47 1F</td>\n",
       "      <td>서울특별시</td>\n",
       "      <td>구로구</td>\n",
       "      <td>경인로 40길 47 1F</td>\n",
       "    </tr>\n",
       "    <tr>\n",
       "      <th>1282</th>\n",
       "      <td>종각역</td>\n",
       "      <td>서울 종로2가 종로 68</td>\n",
       "      <td>서울특별시</td>\n",
       "      <td>종로구</td>\n",
       "      <td>종로 68</td>\n",
       "    </tr>\n",
       "    <tr>\n",
       "      <th>1303</th>\n",
       "      <td>아산탕정</td>\n",
       "      <td>충남 아산신 탕정면 탕정면로 37</td>\n",
       "      <td>충청남도</td>\n",
       "      <td>아산시</td>\n",
       "      <td>탕정면 탕정면로 37</td>\n",
       "    </tr>\n",
       "  </tbody>\n",
       "</table>\n",
       "</div>"
      ],
      "text/plain": [
       "       지점명                     주소    주소1   주소2            주소3\n",
       "358   나주혁신  전남 나주시금천면 빛가람로 189-1    전라남도   나주시     빛가람로 189-1\n",
       "385   전남고흥     전남 고흥군고흥읍 여산당촌길 8    전라남도   고흥군        여산당촌길 8\n",
       "396   전남장성     전남 장성군장성읍 영천로 166    전라남도   장성군        영천로 166\n",
       "409   논산연무     충남 논산시연무읍 안심로 152    충청남도   논산시        안심로 152\n",
       "428   경남남지    경남 창녕군남지읍 문화길 35-4    경상남도   창녕군       문화길 35-4\n",
       "436     임실      전북 임실군임실읍 운수로 19    전라북도   임실군         운수로 19\n",
       "1144    마석     경기 남양주시화도읍 마석로 14     경기도  남양주시         마석로 14\n",
       "1221   개봉역   서울 구로 경인로 40길 47 1F   서울특별시   구로구  경인로 40길 47 1F\n",
       "1282   종각역         서울 종로2가 종로 68   서울특별시   종로구          종로 68\n",
       "1303  아산탕정    충남 아산신 탕정면 탕정면로 37    충청남도   아산시    탕정면 탕정면로 37"
      ]
     },
     "execution_count": 26,
     "metadata": {},
     "output_type": "execute_result"
    }
   ],
   "source": [
    "dat.iloc[new_idx,3] = new_addr2 \n",
    "dat.iloc[new_idx]"
   ]
  },
  {
   "cell_type": "markdown",
   "metadata": {},
   "source": [
    "## 3. 확인"
   ]
  },
  {
   "cell_type": "code",
   "execution_count": 27,
   "metadata": {},
   "outputs": [
    {
     "name": "stdout",
     "output_type": "stream",
     "text": [
      "['가평군' '수원시' '달서구' '용산구' '김포시' '여수시' '김해시' '용인시' '진주시' '의정부시' '안산시' '영암군'\n",
      " '양천구' '연수구' '원주시' '문경시' '광명시' '서구' '하남시' '청주시' '무안군' '남양주시' '논산시' '동구'\n",
      " '반곡동' '마포구' '고양시' '천안시' '남구' '사하구' '북구' '안양시' '포항시' '강동구' '시흥시' '화성시'\n",
      " '구미시' '충주시' '부평구' '제주시' '전주시' '양양군' '이천시' '광주시' '평택시' '강서구' '은평구' '서천군'\n",
      " '홍천군' '거제시' '산청군' '서대문구' '군포시' '달성군' '보람동' '고운동' '중구' '소담동' '창원시' '진도군'\n",
      " '평창군' '수성구' '성남시' '남동구' '의령군' '익산시' '부천시' '광산구' '동래구' '제천시' '노원구' '당진시'\n",
      " '진안군' '경산시' '안성시' '서초구' '서귀포시' '파주시' '서산시' '성동구' '순천시' '밀양시' '안동시' '금정구'\n",
      " '해운대구' '강남구' '곡성군' '의성군' '부산진구' '영주시' '음성군' '금천구' '춘천시' '구리시' '관악구'\n",
      " '동대문구' '보성군' '속초시' '울릉군' '인제군' '수영구' '울주군' '장수군' '경주시' '송파구' '영등포구' '양주시'\n",
      " '유성구' '옹진군' '아산시' '중랑구' '오산시' '양산시' '정읍시' '의왕시' '동작구' '고성군' '종촌동' '함평군'\n",
      " '김천시' '홍성군' '무주군' '보령시' '부강동' '구례군' '강북구' '청원군' '당진군' '강릉시' '여주군' '과천시'\n",
      " '기장군' '나주시' '봉화군' '하동군' '금남면' '연기면' '양평군' '성북구' '구로구' '고령군' '고흥군' '연제구'\n",
      " '사상구' '장성군' '순창군' '창녕군' '임실군' '완주군' '광진구' '담양군' '부안군' '성주군' '함안군' '화천군'\n",
      " '부여군' '장흥군' '영천시' '군산시' '대덕구' '도봉구' '계양구' '강진군' '여주시' '동두천시' '진구' '목포시'\n",
      " '종로구' '정선군' '남원시' '동해시' '괴산군' '철원군' '포천시' '영광군' '청양군' '광양시' '완도군' '단양군'\n",
      " '함양군' '통영시' '을주군' '영덕군' '칠곡군' '청도군' '예천군' '합천군' '사천시' '울진군' '남해군' '거창군'\n",
      " '상주시' '화순군' '광역시' '고창군' '해남군' '김제시' '조치원읍' '옥천군' '공주시' '진천군' '태안군' '계룡시'\n",
      " '금산군' '영동군' '증평군' '예산군' '보은군' '태백시' '영월군' '횡성군' '양구군' '삼척시' '강화군' '연천군'\n",
      " '영도구']\n",
      "결과 : 이상치가 없습니다.\n"
     ]
    }
   ],
   "source": [
    "addr = dat[\"주소2\"].unique()\n",
    "print(addr)\n",
    "\n",
    "result = True\n",
    "for one in addr:\n",
    "    if type(one)==float :\n",
    "        result = False\n",
    "        print(one)\n",
    "    elif one[-1] not in [\"시\",\"구\",\"군\",\"동\",\"면\",\"읍\"]:\n",
    "        result = False\n",
    "        print(one)\n",
    "    elif len(one)>5:\n",
    "        result =False\n",
    "        print(one)\n",
    "\n",
    "if result :\n",
    "    print(\"결과 : 이상치가 없습니다.\")\n",
    "else :\n",
    "    print(\"결과 : 이상치를 모두 출력하였습니다.\")"
   ]
  },
  {
   "cell_type": "markdown",
   "metadata": {},
   "source": [
    "## 3. 잘못된 정보 처리\n",
    "- 천안은 충청남도인데 충청북도라고 나와있는 데이터가 있다."
   ]
  },
  {
   "cell_type": "code",
   "execution_count": 29,
   "metadata": {},
   "outputs": [
    {
     "data": {
      "text/html": [
       "<div>\n",
       "<style scoped>\n",
       "    .dataframe tbody tr th:only-of-type {\n",
       "        vertical-align: middle;\n",
       "    }\n",
       "\n",
       "    .dataframe tbody tr th {\n",
       "        vertical-align: top;\n",
       "    }\n",
       "\n",
       "    .dataframe thead th {\n",
       "        text-align: right;\n",
       "    }\n",
       "</style>\n",
       "<table border=\"1\" class=\"dataframe\">\n",
       "  <thead>\n",
       "    <tr style=\"text-align: right;\">\n",
       "      <th></th>\n",
       "      <th>지점명</th>\n",
       "      <th>주소</th>\n",
       "      <th>주소1</th>\n",
       "      <th>주소2</th>\n",
       "      <th>주소3</th>\n",
       "    </tr>\n",
       "  </thead>\n",
       "  <tbody>\n",
       "    <tr>\n",
       "      <th>500</th>\n",
       "      <td>천안안서D/T</td>\n",
       "      <td>충북 천안시 동남구 망향로 190</td>\n",
       "      <td>충청북도</td>\n",
       "      <td>천안시</td>\n",
       "      <td>동남구 망향로 190</td>\n",
       "    </tr>\n",
       "  </tbody>\n",
       "</table>\n",
       "</div>"
      ],
      "text/plain": [
       "         지점명                   주소   주소1  주소2          주소3\n",
       "500  천안안서D/T  충북 천안시 동남구 망향로 190   충청북도  천안시  동남구 망향로 190"
      ]
     },
     "execution_count": 29,
     "metadata": {},
     "output_type": "execute_result"
    }
   ],
   "source": [
    "dat[(dat[\"주소1\"]==\"충청북도\")&(dat[\"주소2\"]==\"천안시\")]"
   ]
  },
  {
   "cell_type": "code",
   "execution_count": 33,
   "metadata": {},
   "outputs": [
    {
     "data": {
      "text/plain": [
       "지점명               천안안서D/T\n",
       "주소     충남 천안시 동남구 망향로 190\n",
       "주소1                  충청남도\n",
       "주소2                   천안시\n",
       "주소3           동남구 망향로 190\n",
       "Name: 500, dtype: object"
      ]
     },
     "execution_count": 33,
     "metadata": {},
     "output_type": "execute_result"
    }
   ],
   "source": [
    "dat.iloc[500,1] = \"충남 천안시 동남구 망향로 190\"\n",
    "dat.iloc[500,2] = \"충청남도\"\n",
    "\n",
    "dat.iloc[500,:]"
   ]
  },
  {
   "cell_type": "code",
   "execution_count": 34,
   "metadata": {},
   "outputs": [
    {
     "data": {
      "text/plain": [
       "['.DS_Store',\n",
       " 'lotteria_all_store.xlsx',\n",
       " 'Lotteria_update.ipynb',\n",
       " 'lotteria_all_store.csv',\n",
       " 'lotteria_all_store_update.csv',\n",
       " '.ipynb_checkpoints',\n",
       " 'Lotteria.ipynb',\n",
       " 'lotteria_all_store_update.xlsx']"
      ]
     },
     "execution_count": 34,
     "metadata": {},
     "output_type": "execute_result"
    }
   ],
   "source": [
    "# csv, xlsx 파일로 저장\n",
    "dat.to_csv(\"lotteria_all_store_update.csv\", index=False)\n",
    "dat.to_excel(\"lotteria_all_store_update.xlsx\", index=False)\n",
    "\n",
    "os.listdir()"
   ]
  },
  {
   "cell_type": "code",
   "execution_count": null,
   "metadata": {},
   "outputs": [],
   "source": []
  }
 ],
 "metadata": {
  "kernelspec": {
   "display_name": "Python 3",
   "language": "python",
   "name": "python3"
  },
  "language_info": {
   "codemirror_mode": {
    "name": "ipython",
    "version": 3
   },
   "file_extension": ".py",
   "mimetype": "text/x-python",
   "name": "python",
   "nbconvert_exporter": "python",
   "pygments_lexer": "ipython3",
   "version": "3.8.5"
  }
 },
 "nbformat": 4,
 "nbformat_minor": 4
}
