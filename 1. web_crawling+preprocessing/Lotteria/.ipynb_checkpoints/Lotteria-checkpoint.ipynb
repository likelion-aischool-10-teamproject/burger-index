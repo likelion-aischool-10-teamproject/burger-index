{
 "cells": [
  {
   "cell_type": "code",
   "execution_count": null,
   "metadata": {},
   "outputs": [],
   "source": [
    "import requests\n",
    "from bs4 import BeautifulSoup\n",
    "from selenium import webdriver\n",
    "import platform\n",
    "\n",
    "import os, warnings # 경고메세지 라이브러리\n",
    "import re   # 정규표현식\n",
    "import time\n",
    "warnings.filterwarnings(action='ignore') # 경고메세지 무시\n",
    "\n",
    "import pandas as pd"
   ]
  },
  {
   "cell_type": "code",
   "execution_count": null,
   "metadata": {},
   "outputs": [],
   "source": [
    "# OS 별로 웹드라이버 로드(windows, mac)\n",
    "if platform.system() == \"Windows\":\n",
    "    driver = webdriver.Chrome('../chromedriver_90')\n",
    "elif platform.system()==\"Darwin\":\n",
    "    driver = webdriver.Chrome('../chromedriver')\n",
    "else:\n",
    "    print(\"Unknown System\")\n",
    "    \n",
    "url = 'http://www.lotteria.com/Shop/Shop_List.asp#devCallShopList'\n",
    "driver.get(url)\n",
    "time.sleep(3)"
   ]
  },
  {
   "cell_type": "code",
   "execution_count": null,
   "metadata": {},
   "outputs": [],
   "source": [
    "# 마지막 페이지 이동\n",
    "end_btn = driver.find_element_by_css_selector('a.go.end')\n",
    "end_btn.click()\n",
    "time.sleep(5)"
   ]
  },
  {
   "cell_type": "code",
   "execution_count": null,
   "metadata": {},
   "outputs": [],
   "source": [
    "# 마지막 페이지 확인\n",
    "page = driver.page_source\n",
    "soup = BeautifulSoup(page, 'lxml')\n",
    "\n",
    "end_page = soup.select_one('a.go.end')\n",
    "\n",
    "end_num = int(end_page.find_all_previous()[2].text)\n",
    "end_num"
   ]
  },
  {
   "cell_type": "code",
   "execution_count": null,
   "metadata": {
    "scrolled": true
   },
   "outputs": [],
   "source": [
    "idx_list = []\n",
    "code_list = []\n",
    "\n",
    "# 1부터 마지막 페이지까지 반복\n",
    "for page_num in range (1,end_num + 1):\n",
    "\n",
    "    # 자바스크립트 이용하여 페이지 이동\n",
    "    driver.execute_script(f\"goPage({page_num})\".format())\n",
    "    \n",
    "    # 현재 페이지 상태 확인 후 페이지 이동이 될 때까지 2초씩 대기 \n",
    "    while 1 : \n",
    "        now_page = int(driver.find_element_by_css_selector('span>strong').text)\n",
    "        now_page\n",
    "        \n",
    "        if now_page == page_num :\n",
    "            print(f'{page_num} 확인', end='')\n",
    "            break\n",
    "        else :\n",
    "            time.sleep(2)\n",
    "\n",
    "    # 현재 페이지 소스 객체 생성\n",
    "    page_one = driver.page_source\n",
    "    soup = BeautifulSoup(page_one, 'lxml')        \n",
    "    place_num = soup.find_all('td',class_='first num')\n",
    "\n",
    "    # url 주소 안의 idx와 StoreCode 추출\n",
    "    for one in place_num:\n",
    "        first_one = one.a.get(\"onclick\")[7:19][0:4]    \n",
    "        second_one = one.a.get(\"onclick\")[7:19][-5:]\n",
    "\n",
    "        idx_list.append(first_one)\n",
    "        code_list.append(second_one)\n",
    "        \n",
    "    print(f', {page_num} 완료')"
   ]
  },
  {
   "cell_type": "code",
   "execution_count": null,
   "metadata": {},
   "outputs": [],
   "source": [
    "# 웹드라이버 종료\n",
    "driver.close()"
   ]
  },
  {
   "cell_type": "code",
   "execution_count": null,
   "metadata": {},
   "outputs": [],
   "source": [
    "# idx_list의 길이 확인\n",
    "len(idx_list)"
   ]
  },
  {
   "cell_type": "code",
   "execution_count": null,
   "metadata": {
    "scrolled": true
   },
   "outputs": [],
   "source": [
    "store_names = [] # 지점명\n",
    "store_addrs = [] # 지점주소\n",
    "\n",
    "# user-agent 정보를 넣어서 웹브라우저 정보를 변경\n",
    "headers = {'User-Agent':'Mozilla/5.0 (Windows NT 10.0; Win64; x64) AppleWebKit/537.36 (KHTML, like Gecko) Chrome/91.0.4472.101 Safari/537.36'}\n",
    "    \n",
    "for i in range(len(idx_list)) :\n",
    "    \n",
    "    # 메인 화면에 가게 이름의 url을 통해 store_page(html)정보를 담는다.\n",
    "    url = f'http://www.lotteria.com/Shop/Shop_View.asp?Idx={idx_list[i]}&StoreCode={code_list[i]}'\n",
    "    store_page = requests.get(url, headers=headers).content\n",
    "    detail = BeautifulSoup(store_page, 'lxml')\n",
    "\n",
    "    store_name = detail.find(\"h3\").text\n",
    "    store_names.append(store_name)\n",
    "    store_addr = detail.find(\"td\",class_='rt').span.text.strip()\n",
    "    store_addrs.append(store_addr)\n",
    "    \n",
    "#     time.sleep(1)\n",
    "    \n",
    "    print(f'{i}, {store_name} : {store_addr}')"
   ]
  },
  {
   "cell_type": "code",
   "execution_count": null,
   "metadata": {},
   "outputs": [],
   "source": [
    "# URLError: <urlopen error [Errno 11001] getaddrinfo failed> "
   ]
  },
  {
   "cell_type": "code",
   "execution_count": null,
   "metadata": {},
   "outputs": [],
   "source": [
    "# store_names, store_addrs 길이 확인\n",
    "len(store_names), len(store_addrs)"
   ]
  },
  {
   "cell_type": "code",
   "execution_count": null,
   "metadata": {
    "scrolled": true
   },
   "outputs": [],
   "source": [
    "# 수집된 정보로 DataFrame 생성\n",
    "dat = {'지점명':store_names, '주소':store_addrs}\n",
    "dat = pd.DataFrame(dat)\n",
    "dat.head()"
   ]
  },
  {
   "cell_type": "code",
   "execution_count": null,
   "metadata": {},
   "outputs": [],
   "source": [
    "# 수집된 데이터 전처리 전 저장\n",
    "dat.to_excel('lotteria_all_store_v1.xlsx', index=False)\n",
    "dat.to_csv('lotteria_all_store_v1.csv', index=False)\n",
    "dat.head()"
   ]
  },
  {
   "cell_type": "code",
   "execution_count": null,
   "metadata": {
    "scrolled": true
   },
   "outputs": [],
   "source": [
    "# 수집된 데이터 가져오기\n",
    "dat = pd.read_excel('./lotteria_all_store_v1.xlsx')\n",
    "dat"
   ]
  },
  {
   "cell_type": "code",
   "execution_count": null,
   "metadata": {},
   "outputs": [],
   "source": [
    "# 주소를 행정구역으로 나눔\n",
    "dat[['주소1', '주소2', '주소3']] = pd.DataFrame(dat['주소'].str.split(' ', 2).tolist())\n",
    "dat.head()"
   ]
  },
  {
   "cell_type": "code",
   "execution_count": null,
   "metadata": {},
   "outputs": [],
   "source": [
    "# 주소1에 이상치를 확인\n",
    "dat['주소1'].unique()"
   ]
  },
  {
   "cell_type": "code",
   "execution_count": null,
   "metadata": {},
   "outputs": [],
   "source": [
    "# 주소1의 줄임말을 풀어서 치환\n",
    "addr = {'서울시':'서울특별시',\n",
    "        '서울':'서울특별시',\n",
    "        '부산시':'부산광역시',\n",
    "        '부산':'부산광역시',\n",
    "        '대구':'대구광역시',\n",
    "        '인천':'인천광역시',\n",
    "        '광주':'광주광역시',\n",
    "        '대전시':'대전광역시',\n",
    "        '대전':'대전광역시',\n",
    "        '울산':'울산광역시',\n",
    "        '세종':'세종특별자치시',\n",
    "        '경기':'경기도',\n",
    "        '강원':'강원도',\n",
    "        '충북':'충청북도',\n",
    "        '충남':'충청남도',\n",
    "        '전북':'전라북도',\n",
    "        '전남':'전라남도',\n",
    "        '경북':'경상북도',\n",
    "        '경남':'경상남도',\n",
    "        '제주':'제주특별자치도'}\n",
    "\n",
    "dat['주소1'] = dat['주소1'].replace(addr)\n",
    "\n",
    "dat['주소1'].unique()"
   ]
  },
  {
   "cell_type": "code",
   "execution_count": null,
   "metadata": {
    "scrolled": true
   },
   "outputs": [],
   "source": [
    "\n",
    "# 210702 롯데리아 강남역 이슈\n",
    "# 네이버지도에 롯데리아 강남역 검색결과 없어서 주소 확인\n",
    "# 주소 : 강남역 9번이나 10번출구 뉴욕제과 뒷건물\n",
    "# 뉴욕제과 확인 :         로드뷰 확인결과 2012년 03월까지 있었지만 현재는 없음\n",
    "# 롯데리아 강남역점 확인 : 로드뷰 확인 결과 2017년 5월까지 있었지만 이후 없어지고 KFC 생김\n",
    "\n",
    "# 210703 롯데리아 주안D/T 이슈\n",
    "# 네이버지도에 위치가 확인이 안됨\n",
    "# 네이버 블로그에 있는 지도로 위치 확인\n",
    "# 로드뷰 확인결과 2019년 05월까지 있었지만 현재는 없음\n",
    "   \n",
    "# 주소1의 이상값을 정상값으로 변경하고 없는 지점은 None처리\n",
    "def change_addr(x) :\n",
    "    \n",
    "    s_name_ori = x['지점명']\n",
    "    \n",
    "    # D/T 같이 '/'이 포함된 경우 네이버에 제대로 검색되지 않음\n",
    "    s_name = s_name_ori\n",
    "    if '/' in s_name :\n",
    "        s_name = s_name.replace('/', '')\n",
    "        \n",
    "    f_name = f'롯데리아 {s_name}'\n",
    "    \n",
    "    url = f'https://search.naver.com/search.naver?query={f_name}'\n",
    "          \n",
    "    driver.get(url)\n",
    "    time.sleep(1)\n",
    "    \n",
    "    page = driver.page_source\n",
    "    soup = BeautifulSoup(page, 'lxml')\n",
    "    \n",
    "    # 네이버에 '롯데리아 지점명' 검색하여 주소 획득\n",
    "    try :\n",
    "\n",
    "        # case1 : 롯데리아 감일\n",
    "        full_addr = soup.select_one('span.addr').text\n",
    "        addr1, addr2, addr3 = full_addr.split(' ', 2)\n",
    "        print(f'{s_name} : {addr1} {addr2} {addr3}')\n",
    "        x[ ['주소1', '주소2', '주소3'] ] = addr1, addr2, addr3\n",
    "\n",
    "    except Exception as e :\n",
    "\n",
    "        print(f'{s_name} : 1. {e}')\n",
    "        full_addr = ''\n",
    "\n",
    "        try :\n",
    "            store_list = soup.select('div._3ZU00')\n",
    "            \n",
    "            # case2 : 롯데리아 의정부화룡역\n",
    "            if len(store_list) == 0 :\n",
    "                full_addr = soup.select('div._1mAZf')[1].text\n",
    "\n",
    "                full_addr = full_addr[:full_addr.rindex('지번')]\n",
    "                addr1, addr2, addr3 = full_addr.split(' ', 2)\n",
    "                print(f'{s_name} : {addr1} {addr2} {addr3}')\n",
    "                x[ ['주소1', '주소2', '주소3'] ] = addr1, addr2, addr3\n",
    "\n",
    "            # 검색목록이 여러개인 경우, 지점명과 일치하는 주소를 획득\n",
    "            for idx, i in enumerate(store_list) :\n",
    "                \n",
    "                except_text = ['전북', '전남', '경북', '경남']\n",
    "                \n",
    "                # try 구문을 사용해도 되지만 이미 이중으로 try 선언이 되어 굳이 String으로 해결\n",
    "                # 지점명에 도명이 포함된 경우, 네이버 검색 시 도명이 없이 롯데리아 진안점으로 검색됨\n",
    "                # 도명을 제거하여 네이버 검색결과 중 일치하는 지점의 주소를 입력\n",
    "                s_name2 = 'None 선언시 에러가 생기므로 String으로 None 선언'\n",
    "                if s_name[:2] in except_text :\n",
    "                    s_name2 = s_name[2:]\n",
    "\n",
    "                # case3 : 롯데리아 전북진안, 롯데리아 강남역\n",
    "                if s_name in i.a.text or s_name2 in i.a.text :\n",
    "                \n",
    "                    try :\n",
    "                        xpath = f'//*[@id=\"loc-main-section-root\"]/section/div/div[2]/ul/li[{idx+1}]/div[2]/div[2]/div/span/a/span[2]'\n",
    "                        down = driver.find_element_by_xpath(xpath)\n",
    "                    except :\n",
    "                        # case4 : 롯데리아 경남함안\n",
    "                        xpath = f'//*[@id=\"loc-main-section-root\"]/section/div/div[2]/ul/li[{idx+1}]/div[1]/div[2]/div/span/a/span[2]'\n",
    "                        down = driver.find_element_by_xpath(xpath)\n",
    "\n",
    "                    down.click()\n",
    "                    time.sleep(1)\n",
    "                    \n",
    "                    # 주소에 도로명과, 복사를 뺴고 입력\n",
    "                    full_addr = driver.find_element_by_css_selector('div._2b9ic').text[3:-2]\n",
    "                    addr1, addr2, addr3 = full_addr.strip().split(' ', 2)\n",
    "                    print(f'{s_name} : {addr1} {addr2} {addr3}')\n",
    "                    x[ ['주소1', '주소2', '주소3'] ] = addr1, addr2, addr3\n",
    "                    \n",
    "                    break\n",
    "                    \n",
    "        except Exception as e:\n",
    "\n",
    "            print(f'{s_name} : 2. {e}')\n",
    "            \n",
    "    if len(full_addr) < 1 :\n",
    "        # drop 처리하려 했으나 작업 편의성을 위해 None 처리\n",
    "#         print(f'{s_name_ori} : 삭제')\n",
    "#         dat.drop( dat.loc[ dat['지점명'] == s_name_ori ].index, axis=0, inplace=True)\n",
    "\n",
    "        print(f'{s_name_ori} : None처리')\n",
    "        pass\n",
    "    else :\n",
    "        return x\n",
    "\n",
    "# 웹드라이버 실행\n",
    "driver = webdriver.Chrome('../chromedriver_90')\n",
    "\n",
    "# 주소1의 이상값을 정상값으로 변경하고 없는 지점은 None처리\n",
    "dat = dat.apply(lambda x : change_addr(x) if x['주소1'] not in addr.values() else x, axis=1)\n",
    "\n",
    "# 웹드라이버 종료\n",
    "driver.close()"
   ]
  },
  {
   "cell_type": "code",
   "execution_count": null,
   "metadata": {},
   "outputs": [],
   "source": [
    "# null 확인\n",
    "dat.isnull().sum()"
   ]
  },
  {
   "cell_type": "code",
   "execution_count": null,
   "metadata": {},
   "outputs": [],
   "source": [
    "# 주소1의 줄임말을 풀어서 치환하고 None처리 된 행을 제거\n",
    "dat['주소1'] = dat['주소1'].replace(addr)\n",
    "dat.dropna(inplace=True)\n",
    "dat.head()"
   ]
  },
  {
   "cell_type": "code",
   "execution_count": null,
   "metadata": {},
   "outputs": [],
   "source": [
    "# null 확인\n",
    "dat.isnull().sum()"
   ]
  },
  {
   "cell_type": "code",
   "execution_count": null,
   "metadata": {},
   "outputs": [],
   "source": [
    "# 주소1 이상치 확인\n",
    "dat['주소1'].unique()"
   ]
  },
  {
   "cell_type": "code",
   "execution_count": null,
   "metadata": {},
   "outputs": [],
   "source": [
    "# 주소1, 주소2, 주소3 을 합쳐서 주소를 다시 입력\n",
    "dat['주소'] = dat[ ['주소1', '주소2', '주소3'] ].apply(' '.join, axis=1)\n",
    "dat.head()"
   ]
  },
  {
   "cell_type": "code",
   "execution_count": null,
   "metadata": {},
   "outputs": [],
   "source": [
    "# 수집된 데이터 전처리 전 저장\n",
    "dat.to_excel('lotteria_all_store_v2.xlsx', index=False)\n",
    "dat.to_csv('lotteria_all_store_v2.csv', index=False)\n",
    "dat.head()"
   ]
  },
  {
   "cell_type": "code",
   "execution_count": null,
   "metadata": {},
   "outputs": [],
   "source": [
    "# 수집된 데이터 가져오기\n",
    "dat = pd.read_excel('./lotteria_all_store_v2.xlsx')\n",
    "dat"
   ]
  },
  {
   "cell_type": "markdown",
   "metadata": {},
   "source": [
    "## 이상치, 결측치 처리"
   ]
  },
  {
   "cell_type": "code",
   "execution_count": null,
   "metadata": {},
   "outputs": [],
   "source": [
    "dat[\"주소2\"].isna().sum()"
   ]
  },
  {
   "cell_type": "markdown",
   "metadata": {},
   "source": [
    "### 1. nan 값 처리\n",
    "- 세종특별자치시는 행정구가 없기 때문에 주소2에 세종시 입력\n",
    "- 세종특별자치시는 1읍 9면 10행정동 18법정동으로 구성"
   ]
  },
  {
   "cell_type": "code",
   "execution_count": null,
   "metadata": {},
   "outputs": [],
   "source": [
    "dat[dat[\"주소1\"] == \"세종특별자치시\"]"
   ]
  },
  {
   "cell_type": "code",
   "execution_count": null,
   "metadata": {},
   "outputs": [],
   "source": [
    "dat.loc[dat[\"주소1\"] == '세종특별자치시', '주소2'] = '세종특별자치시'\n",
    "dat[dat[\"주소1\"] == \"세종특별자치시\"]"
   ]
  },
  {
   "cell_type": "markdown",
   "metadata": {},
   "source": [
    "### 2. 주소2 데이터 값이 이상한 경우\n",
    "1. 군+읍/면가 합쳐서 나온 경우 (예) 나주시금천면\n",
    "    - 분리시켜주기\n",
    "2. 시,군,구,읍,면 등과 같은 행정구역 단위로 끝나지 않는 경우 (예) 구리, 종로2가\n",
    "    - 값을 직접 지정해주기"
   ]
  },
  {
   "cell_type": "code",
   "execution_count": null,
   "metadata": {},
   "outputs": [],
   "source": [
    "dat[\"주소2\"].unique()"
   ]
  },
  {
   "cell_type": "code",
   "execution_count": null,
   "metadata": {},
   "outputs": [],
   "source": [
    "# 주소2의 이름이 시,군,구,동으로 끝나지 않거나 길이가 긴 경우 exc에 저장\n",
    "\n",
    "exc = []\n",
    "for one in dat[\"주소2\"].unique():\n",
    "    try :\n",
    "        if len(one)>5:\n",
    "            exc.append(one)\n",
    "        elif one[-1] not in ['시','구','군','동','면',\"읍\"] :\n",
    "            exc.append(one)\n",
    "    except :\n",
    "        print(one)\n",
    "\n",
    "exc"
   ]
  },
  {
   "cell_type": "code",
   "execution_count": null,
   "metadata": {},
   "outputs": [],
   "source": [
    "si = ['시','구','군']\n",
    "idx_list = []"
   ]
  },
  {
   "cell_type": "code",
   "execution_count": null,
   "metadata": {},
   "outputs": [],
   "source": [
    "for i in exc :\n",
    "    \n",
    "    idx_list.append(dat.loc[dat['주소2'] == i].index[0])\n",
    "    \n",
    "    if len(i)>5:\n",
    "        idx = 0\n",
    "        \n",
    "        for j in si :\n",
    "            try :\n",
    "                idx = int(i.index(j))\n",
    "            except :\n",
    "                pass\n",
    "        \n",
    "        addr3 = i[idx+1:] + ' ' + dat.loc[dat['주소2'] == i, '주소3'].values[0]\n",
    "\n",
    "        dat.loc[dat['주소2'] == i, '주소3'] = addr3\n",
    "        dat.loc[dat['주소2'] == i, '주소2'] = i[:idx+1]\n",
    "        \n",
    "    elif i == \"구로\":\n",
    "        dat.loc[dat['주소2'] == i, '주소2'] = '구로구'\n",
    "    elif i == \"종로2가\":\n",
    "        dat.loc[dat['주소2'] == i, '주소2'] = '종로구'\n",
    "    elif i == \"아산신\":\n",
    "        dat.loc[dat['주소2'] == i, '주소2'] = '아산시'"
   ]
  },
  {
   "cell_type": "code",
   "execution_count": null,
   "metadata": {},
   "outputs": [],
   "source": [
    "dat.iloc[idx_list]"
   ]
  },
  {
   "cell_type": "markdown",
   "metadata": {},
   "source": [
    "### 확인"
   ]
  },
  {
   "cell_type": "code",
   "execution_count": null,
   "metadata": {},
   "outputs": [],
   "source": [
    "addr = dat[\"주소2\"].unique()\n",
    "print(addr)\n",
    "\n",
    "result = True\n",
    "for one in addr:\n",
    "    if type(one)==float :\n",
    "        result = False\n",
    "        print(one)\n",
    "    elif one[-1] not in [\"시\",\"구\",\"군\",\"동\",\"면\",\"읍\"]:\n",
    "        result = False\n",
    "        print(one)\n",
    "    elif len(one)>5:\n",
    "        result =False\n",
    "        print(one)\n",
    "\n",
    "if result :\n",
    "    print(\"결과 : 이상치가 없습니다.\")\n",
    "else :\n",
    "    print(\"결과 : 이상치를 모두 출력하였습니다.\")"
   ]
  },
  {
   "cell_type": "markdown",
   "metadata": {},
   "source": [
    "### 3. 잘못된 정보 처리\n",
    "- 천안은 충청남도인데 충청북도라고 나와있는 데이터가 있다."
   ]
  },
  {
   "cell_type": "code",
   "execution_count": null,
   "metadata": {},
   "outputs": [],
   "source": [
    "temp_idx = dat[(dat[\"주소1\"]==\"충청북도\")&(dat[\"주소2\"]==\"천안시\")].index[0]\n",
    "dat[(dat[\"주소1\"]==\"충청북도\")&(dat[\"주소2\"]==\"천안시\")]"
   ]
  },
  {
   "cell_type": "code",
   "execution_count": null,
   "metadata": {
    "scrolled": true
   },
   "outputs": [],
   "source": [
    "dat.iloc[temp_idx,1] = \"충청남도 천안시 동남구 망향로 190\"\n",
    "dat.iloc[temp_idx,2] = \"충청남도\"\n",
    "\n",
    "dat.iloc[temp_idx]"
   ]
  },
  {
   "cell_type": "code",
   "execution_count": null,
   "metadata": {},
   "outputs": [],
   "source": [
    "# 전처리 된 데이터 저장\n",
    "dat.to_excel('lotteria_all_store_3.xlsx', index=False)\n",
    "dat.to_csv('lotteria_all_store_3.csv', index=False)\n",
    "dat"
   ]
  },
  {
   "cell_type": "code",
   "execution_count": null,
   "metadata": {
    "scrolled": true
   },
   "outputs": [],
   "source": [
    "# 수집된 데이터 가져오기\n",
    "dat = pd.read_excel('./lotteria_all_store_v3.xlsx')\n",
    "dat"
   ]
  },
  {
   "cell_type": "markdown",
   "metadata": {},
   "source": []
  },
  {
   "cell_type": "markdown",
   "metadata": {},
   "source": [
    "### - 데이터 1개 : ‘경기도 여주군’ → ‘경기도 여주시’로 변경 \n",
    "  - 여주가남점"
   ]
  },
  {
   "cell_type": "code",
   "execution_count": null,
   "metadata": {},
   "outputs": [],
   "source": [
    "dat.loc[ dat['주소2'] == '여주군']"
   ]
  },
  {
   "cell_type": "code",
   "execution_count": null,
   "metadata": {},
   "outputs": [],
   "source": [
    "dat.loc[ dat['주소2'] == '여주군', '주소2'] = '여주시'"
   ]
  },
  {
   "cell_type": "code",
   "execution_count": null,
   "metadata": {},
   "outputs": [],
   "source": [
    "dat.loc[ dat['주소2'] == '여주시']"
   ]
  },
  {
   "cell_type": "markdown",
   "metadata": {},
   "source": [
    "### - ‘인천광역시 남구’ → ‘인천광역시 미추홀구‘로 변경\n",
    "  - 동일한 지역인데 KFC, 버거킹, 맥도날드는 ‘인천광역시 미추홀구‘로 되어있음\n",
    "  - 시군구별 인구수,인구밀도 데이터에 ‘인천광역시 미추홀구‘로 되어 있어서 이것으로 통일하면 좋을 듯"
   ]
  },
  {
   "cell_type": "code",
   "execution_count": null,
   "metadata": {},
   "outputs": [],
   "source": [
    "dat.loc[ (dat['주소1'] == '인천광역시') & (dat['주소2'] == '남구') ]"
   ]
  },
  {
   "cell_type": "code",
   "execution_count": null,
   "metadata": {},
   "outputs": [],
   "source": [
    "dat.loc[ (dat['주소1'] == '인천광역시') & (dat['주소2'] == '남구'), '주소2' ] = '미추홀구'"
   ]
  },
  {
   "cell_type": "code",
   "execution_count": null,
   "metadata": {},
   "outputs": [],
   "source": [
    "dat.loc[ (dat['주소1'] == '인천광역시') & (dat['주소2'] == '미추홀구') ]"
   ]
  },
  {
   "cell_type": "markdown",
   "metadata": {},
   "source": [
    "### - 주소에 “광주광역시 광역시“라고 되어있는 데이터 3개 있음 \n",
    "  - 광주금남로, 광주동림, 광주오치"
   ]
  },
  {
   "cell_type": "code",
   "execution_count": null,
   "metadata": {},
   "outputs": [],
   "source": [
    "idx_list2 = list(dat.loc[ dat['주소2'] == '광역시' ].index)\n",
    "dat.loc[ dat['주소2'] == '광역시' ]"
   ]
  },
  {
   "cell_type": "code",
   "execution_count": null,
   "metadata": {},
   "outputs": [],
   "source": [
    "def change_addr2(x) :\n",
    "    idx = x['주소3'].index('구') + 1\n",
    "    \n",
    "    addr2 = x['주소3'][:idx]\n",
    "    addr3 = x['주소3'][idx+1:]\n",
    "    \n",
    "    x['주소2', '주소3'] = addr2, addr3\n",
    "    \n",
    "    return x\n",
    "    \n",
    "dat = dat.apply(lambda x : change_addr2(x) if x['주소2'] == '광역시' else x, axis=1)"
   ]
  },
  {
   "cell_type": "code",
   "execution_count": null,
   "metadata": {
    "scrolled": true
   },
   "outputs": [],
   "source": [
    "dat.iloc[ idx_list2 ]"
   ]
  },
  {
   "cell_type": "code",
   "execution_count": null,
   "metadata": {},
   "outputs": [],
   "source": [
    "# 주소1, 주소2, 주소3 을 합쳐서 주소를 다시 입력\n",
    "dat['주소'] = dat[ ['주소1', '주소2', '주소3'] ].apply(' '.join, axis=1)\n",
    "dat.head()"
   ]
  },
  {
   "cell_type": "code",
   "execution_count": null,
   "metadata": {},
   "outputs": [],
   "source": [
    "# 전처리 된 데이터 저장\n",
    "dat.to_excel('lotteria_all_store.xlsx', index=False)\n",
    "dat.to_csv('lotteria_all_store.csv', index=False)\n",
    "dat"
   ]
  },
  {
   "cell_type": "code",
   "execution_count": null,
   "metadata": {},
   "outputs": [],
   "source": [
    "import os\n",
    "os.getcwd()"
   ]
  },
  {
   "cell_type": "code",
   "execution_count": null,
   "metadata": {},
   "outputs": [],
   "source": [
    "os.listdir()"
   ]
  },
  {
   "cell_type": "code",
   "execution_count": null,
   "metadata": {},
   "outputs": [],
   "source": []
  }
 ],
 "metadata": {
  "kernelspec": {
   "display_name": "Python 3",
   "language": "python",
   "name": "python3"
  },
  "language_info": {
   "codemirror_mode": {
    "name": "ipython",
    "version": 3
   },
   "file_extension": ".py",
   "mimetype": "text/x-python",
   "name": "python",
   "nbconvert_exporter": "python",
   "pygments_lexer": "ipython3",
   "version": "3.7.3"
  }
 },
 "nbformat": 4,
 "nbformat_minor": 4
}
