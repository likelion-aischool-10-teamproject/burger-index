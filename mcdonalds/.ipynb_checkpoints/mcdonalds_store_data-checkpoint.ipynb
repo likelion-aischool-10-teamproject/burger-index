{
 "cells": [
  {
   "cell_type": "code",
   "execution_count": 1,
   "metadata": {},
   "outputs": [],
   "source": [
    "from selenium import webdriver\n",
    "from bs4 import BeautifulSoup\n",
    "import time\n",
    "import pandas as pd\n",
    "import os\n",
    "import platform"
   ]
  },
  {
   "cell_type": "code",
   "execution_count": 2,
   "metadata": {},
   "outputs": [],
   "source": [
    "# OS 별로 웹드라이버 로드(windows, mac)\n",
    "if platform.system() == \"Windows\":\n",
    "    driver = webdriver.Chrome('../chromedriver_90')\n",
    "elif platform.system()==\"Darwin\":\n",
    "    driver = webdriver.Chrome('../chromedriver_90')\n",
    "else:\n",
    "    print(\"Unknown System\")\n",
    "    \n",
    "url = 'https://www.mcdonalds.co.kr/kor/store/main.do'\n",
    "driver.get(url)\n",
    "time.sleep(3)"
   ]
  },
  {
   "cell_type": "code",
   "execution_count": 3,
   "metadata": {},
   "outputs": [],
   "source": [
    "search_btn = driver.find_element_by_xpath('//*[@id=\"searchForm\"]/div/fieldset/div/button')\n",
    "search_btn.click()"
   ]
  },
  {
   "cell_type": "code",
   "execution_count": 4,
   "metadata": {},
   "outputs": [],
   "source": [
    "# page = driver.page_source\n",
    "# soup = BeautifulSoup(page, 'lxml')"
   ]
  },
  {
   "cell_type": "code",
   "execution_count": 5,
   "metadata": {},
   "outputs": [
    {
     "ename": "NameError",
     "evalue": "name 'store_list' is not defined",
     "output_type": "error",
     "traceback": [
      "\u001b[1;31m---------------------------------------------------------------------------\u001b[0m",
      "\u001b[1;31mNameError\u001b[0m                                 Traceback (most recent call last)",
      "\u001b[1;32m<ipython-input-5-ffc87dfde4ed>\u001b[0m in \u001b[0;36m<module>\u001b[1;34m\u001b[0m\n\u001b[0;32m     19\u001b[0m         \u001b[0mtime\u001b[0m\u001b[1;33m.\u001b[0m\u001b[0msleep\u001b[0m\u001b[1;33m(\u001b[0m\u001b[1;36m1\u001b[0m\u001b[1;33m)\u001b[0m\u001b[1;33m\u001b[0m\u001b[1;33m\u001b[0m\u001b[0m\n\u001b[0;32m     20\u001b[0m \u001b[1;33m\u001b[0m\u001b[0m\n\u001b[1;32m---> 21\u001b[1;33m         \u001b[1;32mfor\u001b[0m \u001b[0mj\u001b[0m \u001b[1;32min\u001b[0m \u001b[0mstore_list\u001b[0m \u001b[1;33m:\u001b[0m\u001b[1;33m\u001b[0m\u001b[1;33m\u001b[0m\u001b[0m\n\u001b[0m\u001b[0;32m     22\u001b[0m             \u001b[0mtemp_store_name\u001b[0m \u001b[1;33m=\u001b[0m \u001b[0mj\u001b[0m\u001b[1;33m.\u001b[0m\u001b[0mselect_one\u001b[0m\u001b[1;33m(\u001b[0m\u001b[1;34m'a'\u001b[0m\u001b[1;33m)\u001b[0m\u001b[1;33m.\u001b[0m\u001b[0mtext\u001b[0m\u001b[1;33m\u001b[0m\u001b[1;33m\u001b[0m\u001b[0m\n\u001b[0;32m     23\u001b[0m             \u001b[0mstore_name\u001b[0m\u001b[1;33m.\u001b[0m\u001b[0mappend\u001b[0m\u001b[1;33m(\u001b[0m\u001b[0mtemp_store_name\u001b[0m\u001b[1;33m)\u001b[0m\u001b[1;33m\u001b[0m\u001b[1;33m\u001b[0m\u001b[0m\n",
      "\u001b[1;31mNameError\u001b[0m: name 'store_list' is not defined"
     ]
    }
   ],
   "source": [
    "store_name = []\n",
    "store_addr = []\n",
    "\n",
    "\n",
    "while 1 :\n",
    "    \n",
    "    page = driver.page_source\n",
    "    soup = BeautifulSoup(page, 'lxml')\n",
    "    \n",
    "    list_btn = driver.find_element_by_xpath('//*[@id=\"container\"]/div[1]/div[2]/div/div/div[2]/div/span')\n",
    "    list_btn_len = len(list_btn.find_elements_by_tag_name('a'))\n",
    "\n",
    "    for i in range(1, list_btn_len + 1) :\n",
    "\n",
    "        xpath = f'//*[@id=\"container\"]/div[1]/div[2]/div/div/div[2]/div/span/a[{i}]'\n",
    "\n",
    "        page_btn = driver.find_element_by_xpath(xpath)\n",
    "        page_btn.click()\n",
    "        time.sleep(1)\n",
    "        \n",
    "        \n",
    "\n",
    "        for j in store_list :\n",
    "            temp_store_name = j.select_one('a').text\n",
    "            store_name.append(temp_store_name)\n",
    "            temp_store_addr = j.select_one('dd.road').text\n",
    "            store_addr.append(temp_store_addr)\n",
    "\n",
    "\n",
    "        if list_btn_len < 10 :\n",
    "            print('마지막 페이지')\n",
    "            break\n",
    "        \n",
    "        if i == 10 :\n",
    "\n",
    "            next_btn = driver.find_element_by_xpath('//*[@id=\"container\"]/div[1]/div[2]/div/div/div[2]/div/a[3]')\n",
    "            next_btn.click()\n",
    "            time.sleep(1)\n",
    "\n",
    "#     store_list = soup.select('dl.name')\n",
    "\n",
    "#     for i in store_list :\n",
    "#         temp_store_name = i.select_one('a').text\n",
    "#         store_name.append(temp_store_name)\n",
    "#         temp_store_addr = i.select_one('dd.road').text\n",
    "#         store_addr.append(temp_store_addr)\n",
    "    \n",
    "    \n",
    "# store_name = soup.select('dl.name')[0].select_one('a').text\n",
    "# store_addr = soup.select('dl.name')[0].select_one('dd.road').text\n",
    "\n",
    "# store_name,store_addr"
   ]
  },
  {
   "cell_type": "code",
   "execution_count": null,
   "metadata": {},
   "outputs": [],
   "source": [
    "print(store_name)\n",
    "print(store_addr)\n",
    "print(len(store_name))\n",
    "print(len(store_addr))"
   ]
  },
  {
   "cell_type": "code",
   "execution_count": null,
   "metadata": {},
   "outputs": [],
   "source": [
    "driver.close()"
   ]
  },
  {
   "cell_type": "code",
   "execution_count": null,
   "metadata": {},
   "outputs": [],
   "source": [
    "dat_df = pd.DataFrame({'매장명':store_name,\n",
    "                       '매장 주소':store_addr})\n",
    "    \n",
    "\n",
    "    \n",
    "    # 폴더 확인 후 없으면 만듦\n",
    "path = './data/'\n",
    "if not os.path.isdir(path):                                                           \n",
    "    os.mkdir(path)\n",
    "        \n",
    "#     file_name 에 연월일, 시분초 추가시    \n",
    "#     now_time = time.strftime('%Y-%m-%d %H:%M:%S', time.localtime())\n",
    "#     file_name = f'KFC매장_{loc_list1_cont.text}_{now_time}.xlsx'\n",
    "\n",
    "file_name = 'mcdonalds_all_store.xlsx'\n",
    "\n",
    "dat_df.to_excel(file_name, index=False)\n",
    "\n",
    "if file_name in os.listdir('./data') :\n",
    "    print(f'{file_name} 저장 완료')\n",
    "else : \n",
    "    print(f'{file_name} 저장 실패')\n",
    "\n",
    "print('데이터 수집 완료')\n"
   ]
  }
 ],
 "metadata": {
  "kernelspec": {
   "display_name": "Python 3",
   "language": "python",
   "name": "python3"
  },
  "language_info": {
   "codemirror_mode": {
    "name": "ipython",
    "version": 3
   },
   "file_extension": ".py",
   "mimetype": "text/x-python",
   "name": "python",
   "nbconvert_exporter": "python",
   "pygments_lexer": "ipython3",
   "version": "3.7.3"
  }
 },
 "nbformat": 4,
 "nbformat_minor": 4
}
