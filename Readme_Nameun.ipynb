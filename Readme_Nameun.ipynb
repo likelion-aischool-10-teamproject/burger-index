{
 "cells": [
  {
   "cell_type": "code",
   "execution_count": 2,
   "metadata": {},
   "outputs": [],
   "source": [
    "from IPython.display import Image"
   ]
  },
  {
   "cell_type": "markdown",
   "metadata": {},
   "source": [
    "### 주제선정\n",
    "   * 배경\n",
    "    - 인터넷 밈(Meme)으로부터 나온 버거지수\n",
    "    - 위의 가설을 주제로 한 네티즌이 2015년에 분석\n",
    "    - 흥미로운 주제, 직접 분석을 해보자는 취지에서 시작\n",
    "\n",
    "   * 목표\n",
    "    - 버거지수와 도시 발전 지표의 상관관계를 분석해보자.\n",
    "    -  2015년도의 결과와 우리가 검증한 결과가 어떻게 변하였나? 그렇다면, 그 결과의 차이는 무엇인가?\n",
    "\n",
    "### 2015년도의 분석 결과\n",
    "   * 수도권과 광역시 중심에 높은 버거지수\n",
    "    - 버거지수의 분모에 해당하는 롯데리아는 전국적으로 분포\n",
    "        - 매장수가 다른 브랜드에 비해 월등히 많음\n",
    "    - 버거지수의 분자에 해당하는 BKM(버거킹+KFC+맥도날드)는 수도권과 광역시에 집중적으로 분포\n",
    "   * 버거지수가 인구밀도와의 상관관계를 가진다.\n",
    "\n",
    " ![nn](2015_pop_burger.jpg)\n",
    " ![nn](2015_scatter.jpg)"
   ]
  },
  {
   "cell_type": "code",
   "execution_count": null,
   "metadata": {},
   "outputs": [],
   "source": []
  }
 ],
 "metadata": {
  "kernelspec": {
   "display_name": "Python 3",
   "language": "python",
   "name": "python3"
  },
  "language_info": {
   "codemirror_mode": {
    "name": "ipython",
    "version": 3
   },
   "file_extension": ".py",
   "mimetype": "text/x-python",
   "name": "python",
   "nbconvert_exporter": "python",
   "pygments_lexer": "ipython3",
   "version": "3.8.5"
  }
 },
 "nbformat": 4,
 "nbformat_minor": 4
}
