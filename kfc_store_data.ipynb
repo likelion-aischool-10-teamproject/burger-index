{
 "cells": [
  {
   "cell_type": "code",
   "execution_count": 15,
   "metadata": {},
   "outputs": [],
   "source": [
    "from selenium import webdriver\n",
    "from bs4 import BeautifulSoup\n",
    "import time"
   ]
  },
  {
   "cell_type": "code",
   "execution_count": 16,
   "metadata": {},
   "outputs": [],
   "source": [
    "url = 'https://www.kfckorea.com/store/findStore'\n",
    "driver = webdriver.Chrome('../chromedriver_90')\n",
    "\n",
    "driver.get(url)\n",
    "time.sleep(3)"
   ]
  },
  {
   "cell_type": "code",
   "execution_count": 17,
   "metadata": {},
   "outputs": [],
   "source": [
    "# 지역검색\n",
    "# '//*[@id=\"app\"]/div[2]/div/div/div[2]/div/div[2]/div/div/ul/li[2]/a'\n",
    "loc_a = driver.find_element_by_xpath('//*[@id=\"app\"]/div[2]/div/div/div[2]/div/div[2]/div/div/ul/li[2]/a')\n",
    "loc_a.click()\n",
    "time.sleep(0.1)"
   ]
  },
  {
   "cell_type": "code",
   "execution_count": 38,
   "metadata": {},
   "outputs": [],
   "source": [
    "store_name = []\n",
    "store_addr = []\n",
    "\n",
    "# 시도 선택\n",
    "# '//*[@id=\"app\"]/div[2]/div/div/div[2]/div/div[2]/div/div/div/div/div[1]/select[1]'\n",
    "loc_list1 = driver.find_element_by_xpath('//*[@id=\"app\"]/div[2]/div/div/div[2]/div/div[2]/div/div/div/div/div[1]/select[1]')\n",
    "loc_list1.click()\n",
    "time.sleep(0.5)\n",
    "\n",
    "loc_list1_cont = driver.find_element_by_xpath('//*[@id=\"app\"]/div[2]/div/div/div[2]/div/div[2]/div/div/div/div/div[1]/select[1]/option[2]')\n",
    "loc_list1_cont.click()\n",
    "time.sleep(0.5)\n",
    "\n",
    "loc_list1.click()\n",
    "time.sleep(0.5)\n",
    "\n",
    "# 구군 선택\n",
    "loc_list2 = driver.find_element_by_xpath('//*[@id=\"app\"]/div[2]/div/div/div[2]/div/div[2]/div/div/div/div/div[1]/select[2]')\n",
    "loc_list2.click()\n",
    "time.sleep(0.5)\n",
    "\n",
    "loc_list2_cont = driver.find_element_by_xpath('//*[@id=\"app\"]/div[2]/div/div/div[2]/div/div[2]/div/div/div/div/div[1]/select[2]/option[2]')\n",
    "loc_list2_cont.click()\n",
    "time.sleep(0.5)\n",
    "\n",
    "loc_list2.click()\n",
    "time.sleep(0.5)\n",
    "\n",
    "# 매장정보 수집\n",
    "page = driver.page_source\n",
    "soup = BeautifulSoup(page, 'lxml')\n",
    "\n",
    "\n",
    "# swiper-slide\n",
    "\n",
    "\n",
    "# '//*[@id=\"app\"]/div[2]/div/div/div[2]/div/div[2]/div/div/div/div/div[1]/select[2]/option[2]'"
   ]
  },
  {
   "cell_type": "code",
   "execution_count": 31,
   "metadata": {},
   "outputs": [
    {
     "data": {
      "text/plain": [
       "17"
      ]
     },
     "execution_count": 31,
     "metadata": {},
     "output_type": "execute_result"
    }
   ],
   "source": [
    "list1_len = len(loc_list1.text.split()[1:])\n",
    "list1_len"
   ]
  },
  {
   "cell_type": "code",
   "execution_count": 27,
   "metadata": {},
   "outputs": [
    {
     "data": {
      "text/plain": [
       "' 구,군\\n강남구\\n강동구\\n강북구\\n강서구\\n관악구\\n광진구\\n구로구\\n금천구\\n노원구\\n도봉구\\n동대문구\\n동작구\\n마포구\\n서대문구\\n서초구\\n성동구\\n성북구\\n송파구\\n양천구\\n영등포구\\n용산구\\n은평구\\n종로구\\n중구\\n중랑구'"
      ]
     },
     "execution_count": 27,
     "metadata": {},
     "output_type": "execute_result"
    }
   ],
   "source": [
    "loc_list2.text"
   ]
  },
  {
   "cell_type": "code",
   "execution_count": 33,
   "metadata": {},
   "outputs": [
    {
     "data": {
      "text/plain": [
       "25"
      ]
     },
     "execution_count": 33,
     "metadata": {},
     "output_type": "execute_result"
    }
   ],
   "source": [
    "list2_len = len(loc_list2.text.split()[1:])\n",
    "list2_len"
   ]
  },
  {
   "cell_type": "code",
   "execution_count": 37,
   "metadata": {},
   "outputs": [
    {
     "data": {
      "text/plain": [
       "'강남역 공유\\n서울 서초구 서초대로77길 15 (서초동) 6\\n02-532-4211\\n대치동 공유\\n서울 강남구 도곡로 517 (대치동) 서연빌딩 1층\\n02-501-0391\\n학동역 공유\\n서울 강남구 학동로 218 (논현동)\\n02-514-7333\\n코엑스MALL 공유\\n서울 강남구 영동대로 513 (삼성동) B1층 H102호\\n02-501-7295\\n일원동 공유\\n서울 강남구 일원로 28 (일원동)\\n02-445-6449\\n역삼역 공유\\n서울 강남구 논현로 509 (역삼동) 지상1층2층\\n02-569-2515\\n압구정1 공유\\n서울 강남구 논현로175길 7 (신사동)\\n02-545-2617\\n강남구청역 (구: 삼성동) 공유\\n서울 강남구 학동로 402 (삼성동) 천마빌딩 103호\\n02-547-1664'"
      ]
     },
     "execution_count": 37,
     "metadata": {},
     "output_type": "execute_result"
    }
   ],
   "source": [
    "driver.find_element_by_css_selector('div.swiper-slide')."
   ]
  },
  {
   "cell_type": "code",
   "execution_count": 41,
   "metadata": {},
   "outputs": [],
   "source": [
    "store_list = soup.select_one('div.swiper-slide')"
   ]
  },
  {
   "cell_type": "code",
   "execution_count": null,
   "metadata": {},
   "outputs": [],
   "source": [
    "store_list."
   ]
  }
 ],
 "metadata": {
  "kernelspec": {
   "display_name": "Python 3",
   "language": "python",
   "name": "python3"
  },
  "language_info": {
   "codemirror_mode": {
    "name": "ipython",
    "version": 3
   },
   "file_extension": ".py",
   "mimetype": "text/x-python",
   "name": "python",
   "nbconvert_exporter": "python",
   "pygments_lexer": "ipython3",
   "version": "3.7.3"
  }
 },
 "nbformat": 4,
 "nbformat_minor": 2
}
