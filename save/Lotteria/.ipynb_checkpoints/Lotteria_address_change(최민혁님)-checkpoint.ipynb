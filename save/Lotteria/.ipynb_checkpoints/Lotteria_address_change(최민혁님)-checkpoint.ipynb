{
 "cells": [
  {
   "cell_type": "code",
   "execution_count": 1,
   "metadata": {},
   "outputs": [],
   "source": [
    "import requests\n",
    "from bs4 import BeautifulSoup\n",
    "from selenium import webdriver\n",
    "\n",
    "import os, warnings # 경고메세지 라이브러리\n",
    "import re   # 정규표현식\n",
    "import time\n",
    "warnings.filterwarnings(action='ignore') # 경고메세지 무시\n",
    "\n",
    "import pandas as pd"
   ]
  },
  {
   "cell_type": "code",
   "execution_count": 2,
   "metadata": {
    "scrolled": true
   },
   "outputs": [
    {
     "ename": "TypeError",
     "evalue": "read_excel() got an unexpected keyword argument 'encoding'",
     "output_type": "error",
     "traceback": [
      "\u001b[1;31m---------------------------------------------------------------------------\u001b[0m",
      "\u001b[1;31mTypeError\u001b[0m                                 Traceback (most recent call last)",
      "\u001b[1;32m<ipython-input-2-0d0a44eb3b14>\u001b[0m in \u001b[0;36m<module>\u001b[1;34m\u001b[0m\n\u001b[0;32m      1\u001b[0m \u001b[1;31m# 수집된 데이터 가져오기\u001b[0m\u001b[1;33m\u001b[0m\u001b[1;33m\u001b[0m\u001b[1;33m\u001b[0m\u001b[0m\n\u001b[1;32m----> 2\u001b[1;33m \u001b[0mdat\u001b[0m \u001b[1;33m=\u001b[0m \u001b[0mpd\u001b[0m\u001b[1;33m.\u001b[0m\u001b[0mread_excel\u001b[0m\u001b[1;33m(\u001b[0m\u001b[1;34m'./lotteria_all_store.xlsx'\u001b[0m\u001b[1;33m,\u001b[0m \u001b[0mencoding\u001b[0m\u001b[1;33m=\u001b[0m\u001b[1;34m'utf-8'\u001b[0m\u001b[1;33m)\u001b[0m\u001b[1;33m\u001b[0m\u001b[1;33m\u001b[0m\u001b[0m\n\u001b[0m\u001b[0;32m      3\u001b[0m \u001b[1;31m# dat = dat.iloc[0:320]\u001b[0m\u001b[1;33m\u001b[0m\u001b[1;33m\u001b[0m\u001b[1;33m\u001b[0m\u001b[0m\n\u001b[0;32m      4\u001b[0m \u001b[1;31m# dat = dat.iloc[320:640]\u001b[0m\u001b[1;33m\u001b[0m\u001b[1;33m\u001b[0m\u001b[1;33m\u001b[0m\u001b[0m\n\u001b[0;32m      5\u001b[0m \u001b[0mdat\u001b[0m \u001b[1;33m=\u001b[0m \u001b[0mdat\u001b[0m\u001b[1;33m.\u001b[0m\u001b[0miloc\u001b[0m\u001b[1;33m[\u001b[0m\u001b[1;36m640\u001b[0m\u001b[1;33m:\u001b[0m\u001b[1;36m960\u001b[0m\u001b[1;33m]\u001b[0m\u001b[1;33m\u001b[0m\u001b[1;33m\u001b[0m\u001b[0m\n",
      "\u001b[1;32m~\\anaconda3\\lib\\site-packages\\pandas\\util\\_decorators.py\u001b[0m in \u001b[0;36mwrapper\u001b[1;34m(*args, **kwargs)\u001b[0m\n\u001b[0;32m    294\u001b[0m                 )\n\u001b[0;32m    295\u001b[0m                 \u001b[0mwarnings\u001b[0m\u001b[1;33m.\u001b[0m\u001b[0mwarn\u001b[0m\u001b[1;33m(\u001b[0m\u001b[0mmsg\u001b[0m\u001b[1;33m,\u001b[0m \u001b[0mFutureWarning\u001b[0m\u001b[1;33m,\u001b[0m \u001b[0mstacklevel\u001b[0m\u001b[1;33m=\u001b[0m\u001b[0mstacklevel\u001b[0m\u001b[1;33m)\u001b[0m\u001b[1;33m\u001b[0m\u001b[1;33m\u001b[0m\u001b[0m\n\u001b[1;32m--> 296\u001b[1;33m             \u001b[1;32mreturn\u001b[0m \u001b[0mfunc\u001b[0m\u001b[1;33m(\u001b[0m\u001b[1;33m*\u001b[0m\u001b[0margs\u001b[0m\u001b[1;33m,\u001b[0m \u001b[1;33m**\u001b[0m\u001b[0mkwargs\u001b[0m\u001b[1;33m)\u001b[0m\u001b[1;33m\u001b[0m\u001b[1;33m\u001b[0m\u001b[0m\n\u001b[0m\u001b[0;32m    297\u001b[0m \u001b[1;33m\u001b[0m\u001b[0m\n\u001b[0;32m    298\u001b[0m         \u001b[1;32mreturn\u001b[0m \u001b[0mwrapper\u001b[0m\u001b[1;33m\u001b[0m\u001b[1;33m\u001b[0m\u001b[0m\n",
      "\u001b[1;31mTypeError\u001b[0m: read_excel() got an unexpected keyword argument 'encoding'"
     ]
    }
   ],
   "source": [
    "# 수집된 데이터 가져오기\n",
    "dat = pd.read_excel('./lotteria_all_store.xlsx', encoding='EUCKR')\n",
    "# dat = dat.iloc[0:320]\n",
    "# dat = dat.iloc[320:640]\n",
    "dat = dat.iloc[640:960]\n",
    "# dat = dat.iloc[960:]\n",
    "dat"
   ]
  },
  {
   "cell_type": "code",
   "execution_count": null,
   "metadata": {},
   "outputs": [],
   "source": [
    "addr = {'서울시':'서울특별시',\n",
    "        '서울':'서울특별시',\n",
    "        '부산시':'부산광역시',\n",
    "        '부산':'부산광역시',\n",
    "        '대구':'대구광역시',\n",
    "        '인천':'인천광역시',\n",
    "        '광주':'광주광역시',\n",
    "        '대전시':'대전광역시',\n",
    "        '대전':'대전광역시',\n",
    "        '울산':'울산광역시',\n",
    "        '세종':'세종특별자치시',\n",
    "        '경기':'경기도',\n",
    "        '강원':'강원도',\n",
    "        '충북':'충청북도',\n",
    "        '충남':'충청남도',\n",
    "        '전북':'전라북도',\n",
    "        '전남':'전라남도',\n",
    "        '경북':'경상북도',\n",
    "        '경남':'경상남도',\n",
    "        '제주':'제주특별자치도'}"
   ]
  },
  {
   "cell_type": "code",
   "execution_count": null,
   "metadata": {
    "scrolled": false
   },
   "outputs": [],
   "source": [
    "def change_addr(x) :\n",
    "    \n",
    "    s_name_ori = x['지점명']\n",
    "    \n",
    "    # D/T 같이 '/'이 포함된 경우 네이버에 제대로 검색되지 않음\n",
    "    s_name = s_name_ori\n",
    "    if '/' in s_name :\n",
    "        s_name = s_name.replace('/', '')\n",
    "        \n",
    "    f_name = f'롯데리아 {s_name}'\n",
    "    \n",
    "    url = f'https://search.naver.com/search.naver?query={f_name}'\n",
    "          \n",
    "    driver.get(url)\n",
    "    time.sleep(1)\n",
    "    \n",
    "    page = driver.page_source\n",
    "    soup = BeautifulSoup(page, 'lxml')\n",
    "    \n",
    "    # 네이버에 '롯데리아 지점명' 검색하여 주소 획득\n",
    "    try :\n",
    "\n",
    "        # case1 : 롯데리아 감일\n",
    "        full_addr = soup.select_one('span.addr').text\n",
    "        addr1, addr2, addr3 = full_addr.split(' ', 2)\n",
    "        print(f'{s_name} : {addr1} {addr2} {addr3}')\n",
    "        x[ ['주소1', '주소2', '주소3'] ] = addr1, addr2, addr3\n",
    "\n",
    "    except Exception as e :\n",
    "\n",
    "        print(f'{s_name} : 1. {e}')\n",
    "        full_addr = ''\n",
    "\n",
    "        try :\n",
    "            store_list = soup.select('div._3ZU00')\n",
    "            \n",
    "            # case2 : 롯데리아 의정부화룡역\n",
    "            if len(store_list) == 0 :\n",
    "                full_addr = soup.select('div._1mAZf')[1].text\n",
    "\n",
    "                full_addr = full_addr[:full_addr.rindex('지번')]\n",
    "                addr1, addr2, addr3 = full_addr.split(' ', 2)\n",
    "                print(f'{s_name} : {addr1} {addr2} {addr3}')\n",
    "                x[ ['주소1', '주소2', '주소3'] ] = addr1, addr2, addr3\n",
    "\n",
    "            # 검색목록이 여러개인 경우, 지점명과 일치하는 주소를 획득\n",
    "            for idx, i in enumerate(store_list) :\n",
    "                \n",
    "                except_text = ['전북', '전남', '경북', '경남']\n",
    "                \n",
    "                # try 구문을 사용해도 되지만 이미 이중으로 try 선언이 되어 굳이 String으로 해결\n",
    "                # 지점명에 도명이 포함된 경우, 네이버 검색 시 도명이 없이 롯데리아 진안점으로 검색됨\n",
    "                # 도명을 제거하여 네이버 검색결과 중 일치하는 지점의 주소를 입력\n",
    "                s_name2 = 'None 선언시 에러가 생기므로 String으로 None 선언'\n",
    "                if s_name[:2] in except_text :\n",
    "                    s_name2 = s_name[2:]\n",
    "\n",
    "                # case3 : 롯데리아 전북진안, 롯데리아 강남역\n",
    "                if s_name in i.a.text or s_name2 in i.a.text :\n",
    "                \n",
    "                    try :\n",
    "                        xpath = f'//*[@id=\"loc-main-section-root\"]/section/div/div[2]/ul/li[{idx+1}]/div[2]/div[2]/div/span/a/span[2]'\n",
    "                        down = driver.find_element_by_xpath(xpath)\n",
    "                    except :\n",
    "                        # case4 : 롯데리아 경남함안\n",
    "                        xpath = f'//*[@id=\"loc-main-section-root\"]/section/div/div[2]/ul/li[{idx+1}]/div[1]/div[2]/div/span/a/span[2]'\n",
    "                        down = driver.find_element_by_xpath(xpath)\n",
    "\n",
    "                    down.click()\n",
    "                    time.sleep(1)\n",
    "                    \n",
    "                    # 주소에 도로명과, 복사를 뺴고 입력\n",
    "                    full_addr = driver.find_element_by_css_selector('div._2b9ic').text[3:-2]\n",
    "                    addr1, addr2, addr3 = full_addr.strip().split(' ', 2)\n",
    "                    print(f'{s_name} : {addr1} {addr2} {addr3}')\n",
    "                    x[ ['주소1', '주소2', '주소3'] ] = addr1, addr2, addr3\n",
    "                    \n",
    "                    break\n",
    "                    \n",
    "        except Exception as e:\n",
    "\n",
    "            print(f'{s_name} : 2. {e}')\n",
    "            \n",
    "    if len(full_addr) < 1 :\n",
    "        # drop 처리하려 했으나 작업 편의성을 위해 None 처리\n",
    "#         print(f'{s_name_ori} : 삭제')\n",
    "#         dat.drop( dat.loc[ dat['지점명'] == s_name_ori ].index, axis=0, inplace=True)\n",
    "\n",
    "        print(f'{s_name_ori} : None처리')\n",
    "        pass\n",
    "    else :\n",
    "        return x\n",
    "\n",
    "# 웹드라이버 실행\n",
    "driver = webdriver.Chrome('../chromedriver_90')\n",
    "\n",
    "# 주소1의 이상값을 정상값으로 변경하고 없는 지점은 None처리\n",
    "dat = dat.apply(lambda x : change_addr(x), axis=1)\n",
    "# dat = dat.apply(lambda x : change_addr(x) if x['주소1'] not in addr.values() else x, axis=1)\n",
    "\n",
    "# 웹드라이버 종료\n",
    "driver.close()"
   ]
  },
  {
   "cell_type": "code",
   "execution_count": null,
   "metadata": {},
   "outputs": [],
   "source": [
    "# 주소1의 줄임말을 풀어서 치환하고 None처리 된 행을 제거\n",
    "dat['주소1'] = dat['주소1'].replace(addr)\n",
    "dat.dropna(inplace=True)\n",
    "dat.head()"
   ]
  },
  {
   "cell_type": "code",
   "execution_count": null,
   "metadata": {},
   "outputs": [],
   "source": [
    "# null 확인\n",
    "dat.isnull().sum()"
   ]
  },
  {
   "cell_type": "code",
   "execution_count": null,
   "metadata": {},
   "outputs": [],
   "source": [
    "# 주소1 이상치 확인\n",
    "dat['주소1'].unique()"
   ]
  },
  {
   "cell_type": "code",
   "execution_count": null,
   "metadata": {},
   "outputs": [],
   "source": [
    "# 주소1, 주소2, 주소3 을 합쳐서 주소를 다시 입력\n",
    "dat['주소'] = dat[ ['주소1', '주소2', '주소3'] ].apply(' '.join, axis=1)\n",
    "dat"
   ]
  },
  {
   "cell_type": "code",
   "execution_count": null,
   "metadata": {},
   "outputs": [],
   "source": [
    "# 전처리 된 데이터 저장\n",
    "dat.to_excel('lotteria_all_store3.xlsx', index=False)\n",
    "dat.to_csv('lotteria_all_store3.csv', index=False)\n",
    "dat"
   ]
  },
  {
   "cell_type": "code",
   "execution_count": null,
   "metadata": {},
   "outputs": [],
   "source": []
  },
  {
   "cell_type": "code",
   "execution_count": null,
   "metadata": {},
   "outputs": [],
   "source": []
  },
  {
   "cell_type": "code",
   "execution_count": null,
   "metadata": {},
   "outputs": [],
   "source": []
  }
 ],
 "metadata": {
  "kernelspec": {
   "display_name": "Python 3",
   "language": "python",
   "name": "python3"
  },
  "language_info": {
   "codemirror_mode": {
    "name": "ipython",
    "version": 3
   },
   "file_extension": ".py",
   "mimetype": "text/x-python",
   "name": "python",
   "nbconvert_exporter": "python",
   "pygments_lexer": "ipython3",
   "version": "3.8.5"
  }
 },
 "nbformat": 4,
 "nbformat_minor": 2
}
