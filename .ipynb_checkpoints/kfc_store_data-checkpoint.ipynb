{
 "cells": [
  {
   "cell_type": "code",
   "execution_count": 178,
   "metadata": {},
   "outputs": [],
   "source": [
    "from selenium import webdriver\n",
    "from bs4 import BeautifulSoup\n",
    "import time\n",
    "import pandas as pd\n",
    "import os\n",
    "import platform"
   ]
  },
  {
   "cell_type": "code",
   "execution_count": 179,
   "metadata": {},
   "outputs": [],
   "source": [
    "url = 'https://www.kfckorea.com/store/findStore'\n",
    "\n",
    "    driver = webdriver.Chrome('./chromedriver_90')\n",
    "\n",
    "if platform.system() == \"Windows\":\n",
    "    driver = webdriver.Chrome('./chromedriver_90')\n",
    "elif platform.system()==\"Darwin\":\n",
    "    driver = webdriver.Chrome('./chromedriver_90')\n",
    "else:\n",
    "    print(\"Unknown System\")\n",
    "    \n",
    "driver = webdriver.Chrome('./chromedriver_90')\n",
    "\n",
    "driver.get(url)\n",
    "time.sleep(3)"
   ]
  },
  {
   "cell_type": "code",
   "execution_count": 177,
   "metadata": {},
   "outputs": [
    {
     "ename": "NameError",
     "evalue": "name 'platform' is not defined",
     "output_type": "error",
     "traceback": [
      "\u001b[1;31m---------------------------------------------------------------------------\u001b[0m",
      "\u001b[1;31mNameError\u001b[0m                                 Traceback (most recent call last)",
      "\u001b[1;32m<ipython-input-177-0bbdb0366e2d>\u001b[0m in \u001b[0;36m<module>\u001b[1;34m\u001b[0m\n\u001b[1;32m----> 1\u001b[1;33m \u001b[0mplatform\u001b[0m\u001b[1;33m\u001b[0m\u001b[1;33m\u001b[0m\u001b[0m\n\u001b[0m",
      "\u001b[1;31mNameError\u001b[0m: name 'platform' is not defined"
     ]
    }
   ],
   "source": [
    "platform"
   ]
  },
  {
   "cell_type": "code",
   "execution_count": 173,
   "metadata": {},
   "outputs": [],
   "source": [
    "# 지역검색\n",
    "# '//*[@id=\"app\"]/div[2]/div/div/div[2]/div/div[2]/div/div/ul/li[2]/a'\n",
    "loc_a = driver.find_element_by_xpath('//*[@id=\"app\"]/div[2]/div/div/div[2]/div/div[2]/div/div/ul/li[2]/a')\n",
    "loc_a.click()\n",
    "time.sleep(0.1)"
   ]
  },
  {
   "cell_type": "code",
   "execution_count": 174,
   "metadata": {
    "scrolled": true
   },
   "outputs": [
    {
     "name": "stdout",
     "output_type": "stream",
     "text": [
      "강남구\n",
      "강동구\n",
      "강북구\n",
      "강서구\n",
      "관악구\n",
      "광진구\n",
      "구로구\n",
      "금천구\n",
      "노원구\n",
      "도봉구\n",
      "동대문구\n",
      "동작구\n",
      "마포구\n",
      "서대문구\n",
      "서초구\n",
      "성동구\n",
      "성북구\n",
      "송파구\n",
      "양천구\n",
      "영등포구\n",
      "용산구\n",
      "은평구\n",
      "종로구\n",
      "중구\n",
      "중랑구\n",
      "./data/KFC매장_서울.xlsx 저장 실패\n",
      "강서구\n",
      "금정구\n",
      "남구\n",
      "동구\n",
      "동래구\n",
      "부산진구\n",
      "북구\n",
      "사상구\n",
      "사하구\n",
      "서구\n",
      "수영구\n",
      "연제구\n",
      "영도구\n",
      "중구\n",
      "해운대구\n",
      "기장군\n",
      "./data/KFC매장_부산.xlsx 저장 실패\n",
      "달서구\n",
      "동구\n",
      "북구\n",
      "서구\n",
      "수성구\n",
      "중구\n",
      "달성군\n",
      "남구\n",
      "./data/KFC매장_대구.xlsx 저장 실패\n",
      "계양구\n",
      "남구\n",
      "남동구\n",
      "동구\n",
      "부평구\n",
      "서구\n",
      "연수구\n",
      "중구\n",
      "강화군\n",
      "옹진군\n",
      "./data/KFC매장_인천.xlsx 저장 실패\n",
      "광산구\n",
      "남구\n",
      "동구\n",
      "북구\n",
      "서구\n",
      "./data/KFC매장_광주.xlsx 저장 실패\n",
      "대덕구\n",
      "동구\n",
      "서구\n",
      "유성구\n",
      "중구\n",
      "./data/KFC매장_대전.xlsx 저장 실패\n",
      "남구\n",
      "동구\n",
      "북구\n",
      "중구\n",
      "울주군\n",
      "./data/KFC매장_울산.xlsx 저장 실패\n",
      "세종시\n",
      "./data/KFC매장_세종.xlsx 저장 실패\n",
      "강릉시\n",
      "동해시\n",
      "삼척시\n",
      "속초시\n",
      "원주시\n",
      "춘천시\n",
      "태백시\n",
      "고성군\n",
      "양구군\n",
      "양양군\n",
      "영월군\n",
      "인제군\n",
      "정선군\n",
      "철원군\n",
      "평창군\n",
      "홍천군\n",
      "화천군\n",
      "횡성군\n",
      "./data/KFC매장_강원.xlsx 저장 실패\n",
      "고양시 덕양구\n",
      "고양시 일산동구\n",
      "고양시 일산서구\n",
      "과천시\n",
      "광명시\n",
      "광주시\n",
      "구리시\n",
      "군포시\n",
      "김포시\n",
      "남양주시\n",
      "동두천시\n",
      "부천시 소사구\n",
      "부천시 오정구\n",
      "부천시 원미구\n",
      "성남시 분당구\n",
      "성남시 수정구\n",
      "성남시 중원구\n",
      "수원시 권선구\n",
      "수원시 영통구\n",
      "수원시 장안구\n",
      "수원시 팔달구\n",
      "시흥시\n",
      "안산시 단원구\n",
      "안산시 상록구\n",
      "안성시\n",
      "안양시 동안구\n",
      "안양시 만안구\n",
      "양주시\n",
      "오산시\n",
      "용인시 기흥구\n",
      "용인시 수지구\n",
      "용인시 처인구\n",
      "의왕시\n",
      "의정부시\n",
      "이천시\n",
      "파주시\n",
      "평택시\n",
      "포천시\n",
      "하남시\n",
      "화성시\n",
      "가평군\n",
      "양평군\n",
      "여주군\n",
      "연천군\n",
      "./data/KFC매장_경기.xlsx 저장 실패\n",
      "거제시\n",
      "김해시\n",
      "밀양시\n",
      "사천시\n",
      "양산시\n",
      "진주시\n",
      "창원시 마산합포구\n",
      "창원시 마산회원구\n",
      "창원시 성산구\n",
      "창원시 의창구\n",
      "창원시 진해구\n",
      "통영시\n",
      "거창군\n",
      "고성군\n",
      "남해군\n",
      "산청군\n",
      "의령군\n",
      "창녕군\n",
      "하동군\n",
      "함안군\n",
      "함양군\n",
      "합천군\n",
      "./data/KFC매장_경남.xlsx 저장 실패\n",
      "경산시\n",
      "경주시\n",
      "구미시\n",
      "김천시\n",
      "문경시\n",
      "상주시\n",
      "안동시\n",
      "영주시\n",
      "영천시\n",
      "포항시 남구\n",
      "포항시 북구\n",
      "고령군\n",
      "군위군\n",
      "봉화군\n",
      "성주군\n",
      "영덕군\n",
      "영양군\n",
      "예천군\n",
      "울릉군\n",
      "울진군\n",
      "의성군\n",
      "청도군\n",
      "청송군\n",
      "칠곡군\n",
      "./data/KFC매장_경북.xlsx 저장 실패\n",
      "광양시\n",
      "나주시\n",
      "목포시\n",
      "순천시\n",
      "여수시\n",
      "강진군\n",
      "고흥군\n",
      "곡성군\n",
      "구례군\n",
      "담양군\n",
      "무안군\n",
      "보성군\n",
      "신안군\n",
      "영광군\n",
      "영암군\n",
      "완도군\n",
      "장성군\n",
      "장흥군\n",
      "진도군\n",
      "함평군\n",
      "해남군\n",
      "화순군\n",
      "./data/KFC매장_전남.xlsx 저장 실패\n",
      "군산시\n",
      "김제시\n",
      "남원시\n",
      "익산시\n",
      "전주시 덕진구\n",
      "전주시 완산구\n",
      "정읍시\n",
      "고창군\n",
      "무주군\n",
      "부안군\n",
      "순창군\n",
      "완주군\n",
      "임실군\n",
      "장수군\n",
      "진안군\n",
      "./data/KFC매장_전북.xlsx 저장 실패\n",
      "제주시\n",
      "서귀포시\n",
      "./data/KFC매장_제주.xlsx 저장 실패\n",
      "계룡시\n",
      "공주시\n",
      "논산시\n",
      "당진시\n",
      "보령시\n",
      "서산시\n",
      "아산시\n",
      "천안시 동남구\n",
      "천안시 서북구\n",
      "금산군\n",
      "부여군\n",
      "서천군\n",
      "예산군\n",
      "청양군\n",
      "태안군\n",
      "홍성군\n",
      "./data/KFC매장_충남.xlsx 저장 실패\n",
      "제천시\n",
      "청주시 상당구\n",
      "청주시 흥덕구\n",
      "충주시\n",
      "괴산군\n",
      "단양군\n",
      "보은군\n",
      "영동군\n",
      "옥천군\n",
      "음성군\n",
      "증평군\n",
      "진천군\n",
      "청원군\n",
      "청주시 서원구\n",
      "청주시 청원구\n",
      "./data/KFC매장_충북.xlsx 저장 실패\n"
     ]
    }
   ],
   "source": [
    "# store_name = []\n",
    "# store_addr = []\n",
    "\n",
    "# 시도 선택\n",
    "# '//*[@id=\"app\"]/div[2]/div/div/div[2]/div/div[2]/div/div/div/div/div[1]/select[1]'\n",
    "loc_list1 = driver.find_element_by_xpath('//*[@id=\"app\"]/div[2]/div/div/div[2]/div/div[2]/div/div/div/div/div[1]/select[1]')\n",
    "\n",
    "# 시도 리스트 길이\n",
    "list1_len = len(loc_list1.text.split()[1:])\n",
    "\n",
    "for i in range(2, 2 + list1_len) :\n",
    "# for i in range(2, 3 + list1_len) :\n",
    "\n",
    "    store_name = []\n",
    "    store_addr = []\n",
    "    \n",
    "    loc_list1.click()\n",
    "    time.sleep(1)\n",
    "\n",
    "    xpath1 = f'//*[@id=\"app\"]/div[2]/div/div/div[2]/div/div[2]/div/div/div/div/div[1]/select[1]/option[{i}]'\n",
    "    loc_list1_cont = driver.find_element_by_xpath(xpath1)\n",
    "    loc_list1_cont.click()\n",
    "    time.sleep(1)\n",
    "\n",
    "    loc_list1.click()\n",
    "    time.sleep(1)\n",
    "\n",
    "    # 구군 선택\n",
    "    loc_list2 = driver.find_element_by_xpath('//*[@id=\"app\"]/div[2]/div/div/div[2]/div/div[2]/div/div/div/div/div[1]/select[2]')\n",
    "    \n",
    "#     list2_len = len(loc_list2.text.split()[1:])\n",
    "    list2_len = len(loc_list2.find_elements_by_xpath('option')[1:])\n",
    "    \n",
    "    for j in range(2, 2 + list2_len) :\n",
    "\n",
    "        loc_list2.click()\n",
    "        time.sleep(1)\n",
    "\n",
    "        xpath2 = f'//*[@id=\"app\"]/div[2]/div/div/div[2]/div/div[2]/div/div/div/div/div[1]/select[2]/option[{j}]'\n",
    "        loc_list2_cont = driver.find_element_by_xpath(xpath2)\n",
    "        loc_list2_cont.click()\n",
    "        time.sleep(1)\n",
    "\n",
    "        loc_list2.click()\n",
    "        time.sleep(1)\n",
    "        \n",
    "        print(loc_list2_cont.text)\n",
    "\n",
    "        # 매장정보 수집\n",
    "        page = driver.page_source\n",
    "        soup = BeautifulSoup(page, 'lxml')\n",
    "\n",
    "        store_list = soup.select_one('div.swiper-slide').select('ul.store-item')\n",
    "\n",
    "        if len(store_list) > 0 :\n",
    "\n",
    "            for o in store_list :\n",
    "                # 매장명\n",
    "                temp_store_name = o.select_one('a').text.strip()\n",
    "                store_name.append(temp_store_name)\n",
    "\n",
    "                # 매장주소\n",
    "                temp_store_addr = o.select_one('li.point').find_next().text\n",
    "                store_addr.append(temp_store_addr)\n",
    "\n",
    "#                 print(temp_store_name)\n",
    "                \n",
    "#                 store_name print(i.select_one('a').text.strip())\n",
    "        #         store_addr print(i.select_one('li.point').find_next().text)\n",
    "        #         print()\n",
    "        # swiper-slide\n",
    "        \n",
    "    dat_df = pd.DataFrame({'매장명':store_name,\n",
    "                           '매장 주소':store_addr})\n",
    "    \n",
    "#     now_time = time.strftime('%Y-%m-%d %H:%M:%S', time.localtime())\n",
    "#     file_name = f'KFC매장_{loc_list1_cont.text}_{now_time}.xlsx'\n",
    "    \n",
    "    # 폴더 확인 후 없으면 만듦\n",
    "    path = \"./data\"\n",
    "    if not os.path.isdir(path):                                                           \n",
    "        os.mkdir(path)\n",
    "\n",
    "    file_name = f'./data/KFC매장_{loc_list1_cont.text}.xlsx'\n",
    "    dat_df.to_excel(file_name, index=False)\n",
    "    \n",
    "    if file_name in os.listdir('./data') :\n",
    "        print(f'{file_name} 저장 완료')\n",
    "    else : \n",
    "        print(f'{file_name} 저장 실패')\n",
    "\n",
    "\n",
    "print('데이터 수집 완료')\n",
    "        # '//*[@id=\"app\"]/div[2]/div/div/div[2]/div/div[2]/div/div/div/div/div[1]/select[2]/option[2]'"
   ]
  },
  {
   "cell_type": "code",
   "execution_count": 175,
   "metadata": {},
   "outputs": [],
   "source": [
    "driver.close()"
   ]
  },
  {
   "cell_type": "code",
   "execution_count": 176,
   "metadata": {},
   "outputs": [
    {
     "name": "stdout",
     "output_type": "stream",
     "text": [
      "2 2\n"
     ]
    }
   ],
   "source": [
    "print(len(store_name), len(store_addr))"
   ]
  },
  {
   "cell_type": "code",
   "execution_count": 98,
   "metadata": {},
   "outputs": [
    {
     "data": {
      "text/plain": [
       "0"
      ]
     },
     "execution_count": 98,
     "metadata": {},
     "output_type": "execute_result"
    }
   ],
   "source": [
    "len(store_list)"
   ]
  },
  {
   "cell_type": "code",
   "execution_count": 152,
   "metadata": {},
   "outputs": [
    {
     "data": {
      "text/plain": [
       "'경기'"
      ]
     },
     "execution_count": 152,
     "metadata": {},
     "output_type": "execute_result"
    }
   ],
   "source": [
    "loc_list1_cont.text"
   ]
  },
  {
   "cell_type": "code",
   "execution_count": 170,
   "metadata": {},
   "outputs": [
    {
     "data": {
      "text/plain": [
       "['KFC매장_강원.xlsx',\n",
       " 'KFC매장_경기.xlsx',\n",
       " 'KFC매장_광주.xlsx',\n",
       " 'KFC매장_대구.xlsx',\n",
       " 'KFC매장_대전.xlsx',\n",
       " 'KFC매장_부산.xlsx',\n",
       " 'KFC매장_서울.xlsx',\n",
       " 'KFC매장_세종.xlsx',\n",
       " 'KFC매장_울산.xlsx',\n",
       " 'KFC매장_인천.xlsx']"
      ]
     },
     "execution_count": 170,
     "metadata": {},
     "output_type": "execute_result"
    }
   ],
   "source": [
    "os.listdir('./data')"
   ]
  },
  {
   "cell_type": "code",
   "execution_count": 96,
   "metadata": {},
   "outputs": [
    {
     "data": {
      "text/plain": [
       "<div class=\"swiper-slide\"><div class=\"empty msg\">해당 지역에 소속된 매장정보를 찾을 수 없습니다. </div></div>"
      ]
     },
     "execution_count": 96,
     "metadata": {},
     "output_type": "execute_result"
    }
   ],
   "source": [
    "store_list"
   ]
  },
  {
   "cell_type": "code",
   "execution_count": 31,
   "metadata": {},
   "outputs": [
    {
     "data": {
      "text/plain": [
       "17"
      ]
     },
     "execution_count": 31,
     "metadata": {},
     "output_type": "execute_result"
    }
   ],
   "source": [
    "list1_len = len(loc_list1.text.split()[1:])\n",
    "list1_len"
   ]
  },
  {
   "cell_type": "code",
   "execution_count": 27,
   "metadata": {},
   "outputs": [
    {
     "data": {
      "text/plain": [
       "' 구,군\\n강남구\\n강동구\\n강북구\\n강서구\\n관악구\\n광진구\\n구로구\\n금천구\\n노원구\\n도봉구\\n동대문구\\n동작구\\n마포구\\n서대문구\\n서초구\\n성동구\\n성북구\\n송파구\\n양천구\\n영등포구\\n용산구\\n은평구\\n종로구\\n중구\\n중랑구'"
      ]
     },
     "execution_count": 27,
     "metadata": {},
     "output_type": "execute_result"
    }
   ],
   "source": [
    "loc_list2.text"
   ]
  },
  {
   "cell_type": "code",
   "execution_count": 161,
   "metadata": {},
   "outputs": [
    {
     "data": {
      "text/plain": [
       "44"
      ]
     },
     "execution_count": 161,
     "metadata": {},
     "output_type": "execute_result"
    }
   ],
   "source": [
    "loc_list2 = driver.find_element_by_xpath('//*[@id=\"app\"]/div[2]/div/div/div[2]/div/div[2]/div/div/div/div/div[1]/select[2]')\n",
    "    \n",
    "# list2_len = len(loc_list2.text.split('\\n')[1:])\n",
    "list2_len = len(loc_list2.find_elements_by_xpath('option')[1:])\n",
    "# aaa = loc_list2.find_elements_by_xpath('option')\n",
    "# list2_len = len(loc_list2)\n",
    "# asdd = loc_list2.text.split()\n",
    "# len(asdd)\n",
    "# asdd[2]\n",
    "# loc_list2.text.split()[1:]\n",
    "# loc_list2.text\n",
    "list2_len\n",
    "# loc_list2.find_elements_by_xpath('option')[1].\n",
    "# len(loc_list2.find_elements_by_xpath('option')[1:])"
   ]
  },
  {
   "cell_type": "code",
   "execution_count": null,
   "metadata": {},
   "outputs": [],
   "source": [
    "for i in aaa :\n",
    "    print(i.select_one('a').text.strip())\n",
    "    print(i.select_one('li.point').find_next().text)\n",
    "    print()"
   ]
  },
  {
   "cell_type": "code",
   "execution_count": 112,
   "metadata": {},
   "outputs": [
    {
     "data": {
      "text/plain": [
       "64"
      ]
     },
     "execution_count": 112,
     "metadata": {},
     "output_type": "execute_result"
    }
   ],
   "source": [
    "list2_len = len(loc_list2.text.split()[1:])\n",
    "list2_len"
   ]
  },
  {
   "cell_type": "code",
   "execution_count": 37,
   "metadata": {},
   "outputs": [
    {
     "data": {
      "text/plain": [
       "'강남역 공유\\n서울 서초구 서초대로77길 15 (서초동) 6\\n02-532-4211\\n대치동 공유\\n서울 강남구 도곡로 517 (대치동) 서연빌딩 1층\\n02-501-0391\\n학동역 공유\\n서울 강남구 학동로 218 (논현동)\\n02-514-7333\\n코엑스MALL 공유\\n서울 강남구 영동대로 513 (삼성동) B1층 H102호\\n02-501-7295\\n일원동 공유\\n서울 강남구 일원로 28 (일원동)\\n02-445-6449\\n역삼역 공유\\n서울 강남구 논현로 509 (역삼동) 지상1층2층\\n02-569-2515\\n압구정1 공유\\n서울 강남구 논현로175길 7 (신사동)\\n02-545-2617\\n강남구청역 (구: 삼성동) 공유\\n서울 강남구 학동로 402 (삼성동) 천마빌딩 103호\\n02-547-1664'"
      ]
     },
     "execution_count": 37,
     "metadata": {},
     "output_type": "execute_result"
    }
   ],
   "source": [
    "driver.find_element_by_css_selector('div.swiper-slide')."
   ]
  },
  {
   "cell_type": "code",
   "execution_count": 79,
   "metadata": {},
   "outputs": [],
   "source": [
    "page = driver.page_source\n",
    "soup = BeautifulSoup(page, 'lxml')"
   ]
  },
  {
   "cell_type": "code",
   "execution_count": 80,
   "metadata": {},
   "outputs": [],
   "source": [
    "store_list = soup.select_one('div.swiper-slide')"
   ]
  },
  {
   "cell_type": "code",
   "execution_count": 81,
   "metadata": {},
   "outputs": [
    {
     "data": {
      "text/plain": [
       "0"
      ]
     },
     "execution_count": 81,
     "metadata": {},
     "output_type": "execute_result"
    }
   ],
   "source": [
    "len(store_list.select('ul.store-item'))"
   ]
  },
  {
   "cell_type": "code",
   "execution_count": 82,
   "metadata": {},
   "outputs": [],
   "source": [
    "aaa = store_list.select('ul.store-item')"
   ]
  },
  {
   "cell_type": "code",
   "execution_count": 146,
   "metadata": {},
   "outputs": [
    {
     "data": {
      "text/plain": [
       "45"
      ]
     },
     "execution_count": 146,
     "metadata": {},
     "output_type": "execute_result"
    }
   ],
   "source": [
    "len(aaa)"
   ]
  },
  {
   "cell_type": "code",
   "execution_count": 145,
   "metadata": {
    "scrolled": true
   },
   "outputs": [
    {
     "ename": "AttributeError",
     "evalue": "'WebElement' object has no attribute 'select_one'",
     "output_type": "error",
     "traceback": [
      "\u001b[1;31m---------------------------------------------------------------------------\u001b[0m",
      "\u001b[1;31mAttributeError\u001b[0m                            Traceback (most recent call last)",
      "\u001b[1;32m<ipython-input-145-88ed8af56c4e>\u001b[0m in \u001b[0;36m<module>\u001b[1;34m\u001b[0m\n\u001b[0;32m      1\u001b[0m \u001b[1;32mfor\u001b[0m \u001b[0mi\u001b[0m \u001b[1;32min\u001b[0m \u001b[0maaa\u001b[0m \u001b[1;33m:\u001b[0m\u001b[1;33m\u001b[0m\u001b[1;33m\u001b[0m\u001b[0m\n\u001b[1;32m----> 2\u001b[1;33m     \u001b[0mprint\u001b[0m\u001b[1;33m(\u001b[0m\u001b[0mi\u001b[0m\u001b[1;33m.\u001b[0m\u001b[0mselect_one\u001b[0m\u001b[1;33m(\u001b[0m\u001b[1;34m'a'\u001b[0m\u001b[1;33m)\u001b[0m\u001b[1;33m.\u001b[0m\u001b[0mtext\u001b[0m\u001b[1;33m.\u001b[0m\u001b[0mstrip\u001b[0m\u001b[1;33m(\u001b[0m\u001b[1;33m)\u001b[0m\u001b[1;33m)\u001b[0m\u001b[1;33m\u001b[0m\u001b[1;33m\u001b[0m\u001b[0m\n\u001b[0m\u001b[0;32m      3\u001b[0m     \u001b[0mprint\u001b[0m\u001b[1;33m(\u001b[0m\u001b[0mi\u001b[0m\u001b[1;33m.\u001b[0m\u001b[0mselect_one\u001b[0m\u001b[1;33m(\u001b[0m\u001b[1;34m'li.point'\u001b[0m\u001b[1;33m)\u001b[0m\u001b[1;33m.\u001b[0m\u001b[0mfind_next\u001b[0m\u001b[1;33m(\u001b[0m\u001b[1;33m)\u001b[0m\u001b[1;33m.\u001b[0m\u001b[0mtext\u001b[0m\u001b[1;33m)\u001b[0m\u001b[1;33m\u001b[0m\u001b[1;33m\u001b[0m\u001b[0m\n\u001b[0;32m      4\u001b[0m     \u001b[0mprint\u001b[0m\u001b[1;33m(\u001b[0m\u001b[1;33m)\u001b[0m\u001b[1;33m\u001b[0m\u001b[1;33m\u001b[0m\u001b[0m\n",
      "\u001b[1;31mAttributeError\u001b[0m: 'WebElement' object has no attribute 'select_one'"
     ]
    }
   ],
   "source": [
    "for i in aaa :\n",
    "    print(i.select_one('a').text.strip())\n",
    "    print(i.select_one('li.point').find_next().text)\n",
    "    print()\n"
   ]
  },
  {
   "cell_type": "code",
   "execution_count": 58,
   "metadata": {},
   "outputs": [],
   "source": [
    "aa = aaa[0]"
   ]
  },
  {
   "cell_type": "code",
   "execution_count": 72,
   "metadata": {},
   "outputs": [],
   "source": [
    "a = aa.select_one('li.point')"
   ]
  },
  {
   "cell_type": "code",
   "execution_count": 73,
   "metadata": {},
   "outputs": [
    {
     "data": {
      "text/plain": [
       "'서울 서초구 서초대로77길 15 (서초동) 6'"
      ]
     },
     "execution_count": 73,
     "metadata": {},
     "output_type": "execute_result"
    }
   ],
   "source": [
    "a.find_next().text"
   ]
  },
  {
   "cell_type": "code",
   "execution_count": null,
   "metadata": {},
   "outputs": [],
   "source": [
    ".select_one('li.point').find_next().text"
   ]
  }
 ],
 "metadata": {
  "kernelspec": {
   "display_name": "Python 3",
   "language": "python",
   "name": "python3"
  },
  "language_info": {
   "codemirror_mode": {
    "name": "ipython",
    "version": 3
   },
   "file_extension": ".py",
   "mimetype": "text/x-python",
   "name": "python",
   "nbconvert_exporter": "python",
   "pygments_lexer": "ipython3",
   "version": "3.7.3"
  }
 },
 "nbformat": 4,
 "nbformat_minor": 2
}
