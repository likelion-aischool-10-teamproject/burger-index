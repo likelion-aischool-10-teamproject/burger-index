{
 "cells": [
  {
   "cell_type": "code",
   "execution_count": 16,
   "metadata": {},
   "outputs": [],
   "source": [
    "from selenium import webdriver\n",
    "from selenium.webdriver.common.by import By\n",
    "from selenium.webdriver.support.ui import WebDriverWait\n",
    "from selenium.webdriver.support import expected_conditions\n",
    "from bs4 import BeautifulSoup\n",
    "import pandas as pd\n",
    "import time\n",
    "# import pandas as pd\n",
    "# import os\n",
    "import platform"
   ]
  },
  {
   "cell_type": "code",
   "execution_count": 21,
   "metadata": {},
   "outputs": [],
   "source": [
    "wd = webdriver.Chrome('./chromedriver.exe')\n",
    "wd.get('https://www.mcdonalds.co.kr/kor/store/main.do')"
   ]
  },
  {
   "cell_type": "code",
   "execution_count": 22,
   "metadata": {},
   "outputs": [],
   "source": [
    "search_btn = wd.find_element_by_xpath('//*[@id=\"searchForm\"]/div/fieldset/div/button')\n",
    "search_btn.click()"
   ]
  },
  {
   "cell_type": "code",
   "execution_count": 14,
   "metadata": {},
   "outputs": [],
   "source": [
    "page = wd.page_source\n",
    "soup = BeautifulSoup(page, 'lxml')"
   ]
  },
  {
   "cell_type": "code",
   "execution_count": 27,
   "metadata": {},
   "outputs": [
    {
     "name": "stdout",
     "output_type": "stream",
     "text": [
      "1 : not exist\n",
      "2 : not exist\n",
      "3 : not exist\n",
      "4 : not exist\n",
      "5 : not exist\n",
      "6 : not exist\n",
      "7 : not exist\n",
      "8 : not exist\n",
      "9 : not exist\n",
      "10 : not exist\n",
      "11 : not exist\n",
      "12 : not exist\n",
      "13 : not exist\n",
      "14 : not exist\n",
      "15 : not exist\n",
      "16 : not exist\n",
      "17 : not exist\n",
      "18 : not exist\n",
      "19 : not exist\n",
      "20 : not exist\n",
      "21 : not exist\n",
      "22 : not exist\n",
      "23 : not exist\n",
      "24 : not exist\n",
      "25 : not exist\n",
      "26 : not exist\n",
      "27 : not exist\n",
      "28 : not exist\n",
      "29 : not exist\n",
      "30 : not exist\n",
      "31 : not exist\n",
      "32 : not exist\n",
      "33 : not exist\n",
      "34 : not exist\n",
      "35 : not exist\n",
      "36 : not exist\n",
      "37 : not exist\n",
      "38 : not exist\n",
      "39 : not exist\n",
      "40 : not exist\n",
      "41 : not exist\n",
      "42 : not exist\n",
      "43 : not exist\n",
      "44 : not exist\n",
      "45 : not exist\n",
      "46 : not exist\n",
      "47 : not exist\n",
      "48 : not exist\n",
      "49 : not exist\n",
      "50 : not exist\n",
      "51 : not exist\n",
      "52 : not exist\n",
      "53 : not exist\n",
      "54 : not exist\n",
      "55 : not exist\n",
      "56 : not exist\n",
      "57 : not exist\n",
      "58 : not exist\n",
      "59 : not exist\n",
      "60 : not exist\n",
      "61 : not exist\n",
      "62 : not exist\n",
      "63 : not exist\n",
      "64 : not exist\n",
      "65 : not exist\n",
      "66 : not exist\n",
      "67 : not exist\n",
      "68 : not exist\n",
      "69 : not exist\n",
      "70 : not exist\n",
      "71 : not exist\n",
      "72 : not exist\n",
      "73 : not exist\n",
      "74 : not exist\n",
      "75 : not exist\n",
      "76 : not exist\n",
      "77 : not exist\n",
      "78 : not exist\n",
      "79 : not exist\n",
      "80 : not exist\n",
      "81 : not exist\n",
      "Completed..\n"
     ]
    }
   ],
   "source": [
    "result = []\n",
    "for i in range(1, 82):\n",
    "    try:\n",
    "        wd.execute_script('page(%d)' %i)\n",
    "        wd.implicitly_wait(10) \n",
    "        html = wd.page_source\n",
    "        store_list = soup.select('dl.name')\n",
    "        temp_store_name = i.select_one('a').text\n",
    "        temp_store_addr = i.select_one('dd.road').text\n",
    "        result.append([temp_store_name, temp_store_address])\n",
    "        print(f'{i} : {temp_store_name} {temp_store_address}')\n",
    "        \n",
    "    except:\n",
    "        print(f'{i} : not exist')\n",
    "        continue\n",
    "wd.quit()\n",
    "df = pd.DataFrame(result, columns = ('name', 'address'))\n",
    "df.to_csv('./mcdonald.csv', encoding='utf-8', mode='w', index=False)\n",
    "print('Completed..')\n"
   ]
  },
  {
   "cell_type": "code",
   "execution_count": 26,
   "metadata": {},
   "outputs": [
    {
     "ename": "AttributeError",
     "evalue": "'int' object has no attribute 'select_one'",
     "output_type": "error",
     "traceback": [
      "\u001b[1;31m---------------------------------------------------------------------------\u001b[0m",
      "\u001b[1;31mAttributeError\u001b[0m                            Traceback (most recent call last)",
      "\u001b[1;32m<ipython-input-26-c166941d9999>\u001b[0m in \u001b[0;36m<module>\u001b[1;34m\u001b[0m\n\u001b[0;32m      2\u001b[0m     \u001b[0mhtml\u001b[0m \u001b[1;33m=\u001b[0m \u001b[0mwd\u001b[0m\u001b[1;33m.\u001b[0m\u001b[0mpage_source\u001b[0m\u001b[1;33m\u001b[0m\u001b[1;33m\u001b[0m\u001b[0m\n\u001b[0;32m      3\u001b[0m     \u001b[0mstore_list\u001b[0m \u001b[1;33m=\u001b[0m \u001b[0msoup\u001b[0m\u001b[1;33m.\u001b[0m\u001b[0mselect\u001b[0m\u001b[1;33m(\u001b[0m\u001b[1;34m'dl.name'\u001b[0m\u001b[1;33m)\u001b[0m\u001b[1;33m\u001b[0m\u001b[1;33m\u001b[0m\u001b[0m\n\u001b[1;32m----> 4\u001b[1;33m     \u001b[0mtemp_store_name\u001b[0m \u001b[1;33m=\u001b[0m \u001b[0mi\u001b[0m\u001b[1;33m.\u001b[0m\u001b[0mselect_one\u001b[0m\u001b[1;33m(\u001b[0m\u001b[1;34m'a'\u001b[0m\u001b[1;33m)\u001b[0m\u001b[1;33m.\u001b[0m\u001b[0mtext\u001b[0m\u001b[1;33m\u001b[0m\u001b[1;33m\u001b[0m\u001b[0m\n\u001b[0m\u001b[0;32m      5\u001b[0m     \u001b[0mtemp_store_addr\u001b[0m \u001b[1;33m=\u001b[0m \u001b[0mi\u001b[0m\u001b[1;33m.\u001b[0m\u001b[0mselect_one\u001b[0m\u001b[1;33m(\u001b[0m\u001b[1;34m'dd.road'\u001b[0m\u001b[1;33m)\u001b[0m\u001b[1;33m.\u001b[0m\u001b[0mtext\u001b[0m\u001b[1;33m\u001b[0m\u001b[1;33m\u001b[0m\u001b[0m\n\u001b[0;32m      6\u001b[0m     \u001b[0mresult\u001b[0m\u001b[1;33m.\u001b[0m\u001b[0mappend\u001b[0m\u001b[1;33m(\u001b[0m\u001b[1;33m[\u001b[0m\u001b[0mtemp_store_name\u001b[0m\u001b[1;33m,\u001b[0m \u001b[0mtemp_store_address\u001b[0m\u001b[1;33m]\u001b[0m\u001b[1;33m)\u001b[0m\u001b[1;33m\u001b[0m\u001b[1;33m\u001b[0m\u001b[0m\n",
      "\u001b[1;31mAttributeError\u001b[0m: 'int' object has no attribute 'select_one'"
     ]
    }
   ],
   "source": [
    "for i in range(1, 82):\n",
    "    html = wd.page_source\n",
    "    store_list = soup.select('dl.name')\n",
    "    temp_store_name = i.select_one('a').text\n",
    "    temp_store_addr = i.select_one('dd.road').text\n",
    "    result.append([temp_store_name, temp_store_address])\n",
    "    print(f'{i} : {temp_store_name} {temp_store_address}')"
   ]
  },
  {
   "cell_type": "code",
   "execution_count": 19,
   "metadata": {},
   "outputs": [
    {
     "ename": "SyntaxError",
     "evalue": "'break' outside loop (<ipython-input-19-6aaf1f276005>, line 1)",
     "output_type": "error",
     "traceback": [
      "\u001b[1;36m  File \u001b[1;32m\"<ipython-input-19-6aaf1f276005>\"\u001b[1;36m, line \u001b[1;32m1\u001b[0m\n\u001b[1;33m    break\u001b[0m\n\u001b[1;37m    ^\u001b[0m\n\u001b[1;31mSyntaxError\u001b[0m\u001b[1;31m:\u001b[0m 'break' outside loop\n"
     ]
    }
   ],
   "source": []
  },
  {
   "cell_type": "code",
   "execution_count": null,
   "metadata": {},
   "outputs": [],
   "source": []
  }
 ],
 "metadata": {
  "kernelspec": {
   "display_name": "Python 3",
   "language": "python",
   "name": "python3"
  }
 },
 "nbformat": 4,
 "nbformat_minor": 4
}
